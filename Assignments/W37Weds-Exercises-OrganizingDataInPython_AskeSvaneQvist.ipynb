{
 "cells": [
  {
   "cell_type": "markdown",
   "metadata": {},
   "source": [
    "Aske Svane Qvist"
   ]
  },
  {
   "cell_type": "markdown",
   "metadata": {},
   "source": [
    "# Exercise W37Wed: Structures\n",
    "\n",
    "Builds on exercises provided with Programming with Python for Social Science by Phillip Brooker and from Social Data Science 2019 by Andreas Bjerre-Nielson.\n"
   ]
  },
  {
   "cell_type": "markdown",
   "metadata": {},
   "source": [
    "## 1. Strings\n",
    "\n",
    "You learned basic things about strings last week. You can also break strings into sub-strings by slicing them with the `[]` notation, like you would with a list. The notation is `string[start: end]` where start is included and end is excluded. \n",
    "\n",
    "> *Recall that Python has zero-based indexing, see explanation [here](https://softwareengineering.stackexchange.com/questions/110804/why-are-zero-based-arrays-the-norm).*\n",
    "\n",
    "Strings also have a variety of methods that help you manipulate them in various useful ways. \n",
    "\n",
    "> *Remember that you can consult the [documentation for strings](https://docs.python.org/2.5/lib/string-methods.html) to find relevant methods.*\n"
   ]
  },
  {
   "cell_type": "markdown",
   "metadata": {},
   "source": [
    "> **Task 1.1**: Let `s1 = 'Chameleon`. From the string `s1` select the last four characters. What is the index of the character `a` in `s1`?"
   ]
  },
  {
   "cell_type": "code",
   "execution_count": 1,
   "metadata": {},
   "outputs": [
    {
     "name": "stdout",
     "output_type": "stream",
     "text": [
      "leon\n"
     ]
    }
   ],
   "source": [
    "s1 = \"Chameleon\"\n",
    "last4 = s1[-4:]\n",
    "print(last4)"
   ]
  },
  {
   "cell_type": "code",
   "execution_count": 2,
   "metadata": {},
   "outputs": [
    {
     "data": {
      "text/plain": [
       "2"
      ]
     },
     "execution_count": 2,
     "metadata": {},
     "output_type": "execute_result"
    }
   ],
   "source": [
    "s1.index(\"a\") # index 2"
   ]
  },
  {
   "cell_type": "markdown",
   "metadata": {},
   "source": [
    "> **Task 1.2**: Create a string `my_url` that is a URL of your choice. Retrieve the part of a string before a specified character. For example, if your URL is the link for our course: https://kurser.ku.dk/course/ASDK20001U and specific character is the last '/', then you should retrieve https://kurser.ku.dk/course. "
   ]
  },
  {
   "cell_type": "code",
   "execution_count": 3,
   "metadata": {},
   "outputs": [
    {
     "data": {
      "text/plain": [
       "'https://www.dr.dk/nyheder'"
      ]
     },
     "execution_count": 3,
     "metadata": {},
     "output_type": "execute_result"
    }
   ],
   "source": [
    "my_url = \"https://www.dr.dk/nyheder/udland/ord-ord-von-der-leyen-gjorde-status-paa-eu\"\n",
    "\n",
    "# Split from the right - split twice thus I have three strings\n",
    "url_sub = my_url.rsplit(\"/\", 2)\n",
    "# Take the first string in the list.\n",
    "url_sub = url_sub[0]\n",
    "url_sub\n"
   ]
  },
  {
   "cell_type": "markdown",
   "metadata": {},
   "source": [
    "## 2. Dictionaries\n",
    "Dictionaries are useful when you want to associate pieces of data together. They are also another building block underlying DataFrames. "
   ]
  },
  {
   "cell_type": "markdown",
   "metadata": {},
   "source": [
    "> **Task 2.1**: Suppose you want to make a new dictionary that stores information about you. Make a dictionary called `my_dictionary` that stores:\n",
    "> - Your favourite animal\n",
    "> - Your favourite colour\n",
    "> - Your favourite TV Show\n",
    "> - Your favourite film"
   ]
  },
  {
   "cell_type": "code",
   "execution_count": 4,
   "metadata": {},
   "outputs": [],
   "source": [
    "my_dictionary = {\"animal\": \"cat\", \"color\": \"green\", \"tv\": \"Borgen\", \"film\": \"druk\"}"
   ]
  },
  {
   "cell_type": "code",
   "execution_count": 5,
   "metadata": {},
   "outputs": [
    {
     "data": {
      "text/plain": [
       "{'animal': 'cat', 'color': 'green', 'tv': 'Borgen', 'film': 'druk'}"
      ]
     },
     "execution_count": 5,
     "metadata": {},
     "output_type": "execute_result"
    }
   ],
   "source": [
    "my_dictionary"
   ]
  },
  {
   "cell_type": "markdown",
   "metadata": {},
   "source": [
    "> **Task 2.2**: Add a key and value to the your dictionary with your favourite band or artist. "
   ]
  },
  {
   "cell_type": "code",
   "execution_count": 6,
   "metadata": {},
   "outputs": [],
   "source": [
    "my_dictionary[\"band\"] = \"Major Lazer\""
   ]
  },
  {
   "cell_type": "code",
   "execution_count": 7,
   "metadata": {},
   "outputs": [
    {
     "data": {
      "text/plain": [
       "{'animal': 'cat',\n",
       " 'color': 'green',\n",
       " 'tv': 'Borgen',\n",
       " 'film': 'druk',\n",
       " 'band': 'Major Lazer'}"
      ]
     },
     "execution_count": 7,
     "metadata": {},
     "output_type": "execute_result"
    }
   ],
   "source": [
    "my_dictionary"
   ]
  },
  {
   "cell_type": "markdown",
   "metadata": {},
   "source": [
    ">**Task 2.3**: \n",
    "> 1. Delete the favourite film field.\n",
    "> 2. Create an empty dictionary with the variable name as your favourite movie \n",
    "> 3. Populate the dictionary with the following keys (and give them values): \n",
    "    - Year\n",
    "    - Genre\n",
    "> 4. Do steps 2 and 3 for a two or three movies. \n",
    "> 5. Add the dictionaries of movies to a new dictionary called `favourite_movies` with the movie title as the key for each entry. \n",
    "> 6. Add `favourite_movies` to your `my_dictionary` under the key \"Favourite movies\"\n",
    "\n"
   ]
  },
  {
   "cell_type": "code",
   "execution_count": 8,
   "metadata": {},
   "outputs": [
    {
     "data": {
      "text/plain": [
       "'druk'"
      ]
     },
     "execution_count": 8,
     "metadata": {},
     "output_type": "execute_result"
    }
   ],
   "source": [
    "# 1\n",
    "# I use pop to remove key from dict.\n",
    "my_dictionary.pop('film', None)"
   ]
  },
  {
   "cell_type": "code",
   "execution_count": 9,
   "metadata": {},
   "outputs": [],
   "source": [
    "# 2\n",
    "druk = {}"
   ]
  },
  {
   "cell_type": "code",
   "execution_count": 10,
   "metadata": {},
   "outputs": [],
   "source": [
    "# 3\n",
    "druk[\"Year\"] = 2020\n",
    "druk[\"Genre\"] = \"Drama/Comedy\""
   ]
  },
  {
   "cell_type": "code",
   "execution_count": 11,
   "metadata": {},
   "outputs": [],
   "source": [
    "# 4\n",
    "respect = {}\n",
    "respect[\"Year\"] = 2021\n",
    "respect[\"Genre\"] = \"Drama\"\n",
    "\n",
    "avengers = {}\n",
    "avengers[\"Year\"] = 2012\n",
    "avengers[\"Genre\"] = \"Action\""
   ]
  },
  {
   "cell_type": "code",
   "execution_count": 12,
   "metadata": {},
   "outputs": [
    {
     "data": {
      "text/plain": [
       "{'respect': {'Year': 2021, 'Genre': 'Drama'},\n",
       " 'druk': {'Year': 2020, 'Genre': 'Drama/Comedy'},\n",
       " 'avengers': {'Year': 2012, 'Genre': 'Action'}}"
      ]
     },
     "execution_count": 12,
     "metadata": {},
     "output_type": "execute_result"
    }
   ],
   "source": [
    "# 5\n",
    "favourite_movies = {}\n",
    "favourite_movies[\"respect\"] = respect\n",
    "favourite_movies[\"druk\"] = druk\n",
    "favourite_movies[\"avengers\"] = avengers\n",
    "favourite_movies"
   ]
  },
  {
   "cell_type": "code",
   "execution_count": 13,
   "metadata": {},
   "outputs": [
    {
     "data": {
      "text/plain": [
       "{'animal': 'cat',\n",
       " 'color': 'green',\n",
       " 'tv': 'Borgen',\n",
       " 'band': 'Major Lazer',\n",
       " 'Favourite Movies': {'respect': {'Year': 2021, 'Genre': 'Drama'},\n",
       "  'druk': {'Year': 2020, 'Genre': 'Drama/Comedy'},\n",
       "  'avengers': {'Year': 2012, 'Genre': 'Action'}}}"
      ]
     },
     "execution_count": 13,
     "metadata": {},
     "output_type": "execute_result"
    }
   ],
   "source": [
    "my_dictionary[\"Favourite Movies\"] = favourite_movies\n",
    "my_dictionary"
   ]
  },
  {
   "cell_type": "markdown",
   "metadata": {},
   "source": [
    "> **Task 2.4**: See if you can print out different keys and values from `my_dictionary`."
   ]
  },
  {
   "cell_type": "code",
   "execution_count": 14,
   "metadata": {},
   "outputs": [
    {
     "data": {
      "text/plain": [
       "2012"
      ]
     },
     "execution_count": 14,
     "metadata": {},
     "output_type": "execute_result"
    }
   ],
   "source": [
    "# print 'first layer' key\n",
    "my_dictionary[\"animal\"]\n",
    "# Dig down in the nested dictionaries\n",
    "my_dictionary[\"Favourite Movies\"][\"avengers\"][\"Year\"]"
   ]
  },
  {
   "cell_type": "markdown",
   "metadata": {},
   "source": [
    "> **Task 2.5:** In previous exercises you created the SODAS Dataframe. Here, you are given the code to convert part of that dataframe into a dictionary. This should be useful as later, when you start using the Twitter API, you might want to check if a person has a twitter handle before trying to search for them on Twitter. \n",
    "Using the `sodas_twitter_dict` given below, write an if statement that checks if a person has a Twitter handle. If they do, print out the handle. If they don't, print out 'No Twitter handle available.' \n",
    ">\n",
    ">*Hint: First create a variable `name`, which is equal to the name of the person you want to search. You can then change the value of the variable to test your if-statement*\n",
    ">\n",
    ">*Hint 2: You'll need to use the pandas `pd.isna(value)` to check the value of the twitter handle, which returns True if the value is equivalent to nan (i.e. nothing) and False otherwise.*\n",
    ">\n",
    ">*Note: You should not yet be able to convert the pandas dataframe into a dictionary. This is why the code is already given below.*\n",
    "\n"
   ]
  },
  {
   "cell_type": "code",
   "execution_count": 33,
   "metadata": {},
   "outputs": [],
   "source": [
    "# Loading the pandas module\n",
    "import pandas as pd\n",
    "\n",
    "# Loading the SODAS dataframe\n",
    "\n",
    "url = 'https://dl.dropboxusercontent.com/s/9war4suj1s5j1ah/sodas_people_twitter_scholar.csv?dl=1'\n",
    "\n",
    "sodas_people_df = pd.read_csv(url)\n",
    "\n",
    "# selecting the columns we are interested in\n",
    "\n",
    "sodas_people_twitter_df = sodas_people_df[['name', 'twitter_handle']] \n",
    "\n",
    "# converting to dictionary\n",
    "\n",
    "sodas_twitter_dict = sodas_people_twitter_df.set_index('name')['twitter_handle'].to_dict()"
   ]
  },
  {
   "cell_type": "code",
   "execution_count": 34,
   "metadata": {},
   "outputs": [
    {
     "name": "stdout",
     "output_type": "stream",
     "text": [
      "daviddlassen\n"
     ]
    }
   ],
   "source": [
    "# define name\n",
    "name = 'David Dreyer Lassen'\n",
    "\n",
    "# Test whether the twitter handle is 'nan'\n",
    "if pd.isna(sodas_twitter_dict[name]) == True:\n",
    "    \n",
    "    # if true print message\n",
    "    print(\"No Twitter handle available.\")\n",
    "\n",
    "else:\n",
    "    # print the twitter handle\n",
    "    print(sodas_twitter_dict[name])"
   ]
  },
  {
   "cell_type": "markdown",
   "metadata": {},
   "source": [
    "## 4. Tuples\n",
    "\n",
    "As you may already know, tuples are immutable objects. In this part of the exercise, our aim is to understand how tuple operations work. For that purpose we will be working with the following tuple:"
   ]
  },
  {
   "cell_type": "code",
   "execution_count": 17,
   "metadata": {},
   "outputs": [],
   "source": [
    "my_tuple = (\"Samantha\", [50, 60, 70], (1, 2, 3))"
   ]
  },
  {
   "cell_type": "markdown",
   "metadata": {},
   "source": [
    ">**Task 4.1**: Reverse the tuple."
   ]
  },
  {
   "cell_type": "code",
   "execution_count": 18,
   "metadata": {},
   "outputs": [
    {
     "data": {
      "text/plain": [
       "((1, 2, 3), [50, 60, 70], 'Samantha')"
      ]
     },
     "execution_count": 18,
     "metadata": {},
     "output_type": "execute_result"
    }
   ],
   "source": [
    "my_tuple = my_tuple[::-1]\n",
    "my_tuple"
   ]
  },
  {
   "cell_type": "markdown",
   "metadata": {},
   "source": [
    ">**Task 4.2**: Access the value 3 of your tuple."
   ]
  },
  {
   "cell_type": "code",
   "execution_count": 19,
   "metadata": {},
   "outputs": [
    {
     "data": {
      "text/plain": [
       "'Samantha'"
      ]
     },
     "execution_count": 19,
     "metadata": {},
     "output_type": "execute_result"
    }
   ],
   "source": [
    "# index start at 0\n",
    "my_tuple[2]"
   ]
  },
  {
   "cell_type": "markdown",
   "metadata": {},
   "source": [
    ">**Task 4.3**: Copy the element \"Samantha\" and the inner tuple, that is (1, 2, 3), into a new tuple. "
   ]
  },
  {
   "cell_type": "code",
   "execution_count": 20,
   "metadata": {},
   "outputs": [
    {
     "data": {
      "text/plain": [
       "((1, 2, 3), 'Samantha')"
      ]
     },
     "execution_count": 20,
     "metadata": {},
     "output_type": "execute_result"
    }
   ],
   "source": [
    "new_tuple = (my_tuple[0], my_tuple[2])\n",
    "new_tuple"
   ]
  },
  {
   "cell_type": "markdown",
   "metadata": {},
   "source": [
    ">**Task 4.4**: Modify the second element of the list that is inside my_tuple. Then modify the third element that is inside my_tuple. What happens? "
   ]
  },
  {
   "cell_type": "code",
   "execution_count": 21,
   "metadata": {},
   "outputs": [],
   "source": [
    "# Overwrite element from the list in the tuple\n",
    "my_tuple[1][1] = 61"
   ]
  },
  {
   "cell_type": "code",
   "execution_count": 22,
   "metadata": {},
   "outputs": [
    {
     "ename": "TypeError",
     "evalue": "'tuple' object does not support item assignment",
     "output_type": "error",
     "traceback": [
      "\u001b[1;31m---------------------------------------------------------------------------\u001b[0m",
      "\u001b[1;31mTypeError\u001b[0m                                 Traceback (most recent call last)",
      "\u001b[1;32m<ipython-input-22-21c769fe5d0f>\u001b[0m in \u001b[0;36m<module>\u001b[1;34m\u001b[0m\n\u001b[1;32m----> 1\u001b[1;33m \u001b[0mmy_tuple\u001b[0m\u001b[1;33m[\u001b[0m\u001b[1;36m0\u001b[0m\u001b[1;33m]\u001b[0m\u001b[1;33m[\u001b[0m\u001b[1;36m2\u001b[0m\u001b[1;33m]\u001b[0m \u001b[1;33m=\u001b[0m \u001b[1;36m4\u001b[0m\u001b[1;33m\u001b[0m\u001b[1;33m\u001b[0m\u001b[0m\n\u001b[0m",
      "\u001b[1;31mTypeError\u001b[0m: 'tuple' object does not support item assignment"
     ]
    }
   ],
   "source": [
    "my_tuple[0][2] = 4"
   ]
  },
  {
   "cell_type": "markdown",
   "metadata": {},
   "source": [
    "It works when I try to modify an element in the list in the tuple but not when I try to modify the tuple in the tuple."
   ]
  },
  {
   "cell_type": "markdown",
   "metadata": {},
   "source": [
    "## 5. Sets"
   ]
  },
  {
   "cell_type": "markdown",
   "metadata": {},
   "source": [
    "> **Task 5.1**: the following line of code selects the 'role' column from the SODAS people dataframe:\n",
    ">\n",
    ">```python\n",
    "sodas_people_df['role']\n",
    "> ```\n",
    "> \n",
    ">Think about whether you would store the information in this column in a list or in a set and why. Try doing both and see what happens. "
   ]
  },
  {
   "cell_type": "code",
   "execution_count": 23,
   "metadata": {},
   "outputs": [
    {
     "data": {
      "text/plain": [
       "['SODAS steering committee',\n",
       " 'SODAS steering committee',\n",
       " 'SODAS steering committee']"
      ]
     },
     "execution_count": 23,
     "metadata": {},
     "output_type": "execute_result"
    }
   ],
   "source": [
    "role_list = list(sodas_people_df['role'])\n",
    "role_list[0:3]"
   ]
  },
  {
   "cell_type": "code",
   "execution_count": 24,
   "metadata": {},
   "outputs": [
    {
     "data": {
      "text/plain": [
       "{'Administration',\n",
       " 'Assistant Professor',\n",
       " 'PhD Student',\n",
       " 'Postdoctoral Researcher',\n",
       " 'Research Assistant',\n",
       " 'SODAS Affiliated',\n",
       " 'SODAS steering committee',\n",
       " 'Student Assistant'}"
      ]
     },
     "execution_count": 24,
     "metadata": {},
     "output_type": "execute_result"
    }
   ],
   "source": [
    "role_set = set(role_list)\n",
    "role_set"
   ]
  },
  {
   "cell_type": "markdown",
   "metadata": {},
   "source": [
    "When storing the information as 'set', all duplicates disappear\n",
    "- fast overview of the different roles employees have <br>\n",
    "\n",
    "When storing as a list, we keep all values\n",
    "- we have every the role for every employee "
   ]
  },
  {
   "cell_type": "markdown",
   "metadata": {},
   "source": [
    "> **Task 5.2**: Check if SODAS people role set has any elements in common with a new role set that contains 'Teaching Assistant', Friedolin Merhout and Helene Willadsen's roles. If yes, display the common elements between them. If not, print \"These two sets have no roles in common\".\n",
    ">\n",
    "> *Note 1*: See [python set methods](https://www.w3schools.com/python/python_ref_set.asp) for help.\n",
    ">\n",
    "> *Note 2*: Please do not code in order to obtain Friedolin and Helene roles. You only need to look at the dataframe."
   ]
  },
  {
   "cell_type": "code",
   "execution_count": 25,
   "metadata": {},
   "outputs": [
    {
     "name": "stdout",
     "output_type": "stream",
     "text": [
      "{'Assistant Professor', 'Postdoctoral Researcher'}\n"
     ]
    }
   ],
   "source": [
    "new_roles = {\"Teaching Assistant\", \"Postdoctoral Researcher\", \"Assistant Professor\"}\n",
    "\n",
    "# if there exist any values that are teh same in the two sets - print d\n",
    "if len(role_set.intersection(new_roles)) > 0:\n",
    "    print(role_set.intersection(new_roles))\n",
    "    \n",
    "else:\n",
    "    print(\"These two elements have no roles in common\")"
   ]
  },
  {
   "cell_type": "markdown",
   "metadata": {},
   "source": [
    "## 6. Variable names\n",
    "\n",
    "> **Task 6.1**: Choose three variables that you have defined in this notebook and explain why you have named them like that. Do you think the names are meaningful and enough for you and others to understand the content they store?\n"
   ]
  },
  {
   "cell_type": "markdown",
   "metadata": {},
   "source": [
    "__role_set:__\n",
    "I named one variable role_set because it is a set of roles as opposed to role_list. In that way, I know whether I am working with a set of roles or a list of roles.\n",
    "\n",
    "__role_list:__\n",
    "In relation, I named the list of roles for 'role_list' to make them distinguishable.\n",
    "\n",
    "__new_tuple:__ \n",
    "I make another tuple apart from the predefined 'my_tuple'. I thought i made sense to call it 'new_tuple'. However, it might end up being problemtic in case I were to create even more tuples. Luckely, that was not the case\n",
    "\n",
    "*I generally use underscores when writing variable names to make it clear when I use more than one word*"
   ]
  },
  {
   "cell_type": "markdown",
   "metadata": {},
   "source": [
    "## 7. Reflection\n",
    "> Write a brief paragraph reflecting on your experience learning programming today. What did you struggle with? What did you enjoy? What surprised you?"
   ]
  },
  {
   "cell_type": "markdown",
   "metadata": {},
   "source": [
    "- I think it was super nice to work through sets and dictionaries - I never did that and it is nice to get an intuitive good basic understanding of how these containers work (and not just lists) :D\n",
    "- I enjoyed that we were asked to use ifelse statements so we are using the stuff from earlier lectures\n",
    "- It is nice that we have to look up online in order to get through. It is a nice practice."
   ]
  },
  {
   "cell_type": "markdown",
   "metadata": {},
   "source": [
    "## 8. Bonus exercise\n",
    "\n",
    ">**Task 8.1**: Imagine you are interested in retriving followers information from the SODAS dataset. Store the the names of the SODAS people in a list and in a separate list store the number of followers of each person. Retrive the number of followers of David Dreyer Lassen and Sune Lehmann and calculate the difference in the number of followers between them (in absolute values). \n",
    ">\n",
    ">Now try calculating the same for David Dreyer Lassen and Kristin Anabel Eggeling. What happens? \n",
    ">\n",
    ">Discuss whether there is an ethical issue by using this dataframe to compare followers between different persons on the SODAS database?"
   ]
  },
  {
   "cell_type": "code",
   "execution_count": 26,
   "metadata": {},
   "outputs": [],
   "source": [
    "# Create list of names \n",
    "sodas_names = list(sodas_people_df[\"name\"])"
   ]
  },
  {
   "cell_type": "code",
   "execution_count": 27,
   "metadata": {},
   "outputs": [],
   "source": [
    "# create list of followers\n",
    "sodas_followers = list(sodas_people_df[\"twitter_followers_n\"])"
   ]
  },
  {
   "cell_type": "code",
   "execution_count": 28,
   "metadata": {},
   "outputs": [
    {
     "data": {
      "text/plain": [
       "3"
      ]
     },
     "execution_count": 28,
     "metadata": {},
     "output_type": "execute_result"
    }
   ],
   "source": [
    "# Get name index in the list to retrieve followers in the other list\n",
    "sodas_names.index(\"David Dreyer Lassen\")\n",
    "sodas_names.index(\"Sune Lehmann\")"
   ]
  },
  {
   "cell_type": "code",
   "execution_count": 29,
   "metadata": {},
   "outputs": [
    {
     "data": {
      "text/plain": [
       "1890.0"
      ]
     },
     "execution_count": 29,
     "metadata": {},
     "output_type": "execute_result"
    }
   ],
   "source": [
    "# Get their followers\n",
    "Lassen_followers = sodas_followers[sodas_names.index(\"David Dreyer Lassen\")]\n",
    "Lehmann_followers = sodas_followers[sodas_names.index(\"Sune Lehmann\")]\n",
    "\n",
    "# calculate the difference\n",
    "followers_dif = abs(Lassen_followers - Lehmann_followers)\n",
    "followers_dif"
   ]
  },
  {
   "cell_type": "code",
   "execution_count": 30,
   "metadata": {},
   "outputs": [
    {
     "data": {
      "text/plain": [
       "nan"
      ]
     },
     "execution_count": 30,
     "metadata": {},
     "output_type": "execute_result"
    }
   ],
   "source": [
    "# Get their followers\n",
    "Eggeling_followers = sodas_followers[sodas_names.index(\"Kristin Anabel Eggeling\")]\n",
    "\n",
    "# calculate the difference\n",
    "followers_dif = abs(Lassen_followers - Eggeling_followers)\n",
    "followers_dif"
   ]
  },
  {
   "cell_type": "markdown",
   "metadata": {},
   "source": [
    "When calculating the difference between Lassen and Eggeling, the result is just 'nan' - Eggeling's number of followers is probably a missing value."
   ]
  },
  {
   "cell_type": "markdown",
   "metadata": {},
   "source": [
    "__Ethical issue__\n",
    "> In this specific context, it is arguably not an ethical issue, since the comparison is not used in any way apart from the purpose of learning to code. However, in other cases it could be problematic. Even though participants have given consent, comparing things such as followers and likes while keeping their names in the data could cause harm and humiliation. In various social groups, social status is to some extent understood as reflected in ones social media profiles and the degree to which other people show interest in them. "
   ]
  },
  {
   "cell_type": "code",
   "execution_count": null,
   "metadata": {},
   "outputs": [],
   "source": []
  }
 ],
 "metadata": {
  "kernelspec": {
   "display_name": "Python 3",
   "language": "python",
   "name": "python3"
  },
  "language_info": {
   "codemirror_mode": {
    "name": "ipython",
    "version": 3
   },
   "file_extension": ".py",
   "mimetype": "text/x-python",
   "name": "python",
   "nbconvert_exporter": "python",
   "pygments_lexer": "ipython3",
   "version": "3.8.3"
  }
 },
 "nbformat": 4,
 "nbformat_minor": 2
}
