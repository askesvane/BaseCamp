{
 "cells": [
  {
   "cell_type": "markdown",
   "metadata": {},
   "source": [
    "# Exercise W36Mon\n",
    "\n",
    "Welcome to your first exercise notebook! Today's exercises continue from the Word document. Most other days all your exercises will be all in a Notebook. \n",
    "\n",
    "See here for a reference/quick guide on using Markdown: [link](https://thecodingbot.com/markdown-in-jupyter-ipython-notebook-cheatsheet/)"
   ]
  },
  {
   "cell_type": "markdown",
   "metadata": {},
   "source": [
    "### 1. Try out Jupyter Markdown\n",
    "\n",
    "This cell is written in markdown format, which is made up of markup tags for formatting text. \n",
    "\n",
    "You can change a cell from Code format to Markdown format by selecting \"Markdown\" from the dropdown menu above. \n",
    "\n",
    "\n",
    ">**Exercise 1.1**: Try changing the next cell into Markdown format."
   ]
  },
  {
   "cell_type": "markdown",
   "metadata": {},
   "source": []
  },
  {
   "cell_type": "markdown",
   "metadata": {},
   "source": [
    "Well done! Now I'll let you in a little secret. You can press *M* to change a cell from code to markdown, and *Y* to change it back to code."
   ]
  },
  {
   "cell_type": "markdown",
   "metadata": {},
   "source": [
    "Markdown is one way of adding comments to your code (more later) and the way we'll be setting up your exercises from now on. \n",
    "\n",
    "There are a variety of different tags to format text. See [here](https://github.com/adam-p/markdown-here/wiki/Markdown-Cheatsheet) for a cheat sheet on all the kinds of formatting you can do. "
   ]
  },
  {
   "cell_type": "markdown",
   "metadata": {},
   "source": [
    ">**Exercise 1.2**: Make headings\n",
    "\n",
    "In the next cell try adding three different types of headings in Markdown mode"
   ]
  },
  {
   "cell_type": "markdown",
   "metadata": {},
   "source": [
    "# Heading 1\n",
    "## Heading 2\n",
    "### Heading 3"
   ]
  },
  {
   "cell_type": "markdown",
   "metadata": {},
   "source": [
    ">**Exercise 1.3**: Try out other Markdown tags\n",
    "\n",
    "In the next cell try out two more markdown tags from the cheat sheet, of your choice. "
   ]
  },
  {
   "cell_type": "markdown",
   "metadata": {},
   "source": [
    "__Bold__ and **bold**\n",
    "_another_ and *another*\n",
    "\n",
    "_Both at the same **time**_"
   ]
  },
  {
   "cell_type": "markdown",
   "metadata": {},
   "source": []
  },
  {
   "cell_type": "markdown",
   "metadata": {},
   "source": [
    ">**Exercise 1.4:** Commenting on your code is very important. It can help another person (or future you), understand what is going on. Comments are done on Code cells, and start with a hashtag `#`. Let's practice - create a cell below and add a comment. "
   ]
  },
  {
   "cell_type": "code",
   "execution_count": 1,
   "metadata": {},
   "outputs": [],
   "source": [
    "# This is my comment"
   ]
  },
  {
   "cell_type": "markdown",
   "metadata": {},
   "source": [
    "### 2. Search for the meaning of errors"
   ]
  },
  {
   "cell_type": "markdown",
   "metadata": {},
   "source": [
    "Error messages... we need to talk about them. They look something like this:"
   ]
  },
  {
   "cell_type": "code",
   "execution_count": 2,
   "metadata": {},
   "outputs": [
    {
     "ename": "TypeError",
     "evalue": "unsupported operand type(s) for +: 'int' and 'str'",
     "output_type": "error",
     "traceback": [
      "\u001b[1;31m---------------------------------------------------------------------------\u001b[0m",
      "\u001b[1;31mTypeError\u001b[0m                                 Traceback (most recent call last)",
      "\u001b[1;32m<ipython-input-2-db092cb74d2d>\u001b[0m in \u001b[0;36m<module>\u001b[1;34m\u001b[0m\n\u001b[1;32m----> 1\u001b[1;33m \u001b[1;36m1\u001b[0m \u001b[1;33m+\u001b[0m \u001b[1;34m\"2\"\u001b[0m\u001b[1;33m\u001b[0m\u001b[1;33m\u001b[0m\u001b[0m\n\u001b[0m",
      "\u001b[1;31mTypeError\u001b[0m: unsupported operand type(s) for +: 'int' and 'str'"
     ]
    }
   ],
   "source": [
    "1 + \"2\""
   ]
  },
  {
   "cell_type": "markdown",
   "metadata": {},
   "source": [
    "They are big and red, and scary, but we should treat them with patience and understanding, **because they are here to help**. Error messages signal that we have violated the laws of the Python universe; that we are trying to do something which is not meaningful, not possible, not allowed or not with correct syntax.\n",
    "\n",
    "You will encounter error messages **ALL. THE. TIME.** So get used to them, they're not going anywhere.\n",
    "\n",
    "**How do you read an error message?** The first thing you should read is **the last line**. In the above error, the first thing to look at is `TypeError: unsupported operand type(s) for +: 'int' and 'str'`."
   ]
  },
  {
   "cell_type": "markdown",
   "metadata": {},
   "source": [
    ">**Exercise 2.1**: Read the last line of the above error message word by word. What is it actually saying? Can you explain to yourself what our angry-looking friend, the Python interpreter, is trying to tell us about our code?"
   ]
  },
  {
   "cell_type": "code",
   "execution_count": 3,
   "metadata": {},
   "outputs": [
    {
     "data": {
      "text/plain": [
       "'You cannot add an int and a str. '"
      ]
     },
     "execution_count": 3,
     "metadata": {},
     "output_type": "execute_result"
    }
   ],
   "source": [
    "## Write your answer here\n",
    "\n",
    "\"\"\"You cannot add an int and a str. \"\"\""
   ]
  },
  {
   "cell_type": "markdown",
   "metadata": {},
   "source": [
    ">**Exercise 2.2**: Try running the code below. What happens? What does the error mean? See if you can find an answer online and explain the error and  what you found in the following cell (note: Also change the answer cell to markdown mode so that you can make your answer look nice). "
   ]
  },
  {
   "cell_type": "code",
   "execution_count": 4,
   "metadata": {},
   "outputs": [
    {
     "ename": "NameError",
     "evalue": "name 'Print' is not defined",
     "output_type": "error",
     "traceback": [
      "\u001b[1;31m---------------------------------------------------------------------------\u001b[0m",
      "\u001b[1;31mNameError\u001b[0m                                 Traceback (most recent call last)",
      "\u001b[1;32m<ipython-input-4-d150bc9db7a2>\u001b[0m in \u001b[0;36m<module>\u001b[1;34m\u001b[0m\n\u001b[1;32m----> 1\u001b[1;33m \u001b[0mPrint\u001b[0m\u001b[1;33m(\u001b[0m\u001b[1;34m\"Hello world\"\u001b[0m\u001b[1;33m)\u001b[0m\u001b[1;33m\u001b[0m\u001b[1;33m\u001b[0m\u001b[0m\n\u001b[0m",
      "\u001b[1;31mNameError\u001b[0m: name 'Print' is not defined"
     ]
    }
   ],
   "source": [
    "Print(\"Hello world\")"
   ]
  },
  {
   "cell_type": "code",
   "execution_count": null,
   "metadata": {},
   "outputs": [],
   "source": [
    "### Write your answer here."
   ]
  },
  {
   "cell_type": "markdown",
   "metadata": {},
   "source": [
    "__Answer:__ <br>\n",
    "Since name Print is not defined, it it because no function called 'Print' exists in base python. There is however a function called 'print'. The first letter should therefore not be capital."
   ]
  },
  {
   "cell_type": "markdown",
   "metadata": {},
   "source": [
    "Above the last line there's an arrow. There may be multiple arrows if your code is long and complicated. Each arrow is pointing to a line in your code that breaks because of the error you made. All the stuff above the last line is called **the traceback**, because it tries to trace where in your code the source error is. Typically, to find the place where things went off the rails you should look at the **last arrow in the traceback**."
   ]
  },
  {
   "cell_type": "markdown",
   "metadata": {},
   "source": [
    "### 3. Variables and Types"
   ]
  },
  {
   "cell_type": "markdown",
   "metadata": {},
   "source": [
    "In human languages we have this convenient habit of naming objects that exist in the real world. For example \"World War II\", or \"Princess Diana\" are both names that concisely refer to rich subjects.\n",
    "\n",
    "Similarly, in programming we can name arbitrary things, however we like. We call these names that we, the individual programmers, create inside our scripts **variables**. "
   ]
  },
  {
   "cell_type": "markdown",
   "metadata": {},
   "source": [
    "In the real world we have ontological phenomena like \"a chair\" or \"a table\". These are not specific things (so not my office chair that I use every day) but rather *types* of things that can vary from instance to instance. In Python the analog to this is conveniently called **types**. Everything in Python is of a certain type. Here are some common types that you will encounter again and again:\n",
    "* `int`: whole numbers. Example: `0`, `1`, `2`, `9999` and `-17`\n",
    "* `float`: numbers with decimal points. Example: `-17.0`, `0.001`, `1e-7`, and `9.999`\n",
    "* `str`: anything encapsulated within a pair of `\"\"`s or `''`s. Example: `\"So now you understand...\"`, `'lolleper'`.\n",
    "* `list`: a list of anything. Example: `[0, 1, 2, 2]`, `['lolleper', 0, 0, -17]`\n",
    "* `set`: similar to a list but only keeps one copy of each item. Example: `{0, 1, 2}`, `{'lolleper', 0, -17}`\n",
    "* `bool`: a Boolean. Basically a value that can only either be `True` or `False`. It will become apparent why `bool`s are useful when we learn about `if` statements."
   ]
  },
  {
   "cell_type": "markdown",
   "metadata": {},
   "source": [
    ">**Exercise 3.1:** What type of variables do you think the following five are? "
   ]
  },
  {
   "cell_type": "code",
   "execution_count": null,
   "metadata": {},
   "outputs": [],
   "source": [
    "var1 = \"0.1\" # string\n",
    "\n",
    "var2 = 5 - 9 # int\n",
    "\n",
    "var3 = 10 + 10.1 # float\n",
    "\n",
    "var4 = \"10 + 10.1\" # string\n",
    "\n",
    "var5 = 10.1 - 0.1 # float"
   ]
  },
  {
   "cell_type": "code",
   "execution_count": 2,
   "metadata": {},
   "outputs": [],
   "source": [
    "## Answer"
   ]
  },
  {
   "cell_type": "markdown",
   "metadata": {},
   "source": [
    "Variables can be reassigned and overwritten."
   ]
  },
  {
   "cell_type": "code",
   "execution_count": 5,
   "metadata": {},
   "outputs": [],
   "source": [
    "original_var = 20\n",
    "new_var = original_var + 10\n",
    "\n",
    "original_var2 = 5\n",
    "original_var2 = original_var2 + 5"
   ]
  },
  {
   "cell_type": "markdown",
   "metadata": {},
   "source": [
    ">**Exercise 3.2:** What are the values for new_var and original_var2?"
   ]
  },
  {
   "cell_type": "code",
   "execution_count": 8,
   "metadata": {},
   "outputs": [
    {
     "name": "stdout",
     "output_type": "stream",
     "text": [
      "new_var is 30 and original_var2 is 10\n"
     ]
    }
   ],
   "source": [
    "## Answer\n",
    "print(f\"new_var is {new_var} and original_var2 is {original_var2}\")"
   ]
  },
  {
   "cell_type": "markdown",
   "metadata": {},
   "source": [
    ">**Exercise 3.3**: Can you guess what string1 will contain?"
   ]
  },
  {
   "cell_type": "code",
   "execution_count": null,
   "metadata": {},
   "outputs": [],
   "source": [
    "string1 = \"This is the first part of the string.\"\n",
    "string1 = string1 + \" This is the second part of the string.\""
   ]
  },
  {
   "cell_type": "code",
   "execution_count": 9,
   "metadata": {},
   "outputs": [
    {
     "data": {
      "text/plain": [
       "'This is the first part of the string. This is the second part of the string.'"
      ]
     },
     "execution_count": 9,
     "metadata": {},
     "output_type": "execute_result"
    }
   ],
   "source": [
    "#Answer \n",
    "\"This is the first part of the string. This is the second part of the string.\""
   ]
  },
  {
   "cell_type": "markdown",
   "metadata": {},
   "source": [
    ">**Exercise 3.4**: Try adding these two variables together, and explain what happens."
   ]
  },
  {
   "cell_type": "code",
   "execution_count": 10,
   "metadata": {},
   "outputs": [
    {
     "ename": "TypeError",
     "evalue": "unsupported operand type(s) for +: 'int' and 'str'",
     "output_type": "error",
     "traceback": [
      "\u001b[1;31m---------------------------------------------------------------------------\u001b[0m",
      "\u001b[1;31mTypeError\u001b[0m                                 Traceback (most recent call last)",
      "\u001b[1;32m<ipython-input-10-65bb5b50b94a>\u001b[0m in \u001b[0;36m<module>\u001b[1;34m\u001b[0m\n\u001b[0;32m      2\u001b[0m \u001b[0msecond_bit\u001b[0m \u001b[1;33m=\u001b[0m \u001b[1;34m\"14\"\u001b[0m\u001b[1;33m\u001b[0m\u001b[1;33m\u001b[0m\u001b[0m\n\u001b[0;32m      3\u001b[0m \u001b[1;33m\u001b[0m\u001b[0m\n\u001b[1;32m----> 4\u001b[1;33m \u001b[0mfirst_bit\u001b[0m \u001b[1;33m+\u001b[0m \u001b[0msecond_bit\u001b[0m\u001b[1;33m\u001b[0m\u001b[1;33m\u001b[0m\u001b[0m\n\u001b[0m",
      "\u001b[1;31mTypeError\u001b[0m: unsupported operand type(s) for +: 'int' and 'str'"
     ]
    }
   ],
   "source": [
    "first_bit = 14\n",
    "second_bit = \"14\"\n",
    "\n",
    "first_bit + second_bit"
   ]
  },
  {
   "cell_type": "markdown",
   "metadata": {},
   "source": [
    "__Answer__<br>\n",
    "we are adding a string and an integer. That is not possible (like the error we saw earlier).\n"
   ]
  },
  {
   "cell_type": "markdown",
   "metadata": {},
   "source": [
    "\n",
    "We can also convert variable types to different variable types, as follows:\n",
    "\n",
    "To 'stringify' something, we can use str(VARIABLE). Below, I'll declare a variable which is an integer, then I'll use str(VARIABLE) to write the 'stringified' version to a new variable."
   ]
  },
  {
   "cell_type": "code",
   "execution_count": 11,
   "metadata": {},
   "outputs": [],
   "source": [
    "my_integer_variable = 30\n",
    "my_stringified_variable = str(my_integer_variable)"
   ]
  },
  {
   "cell_type": "markdown",
   "metadata": {},
   "source": [
    "To 'integerify' something, we can use int(VARIABLE). Below, I'll declare a\n",
    "variable which is a number written out as a string, then I'll use\n",
    "int(VARIABLE) to write the 'integerified' version to a new variable."
   ]
  },
  {
   "cell_type": "code",
   "execution_count": 12,
   "metadata": {},
   "outputs": [],
   "source": [
    "my_string_variable = \"30\"\n",
    "my_integerified_variable = int(my_string_variable)"
   ]
  },
  {
   "cell_type": "markdown",
   "metadata": {},
   "source": [
    "To 'floatify' an integer, we can use float(VARIABLE). \n",
    "\n",
    ">**Exercise 3.5:** Below, declare an integer variable, then use float(VARIABLE) to write the 'floatified' version to a new variable: "
   ]
  },
  {
   "cell_type": "code",
   "execution_count": 16,
   "metadata": {},
   "outputs": [
    {
     "name": "stdout",
     "output_type": "stream",
     "text": [
      "10.0\n"
     ]
    }
   ],
   "source": [
    "# Answer\n",
    "Q = 10\n",
    "P = float(Q)\n",
    "print(P)"
   ]
  },
  {
   "cell_type": "markdown",
   "metadata": {},
   "source": [
    ">**Exercise 3.6**: Division in Python has two ways of usage. What is the output of `5/2`?  What is the output of `5//2`? What is the fundamental data type for each of the two operations? Explain your results."
   ]
  },
  {
   "cell_type": "code",
   "execution_count": 17,
   "metadata": {},
   "outputs": [
    {
     "data": {
      "text/plain": [
       "2.5"
      ]
     },
     "execution_count": 17,
     "metadata": {},
     "output_type": "execute_result"
    }
   ],
   "source": [
    "# Answer\n",
    "5/2\n",
    "# The output is a float and is exact"
   ]
  },
  {
   "cell_type": "code",
   "execution_count": 18,
   "metadata": {},
   "outputs": [
    {
     "data": {
      "text/plain": [
       "2"
      ]
     },
     "execution_count": 18,
     "metadata": {},
     "output_type": "execute_result"
    }
   ],
   "source": [
    "5//2\n",
    "# The output is an integer and is rounded down (floor)."
   ]
  },
  {
   "cell_type": "markdown",
   "metadata": {},
   "source": [
    ">**Exercise 3.7**: What is the output of `5%2` and `5**2`? Explain your answers."
   ]
  },
  {
   "cell_type": "markdown",
   "metadata": {},
   "source": [
    "__Answer__<br>\n",
    "*5%2:* It gives me the remainder. In this case it is 1. <br>\n",
    "*5* ** *2:* It gives me the the power"
   ]
  },
  {
   "cell_type": "markdown",
   "metadata": {},
   "source": [
    ">**Exercise 3.8**: Use expressions <, >, ==, != to compare 4 to 6 (e.g. run 4<6). What are the input data types? What are the output data types?"
   ]
  },
  {
   "cell_type": "code",
   "execution_count": 33,
   "metadata": {},
   "outputs": [
    {
     "data": {
      "text/plain": [
       "True"
      ]
     },
     "execution_count": 33,
     "metadata": {},
     "output_type": "execute_result"
    }
   ],
   "source": [
    "4 < 6 # Is 6 bigger than 4?"
   ]
  },
  {
   "cell_type": "code",
   "execution_count": 34,
   "metadata": {},
   "outputs": [
    {
     "data": {
      "text/plain": [
       "False"
      ]
     },
     "execution_count": 34,
     "metadata": {},
     "output_type": "execute_result"
    }
   ],
   "source": [
    "4 == 5 # is 4 equal to 5?"
   ]
  },
  {
   "cell_type": "code",
   "execution_count": 35,
   "metadata": {},
   "outputs": [
    {
     "data": {
      "text/plain": [
       "True"
      ]
     },
     "execution_count": 35,
     "metadata": {},
     "output_type": "execute_result"
    }
   ],
   "source": [
    "5 != 8 # is 5 NOT equal to 8?"
   ]
  },
  {
   "cell_type": "markdown",
   "metadata": {},
   "source": [
    "__Answer__ <br>\n",
    "The input data types are integer. The output data types are booleans (either 'True' or 'False')"
   ]
  },
  {
   "cell_type": "markdown",
   "metadata": {},
   "source": [
    "### 4. String Operations"
   ]
  },
  {
   "cell_type": "markdown",
   "metadata": {},
   "source": [
    "Strings have multiple operations and functions associated. In this exercise we investigate a few of these. \n",
    "\n",
    ">**Exercise 4.1**: Create variables s1='Chameleon' and s2='ham'. Check whether the string s2 is a substring of s1. \n",
    "\n",
    "*Hint: One string operation is to check whether a string S contains a substring T, this can be done with the in \n",
    "operator: S in T.*"
   ]
  },
  {
   "cell_type": "code",
   "execution_count": 38,
   "metadata": {},
   "outputs": [
    {
     "data": {
      "text/plain": [
       "True"
      ]
     },
     "execution_count": 38,
     "metadata": {},
     "output_type": "execute_result"
    }
   ],
   "source": [
    "# Answer\n",
    "s1 = 'Chameleon' \n",
    "s2 = 'ham'\n",
    "\n",
    "# check whether s2 is a substring of s1\n",
    "s2 in s1\n",
    "\n",
    "# It is!"
   ]
  },
  {
   "cell_type": "markdown",
   "metadata": {},
   "source": [
    ">**Exercise 4.2**: Make a variable s3 that is the same as s1 but all upper case, then check again whether s2 is a substring of of s3. Explain your answer. \n",
    "\n",
    "*Hint: Remember that strings have methods like upper(), lower(), and capitalize()* "
   ]
  },
  {
   "cell_type": "code",
   "execution_count": 41,
   "metadata": {},
   "outputs": [
    {
     "data": {
      "text/plain": [
       "True"
      ]
     },
     "execution_count": 41,
     "metadata": {},
     "output_type": "execute_result"
    }
   ],
   "source": [
    "# Answer\n",
    "s3 = 'CHAMELEON'\n",
    "\n",
    "s2 in s3\n",
    "\n",
    "# BUT we can change it to lower cases\n",
    "s2 in s3.lower()"
   ]
  },
  {
   "cell_type": "markdown",
   "metadata": {},
   "source": [
    "### 5. Daily Reflections"
   ]
  },
  {
   "cell_type": "markdown",
   "metadata": {},
   "source": [
    ">**Exercise 5.1**: Take a moment to reflect on your learning experience today and take notes. You _can_ use these prompts to inspire your reflections: \n",
    "\n",
    "- What (if anything) did you take away from the lecture and exercise today? \n",
    "- What concepts, ideas, or topics are still unclear? \n",
    "- What did you struggle with? What did you enjoy? What surprised you?\n",
    "- Are there any things you would have wanted to spend less or more time on? What are they?\n",
    "- Is there anything you have become inspired to follow up on from today's lecture and exercise? Anything you are looking forward to learning more about?"
   ]
  },
  {
   "cell_type": "markdown",
   "metadata": {},
   "source": [
    "__Write your answer here__ <br>\n",
    "It was nice to go over the basics. I have done a fair amount in python already so I didn't learn that much new. But at least I got reminded about the basic structures :)\n",
    "I am excited about more challenging assignments"
   ]
  },
  {
   "cell_type": "markdown",
   "metadata": {},
   "source": [
    "### 6. Bonus Exercises (if you have time)"
   ]
  },
  {
   "cell_type": "markdown",
   "metadata": {},
   "source": [
    "> **Exercise 6.1:** Imagine you won 10,000kr in a coding competition (*motivation*) and you put that money in a savings account. Play around with the interest rate and check how much money you would have after 1 year, 2 years, 5 years, etc. Assign the different interest rates and amount of years in variables, and print your answers in a full sentence (ex: *In 2 years I will have XX kr. in my bank account*). \n",
    "\n",
    "*Hint: The formula for getting the result is: initial savings * (1 + interest rate) <sup> number of years</sup>*\n",
    "\n",
    "*Hint 2: use the* round *function to return your results with only 2 decimal places. "
   ]
  },
  {
   "cell_type": "code",
   "execution_count": 74,
   "metadata": {},
   "outputs": [],
   "source": [
    "def rate(saving, years, rate):\n",
    "    \n",
    "    # Calculate the amount of money\n",
    "    outcome = saving * (1 + rate)**years\n",
    "    \n",
    "    # Make the text grammatically correct (adding 's' to year)\n",
    "    s = \"\"\n",
    "    if years > 1:\n",
    "        s = \"s\"\n",
    "    \n",
    "    # Create output text\n",
    "    text = f\"In {years} year{s} I will have {round(outcome,2)} kr. in my bank account\"\n",
    "    \n",
    "    return text"
   ]
  },
  {
   "cell_type": "code",
   "execution_count": 77,
   "metadata": {},
   "outputs": [
    {
     "data": {
      "text/plain": [
       "'In 1 year I will have 10020.0 kr. in my bank account'"
      ]
     },
     "execution_count": 77,
     "metadata": {},
     "output_type": "execute_result"
    }
   ],
   "source": [
    "rate(10000, 1, 0.002)"
   ]
  },
  {
   "cell_type": "code",
   "execution_count": null,
   "metadata": {},
   "outputs": [],
   "source": []
  },
  {
   "cell_type": "code",
   "execution_count": null,
   "metadata": {},
   "outputs": [],
   "source": []
  },
  {
   "cell_type": "code",
   "execution_count": null,
   "metadata": {},
   "outputs": [],
   "source": []
  }
 ],
 "metadata": {
  "kernelspec": {
   "display_name": "Python 3",
   "language": "python",
   "name": "python3"
  },
  "language_info": {
   "codemirror_mode": {
    "name": "ipython",
    "version": 3
   },
   "file_extension": ".py",
   "mimetype": "text/x-python",
   "name": "python",
   "nbconvert_exporter": "python",
   "pygments_lexer": "ipython3",
   "version": "3.8.3"
  }
 },
 "nbformat": 4,
 "nbformat_minor": 2
}
