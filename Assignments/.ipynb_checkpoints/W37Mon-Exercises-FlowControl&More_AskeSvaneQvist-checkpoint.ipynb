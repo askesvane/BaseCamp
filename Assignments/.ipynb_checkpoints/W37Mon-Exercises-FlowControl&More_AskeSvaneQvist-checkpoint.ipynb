{
 "cells": [
  {
   "cell_type": "markdown",
   "metadata": {},
   "source": [
    "Aske Svane Qvist"
   ]
  },
  {
   "cell_type": "markdown",
   "metadata": {},
   "source": [
    "# W37Mon: Flow Control and More - Exercise\n",
    "\n",
    "Builds on exercises provided with Programming with Python for Social Science by Phillip Brooker and from Social Data Science 2019 by Andreas Bjerre-Nielsen.\n"
   ]
  },
  {
   "cell_type": "markdown",
   "metadata": {},
   "source": [
    "## 1. Conditional Flow Control (aka If Statements)\n",
    "\n",
    "If statements are a form of flow control. _Flow control_ means writing code that controls the way data or information flows through the program. These are fundamental structures to programming. Recall that they also have a long history in how programming languages have been designed. \n",
    "The concepts of flow control should be recognizable outside of coding as well. For example when you go shopping you might want to buy ice cream, but only **if** it's sunny and warm outside. **else** you will buy hot chocolate. These kinds of logic come up everywhere in coding; self driving cars should go forward only **if** the light is green, items should be listed for sale in a web shop only **if** they are in stock. \n",
    "\n",
    "Recall that in Python the conditional flow control can use three conditional statements: `if`, `elif` (else if) and `else`. The `if` and `elif` statements should be followed by a logical statement or condition that is either `True` or `False`. The code that should be executed `if` the logic is `True` is written on the lines below the `if`, and should be indented one TAB (or 4 spaces). Finally all flow control statements must end with a colon. \n",
    "\n",
    ">**Task 1.1:** Write a __pseudocode__ workflow that includes conditions, for a daily activity. \n",
    ">\n",
    "> *Note*: No coding is needed here."
   ]
  },
  {
   "cell_type": "code",
   "execution_count": 1,
   "metadata": {},
   "outputs": [],
   "source": [
    "#if hungry:\n",
    "#    check the fridge\n",
    "#    if \"food in the fridge\" == True:\n",
    "#        cook\n",
    "#    else:\n",
    "#        go to the supermarket\n",
    "#        buy food\n",
    "#        cook\n",
    "#    eat the food\n",
    "#else:\n",
    "#    pass "
   ]
  },
  {
   "cell_type": "markdown",
   "metadata": {},
   "source": [
    "> **Task 1.2**: Imagine that we have a car that can fit 5 passengers, and we want to know, if the car can fit more passengers. Using `if` and `else`, write code that prints out \"The car is full\" if passengers is 5 or more, and \"The car is not full yet\" if passengers are less than 5."
   ]
  },
  {
   "cell_type": "code",
   "execution_count": 2,
   "metadata": {},
   "outputs": [],
   "source": [
    "# Number of passengers\n",
    "passengers = 5\n",
    "\n",
    "# Include your solution in a new cell below.\n",
    "# You can test your solution by changing the value of passengers, running this cell, \n",
    "# and then running your solution with the new value"
   ]
  },
  {
   "cell_type": "code",
   "execution_count": 7,
   "metadata": {},
   "outputs": [
    {
     "name": "stdout",
     "output_type": "stream",
     "text": [
      "The car is full\n"
     ]
    }
   ],
   "source": [
    "if passengers >= 5:\n",
    "    print(\"The car is full\")\n",
    "elif passengers < 5:\n",
    "    print(\"The car is not full yet\")"
   ]
  },
  {
   "cell_type": "markdown",
   "metadata": {},
   "source": [
    ">**Task 1.3**: Write a conditional flow logic which produces statements about numbers that you give it, with the following conditions:\n",
    "\n",
    "- if the number is over 100 print \"Phew, that's a big number.\"\n",
    "- if the number is even, print \"This one is even.\"\n",
    "- if the number is even and over 100 print \"Stop. I can't even.\"\n",
    "- if the number doesn't satisfy any of these conditions, print the number.\n",
    "\n",
    ">*Recall: Multiple conditions can be inserted with elif statement(s). And remember to think through your solution first before jumping to write your code!*\n",
    "\n",
    ">*Hint: The different if statements are executed in a given order. Think carefully about the different options you have and what they imply.*"
   ]
  },
  {
   "cell_type": "code",
   "execution_count": 10,
   "metadata": {},
   "outputs": [
    {
     "name": "stdout",
     "output_type": "stream",
     "text": [
      "Stop. I can't even.\n"
     ]
    }
   ],
   "source": [
    "number = 102\n",
    "# Most complex condition first\n",
    "if (number > 100) & ((number % 2) == 0):\n",
    "    print(\"Stop. I can't even.\")\n",
    "# I chose to have 'larger than 100' first\n",
    "elif number > 100:\n",
    "    print(\"Phew, that's a big number.\")\n",
    "# Even number\n",
    "elif (number % 2) == 0:\n",
    "    print(\"This one is even.\")\n",
    "else:\n",
    "    print(number)"
   ]
  },
  {
   "cell_type": "markdown",
   "metadata": {},
   "source": [
    "## 2. Lists\n",
    "\n",
    "Recall that lists are a type of container. They are declared using square brackets e.g. `[x,y,z]` and lists can change, as in you can add elements to lists, you can change the value of a specific element, or you can remove elements. You access elements by their index, which starts at 0.\n",
    "\n",
    "We have defined in the next cell a list that contains the the population of Denmark from 1901 - 2020 (population in 1000s). The data is from here: https://www.statbank.dk/10021. \n"
   ]
  },
  {
   "cell_type": "code",
   "execution_count": 11,
   "metadata": {},
   "outputs": [],
   "source": [
    "# Data from https://www.statbank.dk/10021\n",
    "DK_population =[2447,2477,2506,2532,2560,2589,2621,2652,2687,2722,\n",
    "                2757,2788,2820,2851,2886,2921,2958,2991,3027,3061,\n",
    "                3265,3306,3340,3372,3406,3439,3467,3487,3510,3531,\n",
    "                3557,3590,3620,3651,3683,3711,3738,3765,3794,3826,\n",
    "                3849,3882,3926,3973,4023,4075,4123,4168,4211,4252,\n",
    "                4285,4315,4349,4389,4424,4454,4479,4501,4532,4566,\n",
    "                4601,4630,4666,4703,4741,4779,4820,4855,4879,4907,\n",
    "                4951,4976,5008,5036,5054,5065,5080,5097,5112,5122,\n",
    "                5124,5119,5116,5112,5111,5116,5125,5129,5130,5135,\n",
    "                5146,5162,5181,5197,5216,5251,5275,5295,5314,5330,\n",
    "                5349,5368,5384,5398,5411,5427,5447,5476,5511,5535,\n",
    "                5561,5581,5603,5627,5660,5707,5749,5781,5806,5823]"
   ]
  },
  {
   "cell_type": "markdown",
   "metadata": {},
   "source": [
    ">**Task 2.1**: Take the list above. Use list methods and indices to answer the following: \n",
    "\n",
    "> - How many elements are in the list? \n",
    "> - What is the range (e.g. the max - min) of the first 10 items? \n",
    "> - What is the range (e.g. the max - min) for elements between indices 80 and 90 (i.e. 1981 to 1991)? \n",
    "> - What was the population in 1904 (Hint: This is the fourth element in the list)\n",
    "\n",
    "> Bonus: Can you make the cell return full length responses to each of the questions?"
   ]
  },
  {
   "cell_type": "code",
   "execution_count": 13,
   "metadata": {},
   "outputs": [
    {
     "name": "stdout",
     "output_type": "stream",
     "text": [
      "There are 120 elements in the list\n"
     ]
    }
   ],
   "source": [
    "# How many elements are in the list?\n",
    "length = len(DK_population) # 120\n",
    "print(f\"There are {length} elements in the list\")"
   ]
  },
  {
   "cell_type": "code",
   "execution_count": 14,
   "metadata": {},
   "outputs": [
    {
     "name": "stdout",
     "output_type": "stream",
     "text": [
      "The range of the first 10 items is 240.\n"
     ]
    }
   ],
   "source": [
    "# What is the range (e.g. the max - min) of the first 10 items?\n",
    "first_10 = DK_population[0:9]\n",
    "Range = max(first_10) - min(first_10) # 240\n",
    "print(f\"The range of the first 10 items is {Range}.\")"
   ]
  },
  {
   "cell_type": "code",
   "execution_count": 15,
   "metadata": {},
   "outputs": [
    {
     "name": "stdout",
     "output_type": "stream",
     "text": [
      "The range between 1981 and 1991 is 240.\n"
     ]
    }
   ],
   "source": [
    "# What is the range (e.g. the max - min) for elements between indices 80 and 90 (i.e. 1981 to 1991)?\n",
    "second_sub = DK_population[80:90]\n",
    "max(second_sub) - min(second_sub) # 24\n",
    "print(f\"The range between 1981 and 1991 is {Range}.\")"
   ]
  },
  {
   "cell_type": "code",
   "execution_count": 16,
   "metadata": {},
   "outputs": [
    {
     "name": "stdout",
     "output_type": "stream",
     "text": [
      "The population in 1904 was 2532.\n"
     ]
    }
   ],
   "source": [
    "# What was the population in 1904 (Hint: This is the fourth element in the list)\n",
    "print(f\"The population in 1904 was {DK_population[3]}.\")"
   ]
  },
  {
   "cell_type": "markdown",
   "metadata": {},
   "source": [
    ">**Task 2.2**: Run the cell below, which loads the SODAS DataFrame. Then, retrieve the names of the people at SODAS and turn them into a list. \n",
    "\n",
    "> _Hint: You will want to identify the column in the DataFrame that contains the names and then use a Pandas Series method to transform it into a list. You can find the documentation for Series [here](https://pandas.pydata.org/pandas-docs/stable/reference/api/pandas.Series.html)_"
   ]
  },
  {
   "cell_type": "code",
   "execution_count": 17,
   "metadata": {},
   "outputs": [
    {
     "data": {
      "text/html": [
       "<div>\n",
       "<style scoped>\n",
       "    .dataframe tbody tr th:only-of-type {\n",
       "        vertical-align: middle;\n",
       "    }\n",
       "\n",
       "    .dataframe tbody tr th {\n",
       "        vertical-align: top;\n",
       "    }\n",
       "\n",
       "    .dataframe thead th {\n",
       "        text-align: right;\n",
       "    }\n",
       "</style>\n",
       "<table border=\"1\" class=\"dataframe\">\n",
       "  <thead>\n",
       "    <tr style=\"text-align: right;\">\n",
       "      <th></th>\n",
       "      <th>description</th>\n",
       "      <th>role</th>\n",
       "      <th>twitter</th>\n",
       "      <th>google_scholar</th>\n",
       "      <th>mail</th>\n",
       "      <th>name</th>\n",
       "      <th>twitter_handle</th>\n",
       "      <th>twitter_created_at</th>\n",
       "      <th>twitter_bio</th>\n",
       "      <th>twitter_followers_n</th>\n",
       "      <th>...</th>\n",
       "      <th>twitter_verified</th>\n",
       "      <th>gs_cites_all_time</th>\n",
       "      <th>gs_cites_since_2015</th>\n",
       "      <th>gs_h_index_all_time</th>\n",
       "      <th>gs_i10_index_all_time</th>\n",
       "      <th>gs_most_cited_title</th>\n",
       "      <th>gs_most_cited_authors</th>\n",
       "      <th>gs_most_cited_outlet</th>\n",
       "      <th>gs_most_cited_year</th>\n",
       "      <th>gs_most_cited_cites</th>\n",
       "    </tr>\n",
       "  </thead>\n",
       "  <tbody>\n",
       "    <tr>\n",
       "      <th>0</th>\n",
       "      <td>David Dreyer Lassen is the Director of SODAS a...</td>\n",
       "      <td>SODAS steering committee</td>\n",
       "      <td>https://twitter.com/daviddlassen</td>\n",
       "      <td>https://scholar.google.dk/citations?user=aRBQc...</td>\n",
       "      <td>david.dreyer.lassen@econ.ku.dk</td>\n",
       "      <td>David Dreyer Lassen</td>\n",
       "      <td>daviddlassen</td>\n",
       "      <td>2013-11-23 11:36:43</td>\n",
       "      <td>Chairman, Independent Research Fund Denmark (D...</td>\n",
       "      <td>1138.0</td>\n",
       "      <td>...</td>\n",
       "      <td>False</td>\n",
       "      <td>3991.0</td>\n",
       "      <td>2170.0</td>\n",
       "      <td>21.0</td>\n",
       "      <td>32.0</td>\n",
       "      <td>Fiscal transparency, political parties, and de...</td>\n",
       "      <td>JE Alt, DD Lassen</td>\n",
       "      <td>European Economic Review 50 (6), 1403-1439, 2006</td>\n",
       "      <td>2006.0</td>\n",
       "      <td>695.0</td>\n",
       "    </tr>\n",
       "    <tr>\n",
       "      <th>1</th>\n",
       "      <td>Morten Axel Pedersen is Deputy Director of SOD...</td>\n",
       "      <td>SODAS steering committee</td>\n",
       "      <td>NaN</td>\n",
       "      <td>https://scholar.google.ca/citations?user=4vDlk...</td>\n",
       "      <td>map@sodas.ku.dk</td>\n",
       "      <td>Morten Axel Pedersen</td>\n",
       "      <td>NaN</td>\n",
       "      <td>NaN</td>\n",
       "      <td>NaN</td>\n",
       "      <td>NaN</td>\n",
       "      <td>...</td>\n",
       "      <td>NaN</td>\n",
       "      <td>3474.0</td>\n",
       "      <td>2595.0</td>\n",
       "      <td>28.0</td>\n",
       "      <td>38.0</td>\n",
       "      <td>The Ontological Turn: An Anthropological Expos...</td>\n",
       "      <td>M Holbraad, MA Pedersen</td>\n",
       "      <td>Cambridge: Cambridge University Press, 2017</td>\n",
       "      <td>2017.0</td>\n",
       "      <td>408.0</td>\n",
       "    </tr>\n",
       "  </tbody>\n",
       "</table>\n",
       "<p>2 rows × 25 columns</p>\n",
       "</div>"
      ],
      "text/plain": [
       "                                         description  \\\n",
       "0  David Dreyer Lassen is the Director of SODAS a...   \n",
       "1  Morten Axel Pedersen is Deputy Director of SOD...   \n",
       "\n",
       "                       role                           twitter  \\\n",
       "0  SODAS steering committee  https://twitter.com/daviddlassen   \n",
       "1  SODAS steering committee                               NaN   \n",
       "\n",
       "                                      google_scholar  \\\n",
       "0  https://scholar.google.dk/citations?user=aRBQc...   \n",
       "1  https://scholar.google.ca/citations?user=4vDlk...   \n",
       "\n",
       "                             mail                  name twitter_handle  \\\n",
       "0  david.dreyer.lassen@econ.ku.dk   David Dreyer Lassen   daviddlassen   \n",
       "1                 map@sodas.ku.dk  Morten Axel Pedersen            NaN   \n",
       "\n",
       "    twitter_created_at                                        twitter_bio  \\\n",
       "0  2013-11-23 11:36:43  Chairman, Independent Research Fund Denmark (D...   \n",
       "1                  NaN                                                NaN   \n",
       "\n",
       "   twitter_followers_n  ...  twitter_verified  gs_cites_all_time  \\\n",
       "0               1138.0  ...             False             3991.0   \n",
       "1                  NaN  ...               NaN             3474.0   \n",
       "\n",
       "  gs_cites_since_2015  gs_h_index_all_time gs_i10_index_all_time  \\\n",
       "0              2170.0                 21.0                  32.0   \n",
       "1              2595.0                 28.0                  38.0   \n",
       "\n",
       "                                 gs_most_cited_title    gs_most_cited_authors  \\\n",
       "0  Fiscal transparency, political parties, and de...        JE Alt, DD Lassen   \n",
       "1  The Ontological Turn: An Anthropological Expos...  M Holbraad, MA Pedersen   \n",
       "\n",
       "                               gs_most_cited_outlet  gs_most_cited_year  \\\n",
       "0  European Economic Review 50 (6), 1403-1439, 2006              2006.0   \n",
       "1       Cambridge: Cambridge University Press, 2017              2017.0   \n",
       "\n",
       "   gs_most_cited_cites  \n",
       "0                695.0  \n",
       "1                408.0  \n",
       "\n",
       "[2 rows x 25 columns]"
      ]
     },
     "execution_count": 17,
     "metadata": {},
     "output_type": "execute_result"
    }
   ],
   "source": [
    "# Loading the pandas module\n",
    "import pandas as pd\n",
    "\n",
    "# Loading the SODAS dataframe\n",
    "\n",
    "url = 'https://dl.dropboxusercontent.com/s/9war4suj1s5j1ah/sodas_people_twitter_scholar.csv?dl=1'\n",
    "\n",
    "sodas_people_df = pd.read_csv(url)\n",
    "\n",
    "sodas_people_df.head(2)"
   ]
  },
  {
   "cell_type": "code",
   "execution_count": 32,
   "metadata": {},
   "outputs": [
    {
     "data": {
      "text/plain": [
       "['David Dreyer Lassen',\n",
       " 'Morten Axel Pedersen',\n",
       " 'Rebecca Adler-Nissen',\n",
       " 'Sune Lehmann',\n",
       " 'Anders Blok',\n",
       " 'Søren Kyllingsbæk',\n",
       " 'Robert Böhm',\n",
       " 'Andreas Bjerre-Nielsen',\n",
       " 'Frederik Hjorth',\n",
       " 'Kristoffer Albris',\n",
       " 'Friedolin Merhout',\n",
       " 'Gregory Eady',\n",
       " 'Samantha Breslin',\n",
       " 'Hjalmar Alexander Bang Carlsen',\n",
       " 'Patrice Wangen',\n",
       " 'Kristin Anabel Eggeling',\n",
       " 'Helene Willadsen',\n",
       " 'Mette My Madsen',\n",
       " 'Anna Rogers',\n",
       " 'Kristoffer Pade Glavind',\n",
       " 'Asger Andersen',\n",
       " 'Yangliu Fan',\n",
       " 'Thyge Enggaard',\n",
       " 'Kelton Ray Minor',\n",
       " 'Sigriður Svala Jónasdóttir',\n",
       " 'Terne Sasha Thorn Jakobsen',\n",
       " 'Eva Iris Otto',\n",
       " 'Anna Helene Kvist Møller',\n",
       " 'Nicklas Johansen',\n",
       " 'Germans Savčišens',\n",
       " 'Snorre Ralund',\n",
       " 'Annika Isfeldt',\n",
       " 'Yevgeniy Golovchenko',\n",
       " 'Sophie Smitt Sindrup Grønning',\n",
       " 'Louise Marie Lausten',\n",
       " 'Jonas Skjold Raaschou-Pedersen',\n",
       " 'Zoe Anna Skovby Burke',\n",
       " 'Frederik Carl Windfeld',\n",
       " 'Sofie Læbo Astrupgaard',\n",
       " 'Malene Hornstrup Jespersen',\n",
       " 'Viktor Due Pedersen',\n",
       " 'Cathrine Valentin Kjær',\n",
       " 'Esben Brøgger Lemminger',\n",
       " 'Sara Vera Marjanovic',\n",
       " 'Asger Hans Thomsen',\n",
       " 'Emilie Munch-Gregersen',\n",
       " 'Tobias Priesholm Gårdhus',\n",
       " 'Jonathan Holm Salka',\n",
       " 'Clara Rosa Sandbye',\n",
       " 'Nete Schwennesen',\n",
       " 'Simon Westergaard Lex']"
      ]
     },
     "execution_count": 32,
     "metadata": {},
     "output_type": "execute_result"
    }
   ],
   "source": [
    "sodas_people = sodas_people_df['name'].tolist()\n",
    "sodas_people"
   ]
  },
  {
   "cell_type": "markdown",
   "metadata": {},
   "source": [
    ">**Task 2.3**: How many people are in SODAS based on this list?  "
   ]
  },
  {
   "cell_type": "code",
   "execution_count": 26,
   "metadata": {},
   "outputs": [
    {
     "data": {
      "text/plain": [
       "51"
      ]
     },
     "execution_count": 26,
     "metadata": {},
     "output_type": "execute_result"
    }
   ],
   "source": [
    "len(sodas_people) # 51"
   ]
  },
  {
   "cell_type": "markdown",
   "metadata": {},
   "source": [
    "> **Task 2.4**: What is the index of 'Morten Axel Pedersen' in `sodas_people`? \n",
    "\n",
    ">*Hint: one way is to just look at the list and count, but this is an impractical solution for long lists and doesn't work if your program needs to know the answer. There is also a list method that helps find the index of a specific element - you can search Google or look up Python documentation to find it.*"
   ]
  },
  {
   "cell_type": "code",
   "execution_count": 27,
   "metadata": {},
   "outputs": [
    {
     "data": {
      "text/plain": [
       "1"
      ]
     },
     "execution_count": 27,
     "metadata": {},
     "output_type": "execute_result"
    }
   ],
   "source": [
    "sodas_people.index(\"Morten Axel Pedersen\")\n",
    "# Index 1"
   ]
  },
  {
   "cell_type": "markdown",
   "metadata": {},
   "source": [
    ">**Task 2.5**: Sometimes in lists you want to access only a few specific elements and put them in a new list. Create a list called `some_sodas_people` that contains only the 8th, 9th, and 10th elements of `sodas_people`. "
   ]
  },
  {
   "cell_type": "code",
   "execution_count": 31,
   "metadata": {},
   "outputs": [
    {
     "data": {
      "text/plain": [
       "['Andreas Bjerre-Nielsen', 'Frederik Hjorth', 'Kristoffer Albris']"
      ]
     },
     "execution_count": 31,
     "metadata": {},
     "output_type": "execute_result"
    }
   ],
   "source": [
    "some_sodas_people = sodas_people[7:10]\n",
    "some_sodas_people"
   ]
  },
  {
   "cell_type": "markdown",
   "metadata": {},
   "source": [
    "> **Task 2.6**: Say we want to make a broader list of people related to SDS, which then includes SODAS members and SDS students like your group. First make a new list, `sds_group` with the names of your group members, including you. Note that each name should be a string. "
   ]
  },
  {
   "cell_type": "code",
   "execution_count": 95,
   "metadata": {},
   "outputs": [],
   "source": [
    "sds_group = [\"Silvia\", \"Korbinian\", \"Isha\", \"Aske\"]"
   ]
  },
  {
   "cell_type": "markdown",
   "metadata": {},
   "source": [
    "> **Task 2.7:** Now make a list called `SDS` which consist of first `sodas_people`, then `sds_group`. \n",
    ">\n",
    ">*Hint: You might be inclined to use a list method here, but don't forget that there are also operators that might be suitable.*"
   ]
  },
  {
   "cell_type": "code",
   "execution_count": 34,
   "metadata": {},
   "outputs": [],
   "source": [
    "SDS = sodas_people + sds_group"
   ]
  },
  {
   "cell_type": "markdown",
   "metadata": {},
   "source": [
    "> **Task 2.8**: Create a list called `groups` that contains nested lists `sds_group` and a new list `sds_group2` with the names of the group beside you. "
   ]
  },
  {
   "cell_type": "code",
   "execution_count": 36,
   "metadata": {},
   "outputs": [
    {
     "data": {
      "text/plain": [
       "[['Silvia', 'Korbinian', 'Isha', 'Aske'], ['Anton', 'Annika']]"
      ]
     },
     "execution_count": 36,
     "metadata": {},
     "output_type": "execute_result"
    }
   ],
   "source": [
    "sds_group2 = [\"Anton\", \"Annika\"]\n",
    "groups = [sds_group, sds_group2]"
   ]
  },
  {
   "cell_type": "markdown",
   "metadata": {},
   "source": [
    "> **Task 2.9:** How would you access the element with your own name? \n",
    ">\n",
    "> *Hint: Here, we just want you to think about how indices in nested lists work. You can count the correct indices. Take as example the following code:* "
   ]
  },
  {
   "cell_type": "code",
   "execution_count": 37,
   "metadata": {},
   "outputs": [
    {
     "name": "stdout",
     "output_type": "stream",
     "text": [
      "0\n"
     ]
    }
   ],
   "source": [
    "xy = ['x','y']\n",
    "letters = [['x','y'],['z','w']]\n",
    "# counting here the xy list is inside list letters\n",
    "print(letters.index(xy))"
   ]
  },
  {
   "cell_type": "code",
   "execution_count": 38,
   "metadata": {},
   "outputs": [
    {
     "name": "stdout",
     "output_type": "stream",
     "text": [
      "0\n"
     ]
    }
   ],
   "source": [
    "print(letters[0].index('x'))"
   ]
  },
  {
   "cell_type": "markdown",
   "metadata": {},
   "source": [
    "First index the list inside the bigger list and subsequently do whatever you want with the chosen list."
   ]
  },
  {
   "cell_type": "code",
   "execution_count": 43,
   "metadata": {},
   "outputs": [
    {
     "name": "stdout",
     "output_type": "stream",
     "text": [
      "Aske\n",
      "3\n"
     ]
    }
   ],
   "source": [
    "# Print my name based on location\n",
    "print(groups[0][3])\n",
    "\n",
    "# Or find the index within the nested list\n",
    "print(groups[0].index(\"Aske\"))"
   ]
  },
  {
   "cell_type": "markdown",
   "metadata": {},
   "source": [
    "> **Task 2.10**: Maybe sometime in the future you become the Head of Studies of the SDS program and take over from Andreas Bjerre-Nielsen. Replace Andreas's name with your name (as a string) in `sodas_people`. \n",
    ">\n",
    "> *Hint: First find the index with Andreas's name*"
   ]
  },
  {
   "cell_type": "code",
   "execution_count": 48,
   "metadata": {},
   "outputs": [],
   "source": [
    "sodas_people.index(\"Andreas Bjerre-Nielsen\")\n",
    "sodas_people[7] = \"Aske Svane Qvist\""
   ]
  },
  {
   "cell_type": "code",
   "execution_count": 50,
   "metadata": {},
   "outputs": [
    {
     "data": {
      "text/plain": [
       "['David Dreyer Lassen',\n",
       " 'Morten Axel Pedersen',\n",
       " 'Rebecca Adler-Nissen',\n",
       " 'Sune Lehmann',\n",
       " 'Anders Blok',\n",
       " 'Søren Kyllingsbæk',\n",
       " 'Robert Böhm',\n",
       " 'Aske Svane Qvist']"
      ]
     },
     "execution_count": 50,
     "metadata": {},
     "output_type": "execute_result"
    }
   ],
   "source": [
    "sodas_people[0:8]"
   ]
  },
  {
   "cell_type": "markdown",
   "metadata": {},
   "source": [
    "> **Task 2.11**: What are the values of `SDS`? Where is your name and why?"
   ]
  },
  {
   "cell_type": "code",
   "execution_count": 56,
   "metadata": {},
   "outputs": [
    {
     "name": "stdout",
     "output_type": "stream",
     "text": [
      "['David Dreyer Lassen', 'Morten Axel Pedersen', 'Rebecca Adler-Nissen', 'Sune Lehmann', 'Anders Blok', 'Søren Kyllingsbæk', 'Robert Böhm', 'Andreas Bjerre-Nielsen', 'Frederik Hjorth', 'Kristoffer Albris', 'Friedolin Merhout', 'Gregory Eady', 'Samantha Breslin', 'Hjalmar Alexander Bang Carlsen', 'Patrice Wangen', 'Kristin Anabel Eggeling', 'Helene Willadsen', 'Mette My Madsen', 'Anna Rogers', 'Kristoffer Pade Glavind', 'Asger Andersen', 'Yangliu Fan', 'Thyge Enggaard', 'Kelton Ray Minor', 'Sigriður Svala Jónasdóttir', 'Terne Sasha Thorn Jakobsen', 'Eva Iris Otto', 'Anna Helene Kvist Møller', 'Nicklas Johansen', 'Germans Savčišens', 'Snorre Ralund', 'Annika Isfeldt', 'Yevgeniy Golovchenko', 'Sophie Smitt Sindrup Grønning', 'Louise Marie Lausten', 'Jonas Skjold Raaschou-Pedersen', 'Zoe Anna Skovby Burke', 'Frederik Carl Windfeld', 'Sofie Læbo Astrupgaard', 'Malene Hornstrup Jespersen', 'Viktor Due Pedersen', 'Cathrine Valentin Kjær', 'Esben Brøgger Lemminger', 'Sara Vera Marjanovic', 'Asger Hans Thomsen', 'Emilie Munch-Gregersen', 'Tobias Priesholm Gårdhus', 'Jonathan Holm Salka', 'Clara Rosa Sandbye', 'Nete Schwennesen', 'Simon Westergaard Lex', 'Silvia', 'Korbinian', 'Isha', 'Aske']\n"
     ]
    },
    {
     "data": {
      "text/plain": [
       "54"
      ]
     },
     "execution_count": 56,
     "metadata": {},
     "output_type": "execute_result"
    }
   ],
   "source": [
    "print(SDS)\n",
    "SDS.index(\"Aske\") # at index 54 as I appended our names to the end of the list"
   ]
  },
  {
   "cell_type": "markdown",
   "metadata": {},
   "source": [
    "## 3. Conditional Flow Control in Practice\n",
    "\n",
    "There are a variety of applications of conditional logic when working in Python, such as when you are collecting data or conducting quality assurance on existing data. Next, we'll have two tasks that introduce potential applications to give you an opportunity to practice more meaningful uses and think through when you might want to use flow control.\n",
    "\n",
    "When trying to load files in your own computer into a pandas dataframe in python you may encounter different types of errors. In the following task, you will be using `if` statements and booleans to check whether a file is present in an existing folder, specifically in the one you have stored your Jupyter Notebook in. \n",
    "\n",
    "To set up for the task, run the next cell which returns a boolean value indicating whether a file called \"file_name_to_check.txt\" is present in the directory where your Jupyter Notebook is stored. If the file is present in the folder a `True` value will be stored in the variable called `boolean`. Otherwise, a `False` value will be stored."
   ]
  },
  {
   "cell_type": "code",
   "execution_count": 57,
   "metadata": {},
   "outputs": [
    {
     "data": {
      "text/plain": [
       "False"
      ]
     },
     "execution_count": 57,
     "metadata": {},
     "output_type": "execute_result"
    }
   ],
   "source": [
    "import os.path\n",
    "fname = \"file_name_to_check.txt\"\n",
    "boolean = os.path.isfile(fname) \n",
    "boolean"
   ]
  },
  {
   "cell_type": "markdown",
   "metadata": {},
   "source": [
    "> **Task 3.1:** Use the `boolean` variable you just created and write a flow control logic that prints a message to describing whether the file exists in your folder or not. \n",
    ">\n",
    "> _Note: If you are uncertain about the code above or are having problems with it, you can also just imagine that the file does not exists and make defining the variable `boolean` part of your solution._"
   ]
  },
  {
   "cell_type": "code",
   "execution_count": 59,
   "metadata": {},
   "outputs": [
    {
     "name": "stdout",
     "output_type": "stream",
     "text": [
      "The file file_name_to_check.txt does not exist in the folder.\n"
     ]
    }
   ],
   "source": [
    "if boolean == True:\n",
    "    print(f\"The file {fname} exists in the folder.\")\n",
    "else:\n",
    "    print(f\"The file {fname} does not exist in the folder.\")"
   ]
  },
  {
   "cell_type": "markdown",
   "metadata": {},
   "source": [
    "Now let's get more practice with string methods and how to combine them with if statements. \n",
    "\n",
    "> **Task 3.2**: Define the string `string = \"I-love-programming-in-python\"` and use string methods to do the following:\n",
    ">\n",
    ">1. Replace the characters \"-\" with spaces (\" \").\n",
    ">2. Convert the string to a title."
   ]
  },
  {
   "cell_type": "code",
   "execution_count": 79,
   "metadata": {},
   "outputs": [
    {
     "data": {
      "text/plain": [
       "'I Love Programming In Python'"
      ]
     },
     "execution_count": 79,
     "metadata": {},
     "output_type": "execute_result"
    }
   ],
   "source": [
    "# Define string\n",
    "string = \"I-love-programming-in-python\"\n",
    "# Replace dashes with spaces\n",
    "string = string.replace(\"-\", \" \")\n",
    "# Change to title (all words start with a capital letter)\n",
    "string = string.title()\n",
    "string"
   ]
  },
  {
   "cell_type": "markdown",
   "metadata": {},
   "source": [
    "> **Task 3.3:** Combine string methods and conditional flow control into code that does the following:\n",
    "> - Check whether the string is a title and the number of \"-\" characters is equal to 0. \n",
    "> - If both conditions are met, store each word of the string into a separate element in a list. Plus, print the length of both the list and the string. Explain why they have the same lenght or not. \n",
    "> - If the conditions are not met, print \"Something went wrong with the string methods.\""
   ]
  },
  {
   "cell_type": "code",
   "execution_count": 88,
   "metadata": {},
   "outputs": [
    {
     "name": "stdout",
     "output_type": "stream",
     "text": [
      "the number of characters in the list 'string' is 28.\n",
      "the number of words it contains is 5.\n"
     ]
    }
   ],
   "source": [
    "if (string.istitle() == True) & (string.count('-') == 0):\n",
    "    words = string.split()\n",
    "    print(f\"the number of characters in the list 'string' is {len(string)}.\")\n",
    "    print(f\"the number of words it contains is {len(words)}.\")\n",
    "else:\n",
    "    print(\"Something went wrong with the string methods.\")"
   ]
  },
  {
   "cell_type": "markdown",
   "metadata": {},
   "source": [
    "## 4. Practicing Python Built-in Functions and String Methods\n",
    "\n",
    "As you know by now, Python like any other language requires practice and repitition to acquire ease and fluency in using it. The next couple of tasks are intended to give you some opportunity to do just that with a specific focus on built-in functions and more string methods.\n",
    "\n",
    ">**Task 4.1**: Pick three built-in functions and apply them to an object of your choosing. For instance, you could try the following functions on lists: \n",
    "\n",
    "```python\n",
    "\n",
    "list_of_numbers = [0, 4, 3, -7] \n",
    "\n",
    "max(list_of_numbers)\n",
    "\n",
    "min(list_of_numbers)\n",
    "\n",
    "```\n",
    "\n",
    "> _Hint: You can find documentation on the built-in functions in Python [here](https://www.w3schools.com/python/python_ref_functions.asp)._"
   ]
  },
  {
   "cell_type": "code",
   "execution_count": 121,
   "metadata": {},
   "outputs": [],
   "source": [
    "sds_group = [\"Silvia\", \"Korbinian\", \"Isha\", \"Aske\"]\n"
   ]
  },
  {
   "cell_type": "code",
   "execution_count": 125,
   "metadata": {},
   "outputs": [
    {
     "name": "stdout",
     "output_type": "stream",
     "text": [
      "the total number of letters in the list is 41.\n",
      "The person with the longest name is Korbinian.\n"
     ]
    }
   ],
   "source": [
    "# first built-in function \n",
    "sds_group.append(\"Anders\")\n",
    "# second built-in function \n",
    "letters = \"\".join(sds_group)\n",
    "print(f\"the total number of letters in the list is {len(letters)}.\")\n",
    "# third built-in function b\n",
    "print(f\"The person with the longest name is {max(sds_group, key=len)}.\")"
   ]
  },
  {
   "cell_type": "markdown",
   "metadata": {},
   "source": [
    ">**Task 4.2**: Next, check out the [String Methods documentation](https://www.w3schools.com/python/python_ref_string.asp). Then, define a string and try out at least two string methods that we haven't used in class before. As an example, you could use the replace method. \n",
    "\n",
    "```python\n",
    "string = \"Hello\"\n",
    "\n",
    "string.replace(\"ello\", \"i\")\n",
    "\n",
    "```\n"
   ]
  },
  {
   "cell_type": "code",
   "execution_count": 127,
   "metadata": {},
   "outputs": [
    {
     "data": {
      "text/plain": [
       "'BEAST'"
      ]
     },
     "execution_count": 127,
     "metadata": {},
     "output_type": "execute_result"
    }
   ],
   "source": [
    "# define string\n",
    "string = \"beast\"\n",
    "# first string method\n",
    "string.replace(\"b\", \"f\")\n",
    "\n",
    "# second string method\n",
    "string.upper()"
   ]
  },
  {
   "cell_type": "markdown",
   "metadata": {},
   "source": [
    "## 5. Tracing and Debugging\n",
    "\n",
    "While you are getting steadly more at ease with working in Python, error messages will remain a constant companion. Therefore, dealing with error messages and resolving them is a key part of writing and working with code. While you will gain most of the knowledge and facility of how to do this tracing and debugging while practicing coding yourself, there are some best practices that can help you develop this facility. These are:\n",
    "\n",
    "1. Treat error messages like guide posts not stop signs–they are intended to help you solve an error not discourage you from coding.\n",
    "2. Read the guide posts carefully, starting from the last line describing the error, then looking at the last marker–`^` or `---->`–to identify the location of the error.\n",
    "3. Remember and make use of the layers of support in this class and the overall programming community: \n",
    "    1. Consult your readings, earlier notebooks, own comments, and [Python documentation](https://docs.python.org/3/index.html)\n",
    "    2. Look up error messages in only forums (such as [Stack Overflow](https://stackoverflow.com/questions) and the internet more broadly)\n",
    "    3. Involve your Base Camp group\n",
    "    4. Draw on the TAs during exercise sessions\n",
    "    5. Pose the problem to instructors on the [Absalon Discussion Forum](https://absalon.ku.dk/courses/45629/discussion_topics/282640)\n",
    "4. Sometimes running a section of code with an error will get stuck in the memory (cache) of your Python session. If you are confident that you have resolved the error in your code but it persists, try restarting your session by clicking 'Kernel' > 'Restart'. _Note:_ This will also clear everything you did in earlier cells from the memory (cache).\n",
    "5. Other times the errors will cause a process to run endlessly without actually raising an error. You can determine this by looking at the dot on the top right corner, if it is solid Python is busy, if it is hollow Python is idle. If Python is busy for an unreasonably long amount of time, you can interrupt the process by clicking 'Kernel' > 'Interrupt'. _Note:_ This will also likely require you to run everything you did so far over again.\n",
    "\n",
    "> **Task 5.1:** Look at the three cells and their error messages below. For each, \n",
    "    > - write out the error message\n",
    "    > - identify the location of the error\n",
    "    > - revise the code _in any way that resolves the error_ and rerun the cell\n",
    "    > - write a one to three sentence reflection on how you approached and resolved the error"
   ]
  },
  {
   "cell_type": "markdown",
   "metadata": {},
   "source": [
    "> **Task 5.1.1**"
   ]
  },
  {
   "cell_type": "code",
   "execution_count": 129,
   "metadata": {
    "scrolled": true
   },
   "outputs": [
    {
     "ename": "ZeroDivisionError",
     "evalue": "division by zero",
     "output_type": "error",
     "traceback": [
      "\u001b[1;31m---------------------------------------------------------------------------\u001b[0m",
      "\u001b[1;31mZeroDivisionError\u001b[0m                         Traceback (most recent call last)",
      "\u001b[1;32m<ipython-input-129-711c743a9413>\u001b[0m in \u001b[0;36m<module>\u001b[1;34m\u001b[0m\n\u001b[1;32m----> 1\u001b[1;33m \u001b[1;36m10\u001b[0m \u001b[1;33m*\u001b[0m \u001b[1;33m(\u001b[0m\u001b[1;36m1\u001b[0m\u001b[1;33m/\u001b[0m\u001b[1;36m0\u001b[0m\u001b[1;33m)\u001b[0m\u001b[1;33m\u001b[0m\u001b[1;33m\u001b[0m\u001b[0m\n\u001b[0m\u001b[0;32m      2\u001b[0m \u001b[1;31m# It says devision by zero - that is not posssible\u001b[0m\u001b[1;33m\u001b[0m\u001b[1;33m\u001b[0m\u001b[1;33m\u001b[0m\u001b[0m\n\u001b[0;32m      3\u001b[0m \u001b[1;36m10\u001b[0m \u001b[1;33m*\u001b[0m \u001b[1;36m1\u001b[0m\u001b[1;33m\u001b[0m\u001b[1;33m\u001b[0m\u001b[0m\n",
      "\u001b[1;31mZeroDivisionError\u001b[0m: division by zero"
     ]
    }
   ],
   "source": [
    "10 * (1/0)\n",
    "# It says devision by zero - that is not posssible"
   ]
  },
  {
   "cell_type": "markdown",
   "metadata": {},
   "source": [
    "> **Task 5.1.2**"
   ]
  },
  {
   "cell_type": "code",
   "execution_count": 130,
   "metadata": {
    "scrolled": true
   },
   "outputs": [
    {
     "ename": "SyntaxError",
     "evalue": "invalid syntax (<ipython-input-130-d7b7e13df028>, line 1)",
     "output_type": "error",
     "traceback": [
      "\u001b[1;36m  File \u001b[1;32m\"<ipython-input-130-d7b7e13df028>\"\u001b[1;36m, line \u001b[1;32m1\u001b[0m\n\u001b[1;33m    100 %% 3\u001b[0m\n\u001b[1;37m         ^\u001b[0m\n\u001b[1;31mSyntaxError\u001b[0m\u001b[1;31m:\u001b[0m invalid syntax\n"
     ]
    }
   ],
   "source": [
    "100 %% 3\n",
    "# Invalid syntax - only one %"
   ]
  },
  {
   "cell_type": "code",
   "execution_count": 131,
   "metadata": {},
   "outputs": [
    {
     "data": {
      "text/plain": [
       "1"
      ]
     },
     "execution_count": 131,
     "metadata": {},
     "output_type": "execute_result"
    }
   ],
   "source": [
    "100%3"
   ]
  },
  {
   "cell_type": "markdown",
   "metadata": {},
   "source": [
    "> **Task 5.1.3**"
   ]
  },
  {
   "cell_type": "code",
   "execution_count": 132,
   "metadata": {
    "scrolled": false
   },
   "outputs": [
    {
     "ename": "AttributeError",
     "evalue": "'str' object has no attribute 'istitl'",
     "output_type": "error",
     "traceback": [
      "\u001b[1;31m---------------------------------------------------------------------------\u001b[0m",
      "\u001b[1;31mAttributeError\u001b[0m                            Traceback (most recent call last)",
      "\u001b[1;32m<ipython-input-132-9fe068237cef>\u001b[0m in \u001b[0;36m<module>\u001b[1;34m\u001b[0m\n\u001b[0;32m      1\u001b[0m \u001b[0ma_title\u001b[0m \u001b[1;33m=\u001b[0m \u001b[1;34m'Honorable'\u001b[0m\u001b[1;33m\u001b[0m\u001b[1;33m\u001b[0m\u001b[0m\n\u001b[0;32m      2\u001b[0m \u001b[1;33m\u001b[0m\u001b[0m\n\u001b[1;32m----> 3\u001b[1;33m \u001b[0ma_title\u001b[0m\u001b[1;33m.\u001b[0m\u001b[0mistitl\u001b[0m\u001b[1;33m(\u001b[0m\u001b[1;33m)\u001b[0m\u001b[1;33m\u001b[0m\u001b[1;33m\u001b[0m\u001b[0m\n\u001b[0m",
      "\u001b[1;31mAttributeError\u001b[0m: 'str' object has no attribute 'istitl'"
     ]
    }
   ],
   "source": [
    "a_title = 'Honorable'\n",
    "\n",
    "a_title.istitl()"
   ]
  },
  {
   "cell_type": "code",
   "execution_count": 134,
   "metadata": {},
   "outputs": [
    {
     "data": {
      "text/plain": [
       "True"
      ]
     },
     "execution_count": 134,
     "metadata": {},
     "output_type": "execute_result"
    }
   ],
   "source": [
    "# Nothing is called 'istitl' - an 'e' is lacking.\n",
    "a_title.istitle()"
   ]
  },
  {
   "cell_type": "markdown",
   "metadata": {},
   "source": [
    "> **Task 5.1.4**"
   ]
  },
  {
   "cell_type": "code",
   "execution_count": 135,
   "metadata": {
    "scrolled": true
   },
   "outputs": [
    {
     "ename": "IndexError",
     "evalue": "list index out of range",
     "output_type": "error",
     "traceback": [
      "\u001b[1;31m---------------------------------------------------------------------------\u001b[0m",
      "\u001b[1;31mIndexError\u001b[0m                                Traceback (most recent call last)",
      "\u001b[1;32m<ipython-input-135-acdf254a7b7b>\u001b[0m in \u001b[0;36m<module>\u001b[1;34m\u001b[0m\n\u001b[0;32m      1\u001b[0m \u001b[0ma_list\u001b[0m \u001b[1;33m=\u001b[0m \u001b[1;33m[\u001b[0m\u001b[1;34m'first'\u001b[0m\u001b[1;33m,\u001b[0m \u001b[1;34m'second'\u001b[0m\u001b[1;33m,\u001b[0m \u001b[1;34m'last'\u001b[0m\u001b[1;33m]\u001b[0m\u001b[1;33m\u001b[0m\u001b[1;33m\u001b[0m\u001b[0m\n\u001b[0;32m      2\u001b[0m \u001b[1;33m\u001b[0m\u001b[0m\n\u001b[1;32m----> 3\u001b[1;33m \u001b[0ma_list\u001b[0m\u001b[1;33m[\u001b[0m\u001b[1;36m3\u001b[0m\u001b[1;33m]\u001b[0m\u001b[1;33m\u001b[0m\u001b[1;33m\u001b[0m\u001b[0m\n\u001b[0m",
      "\u001b[1;31mIndexError\u001b[0m: list index out of range"
     ]
    }
   ],
   "source": [
    "a_list = ['first', 'second', 'last']\n",
    "\n",
    "a_list[3]"
   ]
  },
  {
   "cell_type": "code",
   "execution_count": 136,
   "metadata": {},
   "outputs": [
    {
     "data": {
      "text/plain": [
       "'last'"
      ]
     },
     "execution_count": 136,
     "metadata": {},
     "output_type": "execute_result"
    }
   ],
   "source": [
    "# Out of range - index starts at 0.\n",
    "a_list[2]"
   ]
  },
  {
   "cell_type": "markdown",
   "metadata": {},
   "source": [
    "> **Task 5.1.5**"
   ]
  },
  {
   "cell_type": "code",
   "execution_count": 137,
   "metadata": {
    "scrolled": true
   },
   "outputs": [
    {
     "ename": "IndentationError",
     "evalue": "expected an indented block (<ipython-input-137-d793faf1722e>, line 2)",
     "output_type": "error",
     "traceback": [
      "\u001b[1;36m  File \u001b[1;32m\"<ipython-input-137-d793faf1722e>\"\u001b[1;36m, line \u001b[1;32m2\u001b[0m\n\u001b[1;33m    print('The last element is ' + a_list[-1] + '.')\u001b[0m\n\u001b[1;37m    ^\u001b[0m\n\u001b[1;31mIndentationError\u001b[0m\u001b[1;31m:\u001b[0m expected an indented block\n"
     ]
    }
   ],
   "source": [
    "if a_list[-1] == 'last':\n",
    "print('The last element is ' + a_list[-1] + '.')\n",
    "else:\n",
    "    print('The last element is not ' + a_list[-1] + '.')"
   ]
  },
  {
   "cell_type": "code",
   "execution_count": 138,
   "metadata": {},
   "outputs": [
    {
     "name": "stdout",
     "output_type": "stream",
     "text": [
      "The last element is last.\n"
     ]
    }
   ],
   "source": [
    "# Expected an indented block\n",
    "if a_list[-1] == 'last':\n",
    "    print('The last element is ' + a_list[-1] + '.')\n",
    "else:\n",
    "    print('The last element is not ' + a_list[-1] + '.')"
   ]
  },
  {
   "cell_type": "markdown",
   "metadata": {},
   "source": [
    "## 6. Reflection\n",
    ">Write a brief paragraph reflecting on your experience learning programming today. What did you struggle with? What did you enjoy? What surprised you?"
   ]
  },
  {
   "cell_type": "markdown",
   "metadata": {},
   "source": [
    "I have done some coding in python before, so this was very basic :)"
   ]
  },
  {
   "cell_type": "markdown",
   "metadata": {},
   "source": [
    "## 7. _If You Have Time_ Become a Python CEO and CFO\n",
    "\n",
    ">**Task 7.1**: Imagine you run you own company. You would like now to create a program that outputs if the average monthly income is as you expected it to be, greater or less and if applicable the difference between them. Moreover, assume your target monthly income is 40000 DKK, but your income fluctuates throughout the year in the following way: \n",
    "\n",
    "|Month|Income|\n",
    "|---|---|\n",
    "|January|45000|\n",
    "|February|55000|\n",
    "|March|65000|\n",
    "|April|35000|\n",
    "|May|45000|\n",
    "|June|67000|\n",
    "|July|23000|\n",
    "|August|56000|\n",
    "|September|30000|\n",
    "|October|33000|\n",
    "|November|32000|\n",
    "|December|55000|\n",
    "\n",
    "> Now, try writing down out code that tests how your income compares to your goals and prints the results.\n",
    ">\n",
    "> *Note*: think about calculating the expected and real income first."
   ]
  },
  {
   "cell_type": "code",
   "execution_count": 146,
   "metadata": {},
   "outputs": [
    {
     "data": {
      "text/plain": [
       "5083.33"
      ]
     },
     "execution_count": 146,
     "metadata": {},
     "output_type": "execute_result"
    }
   ],
   "source": [
    "# Income\n",
    "income = [45000, 55000,65000,35000,45000,67000,23000,56000,30000,33000,32000,55000]\n",
    "income_avg = round(sum(income) / len(income),2)\n",
    "\n",
    "# Expected\n",
    "expected = 40000\n",
    "\n",
    "# calculating the difference\n",
    "abs(round(income_avg - expected,2))"
   ]
  },
  {
   "cell_type": "code",
   "execution_count": null,
   "metadata": {},
   "outputs": [],
   "source": []
  }
 ],
 "metadata": {
  "kernelspec": {
   "display_name": "Python 3",
   "language": "python",
   "name": "python3"
  },
  "language_info": {
   "codemirror_mode": {
    "name": "ipython",
    "version": 3
   },
   "file_extension": ".py",
   "mimetype": "text/x-python",
   "name": "python",
   "nbconvert_exporter": "python",
   "pygments_lexer": "ipython3",
   "version": "3.8.3"
  }
 },
 "nbformat": 4,
 "nbformat_minor": 2
}
