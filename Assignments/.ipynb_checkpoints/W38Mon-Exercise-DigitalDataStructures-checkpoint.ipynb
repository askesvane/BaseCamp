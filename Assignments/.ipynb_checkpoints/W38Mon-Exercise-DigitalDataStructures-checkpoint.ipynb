{
 "cells": [
  {
   "cell_type": "markdown",
   "metadata": {},
   "source": [
    "Aske Svane Qvist"
   ]
  },
  {
   "cell_type": "markdown",
   "metadata": {},
   "source": [
    "# Exercises W38Mon: Digital Data Structures\n",
    "\n",
    "\n",
    "You fingers should now be iching for some new data to play with. And guess what? The Internet is full of it! Every **website** you can imagine can be **turned into a dataset** for analysis and you will now learn how to do this."
   ]
  },
  {
   "cell_type": "markdown",
   "metadata": {},
   "source": [
    "## 1. HTML"
   ]
  },
  {
   "cell_type": "markdown",
   "metadata": {},
   "source": [
    "It all starts with learning a little about the language of the World Wide Web. **HTML is the** ***markup language*** **used by web pages**. It's ubiquitous on the web; even when editing this notebook you are interacting with HTML (right click and hit \"View Page Source\" if you need proof). \n",
    "\n",
    "HTML consists of a series of elements that label pieces of content. Elements tell the browser how to display the content and are defined by a start tag followed by some content and an end tag: `<tagname> Content </tagname>`.\n",
    "\n",
    "Start tags are enclosed in angled brackets `<>` while end tags have a forward slash between the angled brackets `</>`."
   ]
  },
  {
   "cell_type": "markdown",
   "metadata": {},
   "source": [
    ">**Exercise 1.1:** What is the typical use of `<p>`, and `<h1>` tags? Look them up."
   ]
  },
  {
   "cell_type": "markdown",
   "metadata": {},
   "source": [
    "- `<p>` defines a paragraph of text\n",
    "- `<h1>` defines the highest level or most important header in the HTML"
   ]
  },
  {
   "cell_type": "markdown",
   "metadata": {},
   "source": [
    ">**Exercise 1.2:** Can you find a `<h1>` tag in the [Kaggle mainpage](https://kaggle.com/)? What text is contained in it? *Remember you can right click and hit 'Inspect' to view the code for the elements in the site.*"
   ]
  },
  {
   "cell_type": "markdown",
   "metadata": {},
   "source": [
    "\"Start with more than a blinking cursor\" - It is the main header on the page also written with the biggest letters"
   ]
  },
  {
   "cell_type": "markdown",
   "metadata": {},
   "source": [
    ">**Exercise 1.3:** Try changing the text in the `<h1>`tag. What happens? Reload the page. What happens now? "
   ]
  },
  {
   "cell_type": "markdown",
   "metadata": {},
   "source": [
    "- I could change the text on the webpage!"
   ]
  },
  {
   "cell_type": "markdown",
   "metadata": {},
   "source": [
    "Elements may also contain attributes that provide additional information about elements. Attributes are always contained in the start tag and usually come in name/value pairs like name = \"value\": `<tagname attribute_name = 'attribute_value'> Content </tagname>`  "
   ]
  },
  {
   "cell_type": "markdown",
   "metadata": {},
   "source": [
    "For the next two exercises, refer to the code below."
   ]
  },
  {
   "cell_type": "markdown",
   "metadata": {},
   "source": [
    "    <html>\n",
    "    <body>\n",
    "\n",
    "    <h1>This is the main title of the webpage</h1>\n",
    "    <h2>This is a sub-heading</h2>\n",
    "    <p style=\"text-align:right\">This is a paragraph of text.</p>\n",
    "\n",
    "    <h2>This is another sub-heading</h2>\n",
    "    <p>This is a paragraph of text with some words in bold.</p>\n",
    "    <img src=\"https://external-content.duckduckgo.com/iu/?u=https%3A%2F%2Fmedia.giphy.com%2Fmedia%2FkFgzrTt798d2w%2Fgiphy.gif&f=1&nofb=1\" width=\"493\" height=\"340\">\n",
    "    <p>And that just above is an image.</p>\n",
    "\n",
    "    </body>\n",
    "    </html>\n"
   ]
  },
  {
   "cell_type": "markdown",
   "metadata": {},
   "source": [
    ">**Exercise 1.4**: What is the attribute of the first `<p>` element?"
   ]
  },
  {
   "cell_type": "markdown",
   "metadata": {},
   "source": [
    "- that is 'style' - it aligns text to the right"
   ]
  },
  {
   "cell_type": "markdown",
   "metadata": {},
   "source": [
    ">**Exercise 1.5:** How many attributes does the `<img>` tag have? Can you notice something different between the `<img>`tag and the other tags?"
   ]
  },
  {
   "cell_type": "markdown",
   "metadata": {},
   "source": [
    "- The `<img>` has 2 attributes: src (the source of the image?), the width, and the height.\n",
    "- It does not end with the tagname but just a '>'"
   ]
  },
  {
   "cell_type": "markdown",
   "metadata": {},
   "source": [
    ">**Exercise 1.6:** The `<a>` tag defines a hyperlink. The most important attribute in an `<a>` tag is the `href` attribute, which specifies the link's destination. Write some text with a hyperlink to your most visited website.\n",
    "*Remember HTML is a type of markdown, so you can write your answer in a markdown cell and it will render correctly.*"
   ]
  },
  {
   "cell_type": "markdown",
   "metadata": {},
   "source": [
    "<a href=\"https://www.youtube.com/\">My hyperlink to YouTube</a>"
   ]
  },
  {
   "cell_type": "markdown",
   "metadata": {},
   "source": [
    "Up to now, we have mostly seen tags that contain text. However, there are other types of tags that are used as containers for other HTML elements. The most commonly used container is the `<div>`. `<div>` tags can contain text tags such as `<h>`tags or `<p>` tags, tables, and even other `<div>` tags. These are nested divs. \n",
    "\n",
    ">**Exercise 1.7:** Go back to the [Kaggle site](https://www.kaggle.com/) and find out how deeply nested the `<h1>` tag is."
   ]
  },
  {
   "cell_type": "code",
   "execution_count": null,
   "metadata": {},
   "outputs": [],
   "source": [
    "#<body>\n",
    "#    <main>\n",
    "#        <div>\n",
    "#            <div>\n",
    "#                <div>\n",
    "#                    <section>\n",
    "#                        <div>\n",
    "#                            <div>\n",
    "#                                <div>\n",
    "#                                    <h1>"
   ]
  },
  {
   "cell_type": "markdown",
   "metadata": {},
   "source": [
    "## 2. CSS"
   ]
  },
  {
   "cell_type": "markdown",
   "metadata": {},
   "source": [
    "CSS stands for Cascading Style Sheets and it is the language used to style an HTML document i.e. describes how HTML elements should be displayed (think colors, font, spacing, etc). \n",
    "\n",
    "CSS can be inserted *inline* to describe how a tag should look, *internally* at the beginning of the section to describe how all tags in that section should be displayed, or *externally*, in a different document that describes how all tags in the site should be displayed. \n",
    "\n",
    "Sometimes you might want a same type of tag to look differently in different places of the site (ie. you want a paragraph to have a font size 18 at the top of the page and a font size 14 lower down). In that case, you can use `class` and `id` attributes to identify the tags and apply styling to them. You might wonder why you need to know this if you are studying data science, not web design. Well, if you ever want to scrape certain elements from a website, you need to identify them first, and that's when these tags a attributes become very useful to you. \n",
    "\n",
    "Let's practice this identifying elements."
   ]
  },
  {
   "cell_type": "markdown",
   "metadata": {},
   "source": [
    ">**Exercise 2.1:** What class does the `<h1>` tag in the [Kaggle mainpage](https://www.kaggle.com/) belong to?"
   ]
  },
  {
   "cell_type": "markdown",
   "metadata": {},
   "source": [
    "class=\"sc-kEqXSa sc-iqAclL sc-kBqmDu dlltzk jibPFy boQsLV\""
   ]
  },
  {
   "cell_type": "markdown",
   "metadata": {},
   "source": [
    ">**Exercise 2.2**: Go to the [competitions section in the Kaggle site](https://www.kaggle.com/competitions) and look at the 'Get started' and 'Active competitions' text (using just your eyes for now). Now go to the [datasets section in the Kaggle site](https://www.kaggle.com/datasets) and look at the 'Trending datasets' and 'Popular datasets' text. Do you think the text in both sections has the same font, color, size? Do you suspect the texts in both pages belong to the same `class`?\n",
    ">Now Inspect these elements and look at their classes. What do you find?"
   ]
  },
  {
   "cell_type": "markdown",
   "metadata": {},
   "source": [
    "\"Get started\" -`<h2 class=\"sc-fFSPTT sc-bkbkJK sc-khIimk gaJJBS eraKfR gNMCgZ\">Get Started</h2>`\n",
    "\"Active competitions\" - `<h2 class=\"sc-fFSPTT sc-bkbkJK sc-eSRwjH gaJJBS eraKfR lnhkkx\">Active Competitions</h2>`\n",
    "\n",
    "\"Trending datasets\" - `<h2 class=\"sc-fFSPTT sc-bkbkJK sc-irqbAE gaJJBS eraKfR kxZWSs\">Trending Datasets</h2>` <br>\n",
    "\"Popular datasets\" - `<h2 class=\"sc-fFSPTT sc-bkbkJK sc-irqbAE gaJJBS eraKfR kxZWSs\">Popular Datasets</h2>`\n"
   ]
  },
  {
   "cell_type": "markdown",
   "metadata": {},
   "source": [
    "- The two on the first page belong to the same class. The two on the other page belong to another class. However, they look fairly alike"
   ]
  },
  {
   "cell_type": "markdown",
   "metadata": {},
   "source": [
    "## 3. JSON"
   ]
  },
  {
   "cell_type": "markdown",
   "metadata": {},
   "source": [
    "JSON stands for Java Script Object Notation. Unlike other types of data, JSON data is non-tabular, meaning that not all records need to have the same attributes. Data in JSON format is organized into collections of objects, where objects are collections of attribute-value pairs. This is very much like another data structure you already know: dictionaries. \n",
    "\n",
    "You can therefore parse a JSON text and read in Python to access data just like you would in a dictionary. Let's see how this works."
   ]
  },
  {
   "cell_type": "markdown",
   "metadata": {},
   "source": [
    ">**Exercise 3.1**: Open [this URL](https://rickandmortyapi.com/api/episode/1) and explore what kind of data it contains (I hope there are some Rick and Morty fans in the class). Use the requests library to access the website, render it as text in a variable, and parse it using `json.loads()`. You will need to import both `requests` and `json` to do this.\n",
    "\n",
    "*Hint: You can execute `?requests.get` after importing `requests` to display the module documentation.*"
   ]
  },
  {
   "cell_type": "code",
   "execution_count": 11,
   "metadata": {},
   "outputs": [
    {
     "data": {
      "text/plain": [
       "<Response [200]>"
      ]
     },
     "execution_count": 11,
     "metadata": {},
     "output_type": "execute_result"
    }
   ],
   "source": [
    "# Import packages\n",
    "import json, requests\n",
    "\n",
    "# Save the url\n",
    "url = \"https://rickandmortyapi.com/api/episode/1\"\n",
    "\n",
    "# grabbing the data with .get()\n",
    "response = requests.get(url)\n",
    "response"
   ]
  },
  {
   "cell_type": "code",
   "execution_count": 10,
   "metadata": {},
   "outputs": [
    {
     "data": {
      "text/plain": [
       "'{\"id\":1,\"name\":\"Pilot\",\"air_date\":\"December 2, 2013\",\"episode\":\"S01E01\",\"characters\":[\"https://rickandmortyapi.com/api/character/1\",\"https://rickandmortyapi.com/api/character/2\",\"https://rickandmortyapi.com/api/character/35\",\"https://rickandmortyapi.com/api/character/38\",\"https://rickandmortyapi.com/api/character/62\",\"https://rickandmortyapi.com/api/character/92\",\"https://rickandmortyapi.com/api/character/127\",\"https://rickandmortyapi.com/api/character/144\",\"https://rickandmortyapi.com/api/character/158\",\"https://rickandmortyapi.com/api/character/175\",\"https://rickandmortyapi.com/api/character/179\",\"https://rickandmortyapi.com/api/character/181\",\"https://rickandmortyapi.com/api/character/239\",\"https://rickandmortyapi.com/api/character/249\",\"https://rickandmortyapi.com/api/character/271\",\"https://rickandmortyapi.com/api/character/338\",\"https://rickandmortyapi.com/api/character/394\",\"https://rickandmortyapi.com/api/character/395\",\"https://rickandmortyapi.com/api/character/435\"],\"url\":\"https://rickandmortyapi.com/api/episode/1\",\"created\":\"2017-11-10T12:56:33.798Z\"}'"
      ]
     },
     "execution_count": 10,
     "metadata": {},
     "output_type": "execute_result"
    }
   ],
   "source": [
    "# save as a string\n",
    "data_string = response.text\n",
    "data_string"
   ]
  },
  {
   "cell_type": "code",
   "execution_count": 17,
   "metadata": {},
   "outputs": [
    {
     "data": {
      "text/plain": [
       "{'id': 1,\n",
       " 'name': 'Pilot',\n",
       " 'air_date': 'December 2, 2013',\n",
       " 'episode': 'S01E01',\n",
       " 'characters': ['https://rickandmortyapi.com/api/character/1',\n",
       "  'https://rickandmortyapi.com/api/character/2',\n",
       "  'https://rickandmortyapi.com/api/character/35',\n",
       "  'https://rickandmortyapi.com/api/character/38',\n",
       "  'https://rickandmortyapi.com/api/character/62',\n",
       "  'https://rickandmortyapi.com/api/character/92',\n",
       "  'https://rickandmortyapi.com/api/character/127',\n",
       "  'https://rickandmortyapi.com/api/character/144',\n",
       "  'https://rickandmortyapi.com/api/character/158',\n",
       "  'https://rickandmortyapi.com/api/character/175',\n",
       "  'https://rickandmortyapi.com/api/character/179',\n",
       "  'https://rickandmortyapi.com/api/character/181',\n",
       "  'https://rickandmortyapi.com/api/character/239',\n",
       "  'https://rickandmortyapi.com/api/character/249',\n",
       "  'https://rickandmortyapi.com/api/character/271',\n",
       "  'https://rickandmortyapi.com/api/character/338',\n",
       "  'https://rickandmortyapi.com/api/character/394',\n",
       "  'https://rickandmortyapi.com/api/character/395',\n",
       "  'https://rickandmortyapi.com/api/character/435'],\n",
       " 'url': 'https://rickandmortyapi.com/api/episode/1',\n",
       " 'created': '2017-11-10T12:56:33.798Z'}"
      ]
     },
     "execution_count": 17,
     "metadata": {},
     "output_type": "execute_result"
    }
   ],
   "source": [
    "# data as json\n",
    "dataJSON = json.loads(data_string)\n",
    "dataJSON"
   ]
  },
  {
   "cell_type": "markdown",
   "metadata": {},
   "source": [
    ">**Exercise 3.2:** When did Rick and Morty's pilot air? Remember you can now access the data as a dictionary."
   ]
  },
  {
   "cell_type": "code",
   "execution_count": 19,
   "metadata": {},
   "outputs": [
    {
     "data": {
      "text/plain": [
       "'December 2, 2013'"
      ]
     },
     "execution_count": 19,
     "metadata": {},
     "output_type": "execute_result"
    }
   ],
   "source": [
    "# Access air_date with key name\n",
    "dataJSON[\"air_date\"]"
   ]
  },
  {
   "cell_type": "markdown",
   "metadata": {},
   "source": [
    ">**Exercise 3.3:** How many characters appeared on episode 1 of Rick and Morty?"
   ]
  },
  {
   "cell_type": "code",
   "execution_count": 22,
   "metadata": {},
   "outputs": [
    {
     "data": {
      "text/plain": [
       "19"
      ]
     },
     "execution_count": 22,
     "metadata": {},
     "output_type": "execute_result"
    }
   ],
   "source": [
    "# Access character list\n",
    "character_URLs = dataJSON[\"characters\"]\n",
    "len(character_URLs)"
   ]
  },
  {
   "cell_type": "markdown",
   "metadata": {},
   "source": [
    ">**Exercise 3.4:** Yes, there are many characters in Rick and Morty. But two of them are the protagonists (see the show title). Repeat what you did in exercise 3.1 to get information about [Rick](https://rickandmortyapi.com/api/character/1) and [Morty](https://rickandmortyapi.com/api/character/2)."
   ]
  },
  {
   "cell_type": "code",
   "execution_count": 25,
   "metadata": {},
   "outputs": [],
   "source": [
    "# RICK \n",
    "\n",
    "# Save the url\n",
    "rick = \"https://rickandmortyapi.com/api/character/1\"\n",
    "# grabbing the data with .get()\n",
    "response = requests.get(rick)\n",
    "# as string\n",
    "rick_string = response.text\n",
    "# data as json\n",
    "dataRick = json.loads(rick_string)\n",
    "\n",
    "# MORTY\n",
    "\n",
    "# Save the url\n",
    "morty = \"https://rickandmortyapi.com/api/character/2\"\n",
    "# grabbing the data with .get()\n",
    "response = requests.get(morty)\n",
    "# as string\n",
    "morty_string = response.text\n",
    "# data as json\n",
    "dataMorty = json.loads(morty_string)"
   ]
  },
  {
   "cell_type": "markdown",
   "metadata": {},
   "source": [
    ">**Exercise 3.4.1:** What is Rick's full name? And Morty's?"
   ]
  },
  {
   "cell_type": "code",
   "execution_count": 29,
   "metadata": {},
   "outputs": [
    {
     "name": "stdout",
     "output_type": "stream",
     "text": [
      "Rick Sanchez\n",
      "Morty Smith\n"
     ]
    }
   ],
   "source": [
    "print(dataRick[\"name\"])\n",
    "print(dataMorty[\"name\"])"
   ]
  },
  {
   "cell_type": "markdown",
   "metadata": {},
   "source": [
    ">**Exercise 3.4.2**: Do you think both Rick and Morty appear on the same number of episodes? Check that out in the data. "
   ]
  },
  {
   "cell_type": "code",
   "execution_count": 37,
   "metadata": {},
   "outputs": [
    {
     "data": {
      "text/plain": [
       "True"
      ]
     },
     "execution_count": 37,
     "metadata": {},
     "output_type": "execute_result"
    }
   ],
   "source": [
    "len(dataMorty[\"episode\"]) == len(dataRick[\"episode\"])"
   ]
  },
  {
   "cell_type": "markdown",
   "metadata": {},
   "source": [
    "They appeared in the same number of episodes"
   ]
  },
  {
   "cell_type": "markdown",
   "metadata": {},
   "source": [
    ">**Exercise 3.5:** Save one of the .json files you imported back to your computer.\n",
    "\n",
    "*Hint: Use the json `.dump()` method.*"
   ]
  },
  {
   "cell_type": "code",
   "execution_count": 43,
   "metadata": {},
   "outputs": [],
   "source": [
    "# save the data as json files\n",
    "with open('data/dataRick.json', 'w') as f:\n",
    "    json.dump(dataRick, f)\n",
    "    \n",
    "with open('data/dataMorty.json', 'w') as f:\n",
    "    json.dump(dataMorty, f)"
   ]
  },
  {
   "cell_type": "markdown",
   "metadata": {},
   "source": [
    "## 4. Reflections\n",
    "\n",
    "> Write a brief paragraph reflecting on your experience today. How do you think you can use these new skills to acquired data from the internet? What did you struggle with? What did you enjoy? What surprised you?"
   ]
  },
  {
   "cell_type": "markdown",
   "metadata": {},
   "source": [
    "*This was a super nice exercise. I think a foundational understanding how HTML and json work will be crucial when we start learning to scrape. I learned a lot of new things. I was struggling a bit with the syntax and had to google around. Luckely, I went over some of the exercises in the readings for today - so getting the data from a url was pretty much plug-n-play.*"
   ]
  },
  {
   "cell_type": "markdown",
   "metadata": {},
   "source": [
    "## 5. Bonus Exercise: Putting it all together"
   ]
  },
  {
   "cell_type": "markdown",
   "metadata": {},
   "source": [
    "Now that you know a lot of random Rick and Morty trivia, you are ready to crush any Pub Quiz. But most importantly, now that you know the basics of HTML, CSS and JSON, you can make a basic website! "
   ]
  },
  {
   "cell_type": "markdown",
   "metadata": {},
   "source": [
    ">**Exercise 5.1**: Design a profile about your favorite Rick and Morty character. Use the data from exercise 2.4 to write the content. Include different HTML tags to organize the data in hierarchies, and use CSS attributes to add some life to the website. Include a picture and a link. \n",
    "\n",
    "*Hint: Don't forget HTML is a markup language, so you can write your code in a Markdown cell and it will render it correctly.*"
   ]
  },
  {
   "cell_type": "markdown",
   "metadata": {},
   "source": [
    "<html>\n",
    "<body>\n",
    "\n",
    "<h1 style=\"text-align: center\">Morty!</h1>\n",
    "<h2 style=\"text-align: center\"> My favorite character from 'Rick and Morty'</h2>\n",
    "\n",
    "<div class=\"alert alert-info\">\n",
    "    <h2 style=\"text-align: left\">Morty looks like this</h2>\n",
    "    <img src=\"https://static.tvtropes.org/pmwiki/pub/images/morty_smith_2.png\" width=\"200\" height=\"200\">\n",
    "    <p>You can find more information about him here:</p>\n",
    "    <a href=\"https://da.wikipedia.org/wiki/Morty_Smith\">Morty Smith</a>\n",
    "    \n",
    "<div class=\"alert alert-danger\">\n",
    "<p>Mortimer \"Morty\" Smith is one of the title characters and the secondary protagonist of the American animated television series Rick and Morty. Created by Justin Roiland and Dan Harmon, Morty is an anxious 14-year-old based on Michael J. Fox's Marty McFly from Back to the Future.[3] Known for his awkward, anxious, second-guessing, and doubtful personality and low sense of self-esteem, the character has been well-received. He is the good-natured and impressionable grandson of alcoholic mad scientist Rick Sanchez, the son of Jerry and Beth Smith, and the younger brother of Summer Smith, who can be easily manipulated.</p>\n",
    "    <a href=\"https://da.wikipedia.org/wiki/Morty_Smith\">wikipedia.com</a>\n",
    "</div>\n",
    "</div>\n",
    "\n",
    "</body>\n",
    "</html>"
   ]
  },
  {
   "cell_type": "code",
   "execution_count": null,
   "metadata": {},
   "outputs": [],
   "source": []
  }
 ],
 "metadata": {
  "display_name": "Python 3",
  "kernelspec": {
   "display_name": "Python 3",
   "language": "python",
   "name": "python3"
  },
  "language_info": {
   "codemirror_mode": {
    "name": "ipython",
    "version": 3
   },
   "file_extension": ".py",
   "mimetype": "text/x-python",
   "name": "python",
   "nbconvert_exporter": "python",
   "pygments_lexer": "ipython3",
   "version": "3.8.3"
  },
  "toc": {
   "base_numbering": 1,
   "nav_menu": {},
   "number_sections": false,
   "sideBar": true,
   "skip_h1_title": false,
   "title_cell": "Table of Contents",
   "title_sidebar": "Contents",
   "toc_cell": false,
   "toc_position": {},
   "toc_section_display": true,
   "toc_window_display": true
  },
  "varInspector": {
   "cols": {
    "lenName": 16,
    "lenType": 16,
    "lenVar": 40
   },
   "kernels_config": {
    "python": {
     "delete_cmd_postfix": "",
     "delete_cmd_prefix": "del ",
     "library": "var_list.py",
     "varRefreshCmd": "print(var_dic_list())"
    },
    "r": {
     "delete_cmd_postfix": ") ",
     "delete_cmd_prefix": "rm(",
     "library": "var_list.r",
     "varRefreshCmd": "cat(var_dic_list()) "
    }
   },
   "types_to_exclude": [
    "module",
    "function",
    "builtin_function_or_method",
    "instance",
    "_Feature"
   ],
   "window_display": false
  }
 },
 "nbformat": 4,
 "nbformat_minor": 1
}
