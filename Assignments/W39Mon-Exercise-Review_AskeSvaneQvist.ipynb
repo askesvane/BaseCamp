{
 "cells": [
  {
   "cell_type": "markdown",
   "metadata": {},
   "source": [
    "Aske Svane Qvist"
   ]
  },
  {
   "cell_type": "markdown",
   "metadata": {},
   "source": [
    "# Exercises W39Mon: Midway Review\n",
    "\n",
    "We have now covered most of the fundamental constructs in learning to program! \n",
    "\n",
    "And so, today we are going to review them so that you have a solid foundation moving forward. Remember when solving a problem that you should stop and think about it first. Break down the problem into smaller parts and solve it 'inside out'. Solve the smallest pieces first then use those to solve the bigger pieces, and so on. It often helps to write out pseudocode of what your program should do. "
   ]
  },
  {
   "cell_type": "markdown",
   "metadata": {},
   "source": [
    "## 0. Feedback on each other's code\n",
    "\n",
    "The exercise consists on going through the different exercises in a previous notebook - we recommend you use the loops exercises - to look for different or unexpected lines of code compared to the ones you used - but remember that there are different approaches to code, which are not necessarily better or worse. This part should be of around 10-15 minutes. If you are in a group of 4 people, you can change notebooks in pairs, if you are in a group of 3 you can swap 3 ways.\n",
    "\n",
    "Afterwards, you should give feedback to each other. For instance, if you have suggestions for improving, e.g. better commenting, clearer variable naming, etc. This last part should also take 10-15 minutes. \n",
    "\n",
    "In a markdown cell below, write down the suggestions you recieved and/or new functions, methods or approaches that you may have learnt. \n",
    "\n",
    "This exercise should take about 30 minutes in total.\n"
   ]
  },
  {
   "cell_type": "markdown",
   "metadata": {},
   "source": []
  },
  {
   "cell_type": "markdown",
   "metadata": {},
   "source": [
    "## 1. Indexing and Methods\n",
    "\n",
    "Accessing the exact element or piece of data we want in any object is a crucial basic skill in programming. You have learned about a host of different Python objects and their respective ways of indexing including strings, lists, tuples, and dictionaries. As they are all different structures, indexing works slightly different for each of them. The next couple of tasks are meant to help you internalize these different techniques."
   ]
  },
  {
   "cell_type": "markdown",
   "metadata": {},
   "source": [
    "### 1.1. Strings\n",
    "\n",
    "Let's pick up our string from earlier and see how we can access different elements in it."
   ]
  },
  {
   "cell_type": "code",
   "execution_count": 1,
   "metadata": {},
   "outputs": [],
   "source": [
    "a_title = 'Honorable'"
   ]
  },
  {
   "cell_type": "markdown",
   "metadata": {},
   "source": [
    "> **Task 1.1.1** Retrieve the word 'Honor' from the object `a_title` using string slicing."
   ]
  },
  {
   "cell_type": "code",
   "execution_count": 2,
   "metadata": {},
   "outputs": [
    {
     "data": {
      "text/plain": [
       "'Honor'"
      ]
     },
     "execution_count": 2,
     "metadata": {},
     "output_type": "execute_result"
    }
   ],
   "source": [
    "a_title[0:5]\n",
    "# Starts at 0 and the end index is not included"
   ]
  },
  {
   "cell_type": "markdown",
   "metadata": {},
   "source": [
    "> **Task 1.1.2** Retrieve the word 'able' from the object `a_title` using string slicing."
   ]
  },
  {
   "cell_type": "code",
   "execution_count": 3,
   "metadata": {},
   "outputs": [
    {
     "data": {
      "text/plain": [
       "'able'"
      ]
     },
     "execution_count": 3,
     "metadata": {},
     "output_type": "execute_result"
    }
   ],
   "source": [
    "a_title[-4:len(a_title)]"
   ]
  },
  {
   "cell_type": "markdown",
   "metadata": {},
   "source": [
    "> **Task 1.1.3** Retrieve the word 'elba' from the object `a_title` by indexing backwards from the back of the string."
   ]
  },
  {
   "cell_type": "code",
   "execution_count": 16,
   "metadata": {},
   "outputs": [
    {
     "data": {
      "text/plain": [
       "'elba'"
      ]
     },
     "execution_count": 16,
     "metadata": {},
     "output_type": "execute_result"
    }
   ],
   "source": [
    "a_title[8:4:-1]"
   ]
  },
  {
   "cell_type": "markdown",
   "metadata": {},
   "source": [
    "> **Task 1.1.4** In your own words, describe briefly how indexing for strings works refering to the role of 1) numbers, 2) colons (`:`), and 3) minus signs (`-`)."
   ]
  },
  {
   "cell_type": "markdown",
   "metadata": {},
   "source": [
    "- `Numbers` indicate the index. Always starts at zero. The ending index is not included\n",
    "- `colons` indicate a spectrum - from one index to another. Additionally, a third colon facilitates the posibility of adding '-1' which will reverse the element.\n",
    "- `Minus signs` will let you count from the right."
   ]
  },
  {
   "cell_type": "markdown",
   "metadata": {},
   "source": []
  },
  {
   "cell_type": "markdown",
   "metadata": {},
   "source": [
    "### 1.2. Lists"
   ]
  },
  {
   "cell_type": "markdown",
   "metadata": {},
   "source": [
    "> **Task 1.2.1** Use string methods to turn the object `a_title` into a list containing the elements 'Honor' and ' ble' assigning the result to a new object called `title_elements`. \n",
    ">\n",
    "> _Note:_ Remember that you can use auto-completion to see methods and attributes of an object by placing the cursor at the end of your code–in this case after `a_title.`–and pressing `Tab`. And to find out more about any of the suggestions, use the `help` function, e.g. `help(a_title.count)`"
   ]
  },
  {
   "cell_type": "code",
   "execution_count": 17,
   "metadata": {},
   "outputs": [
    {
     "data": {
      "text/plain": [
       "['Honor', 'ble']"
      ]
     },
     "execution_count": 17,
     "metadata": {},
     "output_type": "execute_result"
    }
   ],
   "source": [
    "title_elements = a_title.split(\"a\")\n",
    "title_elements"
   ]
  },
  {
   "cell_type": "markdown",
   "metadata": {},
   "source": [
    "> **Task 1.2.2** Retrieve the element 'Honor' via list indexing from `title_elements`."
   ]
  },
  {
   "cell_type": "code",
   "execution_count": 19,
   "metadata": {},
   "outputs": [
    {
     "data": {
      "text/plain": [
       "'Honor'"
      ]
     },
     "execution_count": 19,
     "metadata": {},
     "output_type": "execute_result"
    }
   ],
   "source": [
    "title_elements[0]"
   ]
  },
  {
   "cell_type": "markdown",
   "metadata": {},
   "source": [
    "Oftentimes lists we work with are significantly longer than our `title_elements` object. In such case, it is not feasible to identify the relevant index for the element we are interested in by eyeballing the string. In such cases, the built-in list method `index` allows us to retrieve the first the index for the element we are interested in."
   ]
  },
  {
   "cell_type": "code",
   "execution_count": 20,
   "metadata": {},
   "outputs": [],
   "source": [
    "longer_list = a_title.split('a')[::-1] * 5 + a_title.split('a')[:1] * 5 + [a_title] + a_title.split('a') * 5"
   ]
  },
  {
   "cell_type": "code",
   "execution_count": 21,
   "metadata": {},
   "outputs": [
    {
     "data": {
      "text/plain": [
       "['ble',\n",
       " 'Honor',\n",
       " 'ble',\n",
       " 'Honor',\n",
       " 'ble',\n",
       " 'Honor',\n",
       " 'ble',\n",
       " 'Honor',\n",
       " 'ble',\n",
       " 'Honor',\n",
       " 'Honor',\n",
       " 'Honor',\n",
       " 'Honor',\n",
       " 'Honor',\n",
       " 'Honor',\n",
       " 'Honorable',\n",
       " 'Honor',\n",
       " 'ble',\n",
       " 'Honor',\n",
       " 'ble',\n",
       " 'Honor',\n",
       " 'ble',\n",
       " 'Honor',\n",
       " 'ble',\n",
       " 'Honor',\n",
       " 'ble']"
      ]
     },
     "execution_count": 21,
     "metadata": {},
     "output_type": "execute_result"
    }
   ],
   "source": [
    "longer_list"
   ]
  },
  {
   "cell_type": "markdown",
   "metadata": {},
   "source": [
    " > **Task 1.2.3** Use the `index` method to first retrieve the index of the element 'Honorable' from `longer_list` and second to retrieve only the 'Honorable' element from `longer_list`.\n",
    "> \n",
    "> _Note:_ There are at least two ways of doing this. Can you find both?"
   ]
  },
  {
   "cell_type": "code",
   "execution_count": 23,
   "metadata": {},
   "outputs": [
    {
     "data": {
      "text/plain": [
       "15"
      ]
     },
     "execution_count": 23,
     "metadata": {},
     "output_type": "execute_result"
    }
   ],
   "source": [
    "longer_list.index(\"Honorable\")"
   ]
  },
  {
   "cell_type": "code",
   "execution_count": 24,
   "metadata": {},
   "outputs": [
    {
     "data": {
      "text/plain": [
       "'Honorable'"
      ]
     },
     "execution_count": 24,
     "metadata": {},
     "output_type": "execute_result"
    }
   ],
   "source": [
    "longer_list[15]"
   ]
  },
  {
   "cell_type": "markdown",
   "metadata": {},
   "source": [
    "## 1.3. Dictionaries\n",
    "\n",
    "The intuition behind the `index` function for lists is similar to how we access elements in dictionaries, i.e. by name or key rather than by position. Let's work with a familiar dataset but turn it into a dictionary this time."
   ]
  },
  {
   "cell_type": "code",
   "execution_count": 264,
   "metadata": {},
   "outputs": [],
   "source": [
    "import pandas as pd\n",
    "\n",
    "url = 'https://dl.dropboxusercontent.com/s/9war4suj1s5j1ah/sodas_people_twitter_scholar.csv?dl=1'\n",
    "\n",
    "sodas_people_df = pd.read_csv(url)"
   ]
  },
  {
   "cell_type": "code",
   "execution_count": 265,
   "metadata": {},
   "outputs": [],
   "source": [
    "# set names as indices for DataFrame\n",
    "sodas_people_df = sodas_people_df.set_index('name')\n",
    "\n",
    "# turn DataFrame into dictionary of dictionaries using `to_dict` and `index` orientation\n",
    "sodas_people_dict = sodas_people_df.to_dict('index')"
   ]
  },
  {
   "cell_type": "markdown",
   "metadata": {},
   "source": [
    "> **Task 1.3.1**  Show how you find the relevant key and draw the information for Hjalmar from the `sodas_people_dict` dictionary."
   ]
  },
  {
   "cell_type": "code",
   "execution_count": 266,
   "metadata": {},
   "outputs": [
    {
     "data": {
      "text/plain": [
       "dict_keys(['David Dreyer Lassen', 'Morten Axel Pedersen', 'Rebecca Adler-Nissen', 'Sune Lehmann', 'Anders Blok', 'Søren Kyllingsbæk', 'Robert Böhm', 'Andreas Bjerre-Nielsen', 'Frederik Hjorth', 'Kristoffer Albris', 'Friedolin Merhout', 'Gregory Eady', 'Samantha Breslin', 'Hjalmar Alexander Bang Carlsen', 'Patrice Wangen', 'Kristin Anabel Eggeling', 'Helene Willadsen', 'Mette My Madsen', 'Anna Rogers', 'Kristoffer Pade Glavind', 'Asger Andersen', 'Yangliu Fan', 'Thyge Enggaard', 'Kelton Ray Minor', 'Sigriður Svala Jónasdóttir', 'Terne Sasha Thorn Jakobsen', 'Eva Iris Otto', 'Anna Helene Kvist Møller', 'Nicklas Johansen', 'Germans Savčišens', 'Snorre Ralund', 'Annika Isfeldt', 'Yevgeniy Golovchenko', 'Sophie Smitt Sindrup Grønning', 'Louise Marie Lausten', 'Jonas Skjold Raaschou-Pedersen', 'Zoe Anna Skovby Burke', 'Frederik Carl Windfeld', 'Sofie Læbo Astrupgaard', 'Malene Hornstrup Jespersen', 'Viktor Due Pedersen', 'Cathrine Valentin Kjær', 'Esben Brøgger Lemminger', 'Sara Vera Marjanovic', 'Asger Hans Thomsen', 'Emilie Munch-Gregersen', 'Tobias Priesholm Gårdhus', 'Jonathan Holm Salka', 'Clara Rosa Sandbye', 'Nete Schwennesen', 'Simon Westergaard Lex'])"
      ]
     },
     "execution_count": 266,
     "metadata": {},
     "output_type": "execute_result"
    }
   ],
   "source": [
    "# Check the keys because I don't remember Hjalmars lastname\n",
    "sodas_people_dict.keys()"
   ]
  },
  {
   "cell_type": "code",
   "execution_count": 35,
   "metadata": {},
   "outputs": [
    {
     "data": {
      "text/plain": [
       "{'description': 'Hjalmar Alexander Bang Carlsen\\xa0works in the intersection between social data science, political sociology and pragmatism.\\xa0He\\xa0has 2 main projects 1) activists patterns of engagement 2) methodological issues within quantitative and qualitative text analysis, and especially their combination. Social Data Science Skills: Text Methodology, Digital Mixed Methods, Interactionism, Social Media SODAS courses: Digital Methods: From Ethnography to Supervised Machine Learning,\\xa0Re-tooling Social Analysis: Behaviors, Networks, Ideas in the digital age SODAS projects: Solidarity and Volunteering in the Corona Crisis,\\xa0The Dynamics of Political Discourse and Attention during the COVID-19 outbreak,\\xa0COVID-19 Snapshot MOnitoring in Denmark (COSMO Denmark) hc@sodas.ku.dkGoogle Scholar',\n",
       " 'role': 'Postdoctoral Researcher',\n",
       " 'twitter': nan,\n",
       " 'google_scholar': 'https://scholar.google.dk/citations?user=um6jqCgAAAAJ&hl=en',\n",
       " 'mail': 'hc@soc.ku.dk',\n",
       " 'twitter_handle': nan,\n",
       " 'twitter_created_at': nan,\n",
       " 'twitter_bio': nan,\n",
       " 'twitter_followers_n': nan,\n",
       " 'twitter_friends_n': nan,\n",
       " 'twitter_listed_n': nan,\n",
       " 'twitter_location': nan,\n",
       " 'twitter_status_n': nan,\n",
       " 'twitter_name': nan,\n",
       " 'twitter_verified': nan,\n",
       " 'gs_cites_all_time': 72.0,\n",
       " 'gs_cites_since_2015': 71.0,\n",
       " 'gs_h_index_all_time': 5.0,\n",
       " 'gs_i10_index_all_time': 3.0,\n",
       " 'gs_most_cited_title': \"The World of Edgerank: Rhetorical Justifications of Facebook's News Feed Algorithm\",\n",
       " 'gs_most_cited_authors': 'A Birkbak, HB Carlsen',\n",
       " 'gs_most_cited_outlet': 'Computational Culture (5), Special Issue on Rhetoric and Computation, 2016',\n",
       " 'gs_most_cited_year': 2016.0,\n",
       " 'gs_most_cited_cites': 21.0}"
      ]
     },
     "execution_count": 35,
     "metadata": {},
     "output_type": "execute_result"
    }
   ],
   "source": [
    "# Retrieve information on Hjalmar\n",
    "sodas_people_dict['Hjalmar Alexander Bang Carlsen']"
   ]
  },
  {
   "cell_type": "markdown",
   "metadata": {},
   "source": [
    "> **Task 1.3.2** Retrieve the title of Søren Kyllingsbæk's most cited article.\n",
    ">\n",
    "> _Note:_ You are working with a dictionary of dictionaries, and at each level you can use dictionary methods to identify the keys and retrieve information."
   ]
  },
  {
   "cell_type": "code",
   "execution_count": 39,
   "metadata": {},
   "outputs": [
    {
     "data": {
      "text/plain": [
       "'A neural theory of visual attention: bridging cognition and neurophysiology.'"
      ]
     },
     "execution_count": 39,
     "metadata": {},
     "output_type": "execute_result"
    }
   ],
   "source": [
    "sodas_people_dict['Søren Kyllingsbæk']['gs_most_cited_title']"
   ]
  },
  {
   "cell_type": "markdown",
   "metadata": {},
   "source": [
    "## 2. Loops"
   ]
  },
  {
   "cell_type": "markdown",
   "metadata": {},
   "source": [
    ">**Task 2.1**: Use a for loop to check in sodas_people_dict for two chosen people and count how many nan values they have and in which fields. It may be a good idea to write some pseudocode first on how to approach this exercise.\n",
    ">\n",
    "> *Hint 1*: you can try selecting the first two entries in the dictionary with a for or while loop. \n",
    ">\n",
    "> *Hint 2*: recall pd.isna().\n",
    ">\n",
    "> *Hint 3*: nested loops and if/else statements may be a good solution to the problem. "
   ]
  },
  {
   "cell_type": "markdown",
   "metadata": {},
   "source": [
    "Get the first two names with a for loop."
   ]
  },
  {
   "cell_type": "code",
   "execution_count": 125,
   "metadata": {},
   "outputs": [],
   "source": [
    "# List of all people in sodas\n",
    "researcher_all = list(sodas_people_dict.keys())\n",
    "# empty container\n",
    "researcher_list = []\n",
    "\n",
    "# Loop over the first 2 in list\n",
    "for i in range(3,7):\n",
    "    # Append to empty container\n",
    "    researcher_list.append(people_all[i])"
   ]
  },
  {
   "cell_type": "code",
   "execution_count": 126,
   "metadata": {},
   "outputs": [
    {
     "data": {
      "text/plain": [
       "{'Sune Lehmann': {'count': 0, 'nan_categories': []},\n",
       " 'Anders Blok': {'count': 21,\n",
       "  'nan_categories': ['twitter',\n",
       "   'google_scholar',\n",
       "   'twitter_handle',\n",
       "   'twitter_created_at',\n",
       "   'twitter_bio',\n",
       "   'twitter_followers_n',\n",
       "   'twitter_friends_n',\n",
       "   'twitter_listed_n',\n",
       "   'twitter_location',\n",
       "   'twitter_status_n',\n",
       "   'twitter_name',\n",
       "   'twitter_verified',\n",
       "   'gs_cites_all_time',\n",
       "   'gs_cites_since_2015',\n",
       "   'gs_h_index_all_time',\n",
       "   'gs_i10_index_all_time',\n",
       "   'gs_most_cited_title',\n",
       "   'gs_most_cited_authors',\n",
       "   'gs_most_cited_outlet',\n",
       "   'gs_most_cited_year',\n",
       "   'gs_most_cited_cites']},\n",
       " 'Søren Kyllingsbæk': {'count': 11,\n",
       "  'nan_categories': ['twitter',\n",
       "   'twitter_handle',\n",
       "   'twitter_created_at',\n",
       "   'twitter_bio',\n",
       "   'twitter_followers_n',\n",
       "   'twitter_friends_n',\n",
       "   'twitter_listed_n',\n",
       "   'twitter_location',\n",
       "   'twitter_status_n',\n",
       "   'twitter_name',\n",
       "   'twitter_verified']},\n",
       " 'Robert Böhm': {'count': 10,\n",
       "  'nan_categories': ['google_scholar',\n",
       "   'gs_cites_all_time',\n",
       "   'gs_cites_since_2015',\n",
       "   'gs_h_index_all_time',\n",
       "   'gs_i10_index_all_time',\n",
       "   'gs_most_cited_title',\n",
       "   'gs_most_cited_authors',\n",
       "   'gs_most_cited_outlet',\n",
       "   'gs_most_cited_year',\n",
       "   'gs_most_cited_cites']}}"
      ]
     },
     "execution_count": 126,
     "metadata": {},
     "output_type": "execute_result"
    }
   ],
   "source": [
    "#Dictionary container\n",
    "dictionary = {}\n",
    "\n",
    "\n",
    "for researcher in researcher_list:\n",
    "    \n",
    "    # Create empty dictionary for information\n",
    "    info_dict = {}\n",
    "    \n",
    "    # Retrieve information for the researcher\n",
    "    info = sodas_people_dict[researcher]\n",
    "    \n",
    "    # List the value and key information in two seperate lists\n",
    "    value_info = list(info.values())\n",
    "    key_info = list(info.keys())\n",
    "    \n",
    "    # Store na categories\n",
    "    booleans = pd.isna(value_info)\n",
    "    \n",
    "    # Create category container\n",
    "    nan_categories = []\n",
    "\n",
    "    # loop over every boolean. If it is true, append the category to 'nan_categories'\n",
    "    for i, boolean in enumerate(booleans):\n",
    "        if boolean == True:\n",
    "            nan_categories.append(key_info[i])\n",
    "        else:\n",
    "            pass\n",
    "\n",
    "    # Store na count and na categories in the empty info_dict\n",
    "    info_dict[\"count\"] = sum(booleans)\n",
    "    info_dict[\"nan_categories\"] = nan_categories\n",
    "    \n",
    "    # Create key based on person and append dictionary with info\n",
    "    dictionary[researcher] = info_dict\n",
    "\n",
    "#dictionary\n",
    "dictionary"
   ]
  },
  {
   "cell_type": "markdown",
   "metadata": {},
   "source": [
    ">**Task 2.2**: Use a for loop to write a program that prints the sum of the squares of the integers from 1 to 10 to the power of 4. \n",
    ">\n",
    ">*Hint*: The range() function may be handy for you to solve the exercise. "
   ]
  },
  {
   "cell_type": "code",
   "execution_count": 137,
   "metadata": {},
   "outputs": [
    {
     "name": "stdout",
     "output_type": "stream",
     "text": [
      "21970650625\n"
     ]
    }
   ],
   "source": [
    "Sum = 0\n",
    "\n",
    "# loop over the range 1-10\n",
    "for i in range(1,11):\n",
    "    \n",
    "    #Add the square of every integer to the total sum\n",
    "    Sum = Sum + i**2\n",
    "\n",
    "# Print the sum to the power of 4.\n",
    "print(Sum**4)"
   ]
  },
  {
   "cell_type": "markdown",
   "metadata": {},
   "source": [
    ">**Task 2.3**: Use a while loop to write a program that after asking the user for a number (positive integer > 0), counts the number of digits in the given integer. \n",
    ">\n",
    "> *Hint*: "
   ]
  },
  {
   "cell_type": "code",
   "execution_count": 154,
   "metadata": {},
   "outputs": [
    {
     "data": {
      "text/plain": [
       "True"
      ]
     },
     "execution_count": 154,
     "metadata": {},
     "output_type": "execute_result"
    }
   ],
   "source": [
    "30//10\n",
    "\n"
   ]
  },
  {
   "cell_type": "code",
   "execution_count": 167,
   "metadata": {},
   "outputs": [
    {
     "name": "stdout",
     "output_type": "stream",
     "text": [
      "3\n",
      "The number '3' contains 1 digits.\n"
     ]
    }
   ],
   "source": [
    "# Input only integers\n",
    "num = int(input())\n",
    "\n",
    "# my while loop continues until receiving positive int\n",
    "while num < 0:\n",
    "    # If negative message is printed\n",
    "    print(\"The number is not a positive integer\")\n",
    "    # next try\n",
    "    num = int(input())\n",
    "\n",
    "# If conditions are met, print message:\n",
    "print(f\"The number '{num}' contains {len(str(num))} digits.\")"
   ]
  },
  {
   "cell_type": "markdown",
   "metadata": {},
   "source": [
    "## 3. If/else statements"
   ]
  },
  {
   "cell_type": "markdown",
   "metadata": {},
   "source": [
    ">**Task 3.1**: write a program that from this list of numbers [60, 199, 40, 405, 57, 377, 570, 73] displays only the numbers that are:\n",
    ">1. divisible by 2\n",
    ">2. if number is bigger than 67, does nothing and continues (if there are more elements in the list)\n",
    ">3. if number is bigger than 405, stops reading the list\n"
   ]
  },
  {
   "cell_type": "code",
   "execution_count": 175,
   "metadata": {},
   "outputs": [
    {
     "name": "stdout",
     "output_type": "stream",
     "text": [
      "60\n",
      "40\n"
     ]
    }
   ],
   "source": [
    "num_list = [60, 199, 40, 405, 57, 377, 570, 73]\n",
    "\n",
    "# Loop over every number\n",
    "for num in num_list:\n",
    "\n",
    "    # First, break if the number is bigger than 405. Then nothing else matters\n",
    "    if num > 405:\n",
    "        break\n",
    "    \n",
    "    # print if it lives up to both conditions under 67 and divisible by 2.\n",
    "    elif num%2 == 0 and num < 67:\n",
    "        print(num)"
   ]
  },
  {
   "cell_type": "markdown",
   "metadata": {},
   "source": [
    "## 4. Pandas and dictionaries"
   ]
  },
  {
   "cell_type": "markdown",
   "metadata": {},
   "source": [
    ">**Task 4.1**: Read in the sales.xlsx file using pandas. Explore what kind of information is present in the file. You should see that the data contains 4 columns - product name, number of sales, price and total amount. The last column should be number of sales times the price for each row/product.\n",
    ">\n",
    ">Now, think about how you can construct a dictionary from the data and try to correct any information contained in it that does not add up to you. Print the final dictionary.\n",
    ">\n",
    ">*Hint*: you can take a look [here](https://pandas.pydata.org/pandas-docs/stable/reference/io.html)  to see how to read in an excel file into a pandas dataframe. "
   ]
  },
  {
   "cell_type": "code",
   "execution_count": 181,
   "metadata": {},
   "outputs": [
    {
     "data": {
      "text/html": [
       "<div>\n",
       "<style scoped>\n",
       "    .dataframe tbody tr th:only-of-type {\n",
       "        vertical-align: middle;\n",
       "    }\n",
       "\n",
       "    .dataframe tbody tr th {\n",
       "        vertical-align: top;\n",
       "    }\n",
       "\n",
       "    .dataframe thead th {\n",
       "        text-align: right;\n",
       "    }\n",
       "</style>\n",
       "<table border=\"1\" class=\"dataframe\">\n",
       "  <thead>\n",
       "    <tr style=\"text-align: right;\">\n",
       "      <th></th>\n",
       "      <th>product name</th>\n",
       "      <th>number of sales</th>\n",
       "      <th>price</th>\n",
       "      <th>total amount</th>\n",
       "    </tr>\n",
       "  </thead>\n",
       "  <tbody>\n",
       "    <tr>\n",
       "      <th>0</th>\n",
       "      <td>product1</td>\n",
       "      <td>2</td>\n",
       "      <td>3000</td>\n",
       "      <td>6000</td>\n",
       "    </tr>\n",
       "    <tr>\n",
       "      <th>1</th>\n",
       "      <td>product2</td>\n",
       "      <td>4</td>\n",
       "      <td>450</td>\n",
       "      <td>1800</td>\n",
       "    </tr>\n",
       "    <tr>\n",
       "      <th>2</th>\n",
       "      <td>product3</td>\n",
       "      <td>5</td>\n",
       "      <td>300</td>\n",
       "      <td>67</td>\n",
       "    </tr>\n",
       "    <tr>\n",
       "      <th>3</th>\n",
       "      <td>product4</td>\n",
       "      <td>1</td>\n",
       "      <td>34</td>\n",
       "      <td>68</td>\n",
       "    </tr>\n",
       "  </tbody>\n",
       "</table>\n",
       "</div>"
      ],
      "text/plain": [
       "  product name  number of sales  price  total amount\n",
       "0     product1                2   3000          6000\n",
       "1     product2                4    450          1800\n",
       "2     product3                5    300            67\n",
       "3     product4                1     34            68"
      ]
     },
     "execution_count": 181,
     "metadata": {},
     "output_type": "execute_result"
    }
   ],
   "source": [
    "# Import data\n",
    "data = pd.read_excel(\"data/sales.xlsx\")\n",
    "\n",
    "data"
   ]
  },
  {
   "cell_type": "code",
   "execution_count": 233,
   "metadata": {},
   "outputs": [
    {
     "data": {
      "text/plain": [
       "{'product1': {'number of sales': 2, 'price': 3000, 'total amount': 6000},\n",
       " 'product2': {'number of sales': 4, 'price': 450, 'total amount': 1800},\n",
       " 'product3': {'number of sales': 5, 'price': 300, 'total amount': 100},\n",
       " 'product4': {'number of sales': 1, 'price': 34, 'total amount': 68}}"
      ]
     },
     "execution_count": 233,
     "metadata": {},
     "output_type": "execute_result"
    }
   ],
   "source": [
    "# create header list\n",
    "header = list(data)\n",
    "\n",
    "# create empty container dict\n",
    "sales_dict = {}\n",
    "\n",
    "# loop over every row in the data\n",
    "for i, r in data.iterrows():\n",
    "    \n",
    "    # Empty row dict\n",
    "    row_dict = {}\n",
    "    # Extract the info from the row and use the header list to create keys in dict\n",
    "    row_dict[header[1]] = r[1]\n",
    "    row_dict[header[2]] = r[2]\n",
    "    row_dict[header[3]] = r[3]\n",
    "\n",
    "    # save in container dict\n",
    "    sales_dict[r[0]] = row_dict\n",
    "\n",
    "sales_dict "
   ]
  },
  {
   "cell_type": "code",
   "execution_count": 241,
   "metadata": {},
   "outputs": [
    {
     "data": {
      "text/plain": [
       "{'product1': {'number of sales': 2, 'price': 3000, 'total amount': 6000},\n",
       " 'product2': {'number of sales': 4, 'price': 450, 'total amount': 1800},\n",
       " 'product3': {'number of sales': 5, 'price': 300, 'total amount': 1500},\n",
       " 'product4': {'number of sales': 1, 'price': 34, 'total amount': 34}}"
      ]
     },
     "execution_count": 241,
     "metadata": {},
     "output_type": "execute_result"
    }
   ],
   "source": [
    "# Correct dictionary\n",
    "sales_dict[\"product3\"][\"total amount\"] = sales_dict[\"product3\"]['number of sales'] * sales_dict[\"product3\"][\"price\"]\n",
    "sales_dict[\"product4\"][\"total amount\"] = sales_dict[\"product4\"]['number of sales'] * sales_dict[\"product4\"][\"price\"]\n",
    "\n",
    "# Print\n",
    "sales_dict"
   ]
  },
  {
   "cell_type": "markdown",
   "metadata": {},
   "source": [
    "## 5. Sets"
   ]
  },
  {
   "cell_type": "markdown",
   "metadata": {},
   "source": [
    ">**Task 5.1**: Write a program that takes as input a phrase - that does not contain any punctuation mark, that is contains only words separated by white spaces - which removes all repeated words and sorts the rest alphabetically. In the end ouput the resulting information. \n",
    ">\n",
    ">*Hint*: You can use list comprehension and try to output its result as a string by using string methods. \n",
    ">\n",
    "> Example:\n",
    "\n",
    "    >Input string: hello again how are you doing bye again\n",
    "    \n",
    "    >Output string: again are bye doing hello how you"
   ]
  },
  {
   "cell_type": "code",
   "execution_count": 254,
   "metadata": {},
   "outputs": [
    {
     "data": {
      "text/plain": [
       "'again are bye doing hello how you'"
      ]
     },
     "execution_count": 254,
     "metadata": {},
     "output_type": "execute_result"
    }
   ],
   "source": [
    "phrase = \"hello again how are you doing bye again\"\n",
    "\n",
    "def funny_function(string):\n",
    "    \n",
    "    # Split the phrase\n",
    "    string = string.split()\n",
    "\n",
    "    # Change to set to remove duplicates, change back to list to sort alphabetically\n",
    "    string = sorted(list(set(string)))\n",
    "\n",
    "    # Join all the strings\n",
    "    string = \" \".join(string)\n",
    "    \n",
    "    return(string)\n",
    "\n",
    "funny_function(phrase)"
   ]
  },
  {
   "cell_type": "markdown",
   "metadata": {},
   "source": [
    "## 6. JSON files"
   ]
  },
  {
   "cell_type": "markdown",
   "metadata": {},
   "source": [
    ">**Task 6.1**: Create a file in your current folder called sodas_data.json that contains the information present on the sodas dataframe and where the information is ordered alphabetically according to SODAS people names. \n",
    ">\n",
    "> *Hint*: it may be a good idea to not use the dataframe directly to write the JSON file. Think about which types of variables are good when working with these types of files - is it lists, dictionaries, tuples, sets, etc.?"
   ]
  },
  {
   "cell_type": "code",
   "execution_count": 273,
   "metadata": {},
   "outputs": [
    {
     "data": {
      "text/plain": [
       "dict_keys(['Anders Blok', 'Andreas Bjerre-Nielsen', 'Anna Helene Kvist Møller', 'Anna Rogers', 'Annika Isfeldt', 'Asger Andersen', 'Asger Hans Thomsen', 'Cathrine Valentin Kjær', 'Clara Rosa Sandbye', 'David Dreyer Lassen', 'Emilie Munch-Gregersen', 'Esben Brøgger Lemminger', 'Eva Iris Otto', 'Frederik Carl Windfeld', 'Frederik Hjorth', 'Friedolin Merhout', 'Germans Savčišens', 'Gregory Eady', 'Helene Willadsen', 'Hjalmar Alexander Bang Carlsen', 'Jonas Skjold Raaschou-Pedersen', 'Jonathan Holm Salka', 'Kelton Ray Minor', 'Kristin Anabel Eggeling', 'Kristoffer Albris', 'Kristoffer Pade Glavind', 'Louise Marie Lausten', 'Malene Hornstrup Jespersen', 'Mette My Madsen', 'Morten Axel Pedersen', 'Nete Schwennesen', 'Nicklas Johansen', 'Patrice Wangen', 'Rebecca Adler-Nissen', 'Robert Böhm', 'Samantha Breslin', 'Sara Vera Marjanovic', 'Sigriður Svala Jónasdóttir', 'Simon Westergaard Lex', 'Snorre Ralund', 'Sofie Læbo Astrupgaard', 'Sophie Smitt Sindrup Grønning', 'Sune Lehmann', 'Søren Kyllingsbæk', 'Terne Sasha Thorn Jakobsen', 'Thyge Enggaard', 'Tobias Priesholm Gårdhus', 'Viktor Due Pedersen', 'Yangliu Fan', 'Yevgeniy Golovchenko', 'Zoe Anna Skovby Burke'])"
      ]
     },
     "execution_count": 273,
     "metadata": {},
     "output_type": "execute_result"
    }
   ],
   "source": [
    "# Import json module\n",
    "import json\n",
    "\n",
    "# get a list with all dictionary items (one item is one researcher)\n",
    "dictionary_items = sodas_people_dict.items()\n",
    "\n",
    "# Sort them alphabetically\n",
    "dictionary_items = sorted(dictionary_items)\n",
    "\n",
    "# Change the list back into a dictionary\n",
    "sodas_data = dict(dictionary_items)\n",
    "\n",
    "# check alphabetic order of the keys\n",
    "sodas_data.keys()"
   ]
  },
  {
   "cell_type": "code",
   "execution_count": 272,
   "metadata": {},
   "outputs": [],
   "source": [
    "# I use the data in a dictionary form, since the structure is the same as json.\n",
    "with open('data/sodas_data.json', 'w') as outfile:\n",
    "    json.dump(sodas_people_dict, outfile)"
   ]
  },
  {
   "cell_type": "markdown",
   "metadata": {},
   "source": [
    "## 7. Daily reflections\n",
    "\n",
    "> **Task 7.1** Take a moment to reflect on your learning experience today and take notes. You _can_ use these prompts to inspire your reflections: \n",
    ">\n",
    "> - What (if anything) did you take away from the lecture and exercise today? \n",
    "> - What concepts, ideas, or topics are still unclear? \n",
    "> - Are there any things you would have wanted to spend less or more time on? What are they?\n",
    "> - Is there anything you have become inspired to follow up on from today's lecture and exercise? Anything you are looking forward to learning more about?"
   ]
  },
  {
   "cell_type": "markdown",
   "metadata": {},
   "source": [
    "- I was really surprised with the difficulty of this exercise. I have some experience with python, but I had to think a lot to get through. That was really nice.\n",
    "- I am getting more used to working with loops and I have learned to use enumerate() and have to counts in a loop (index and content)"
   ]
  },
  {
   "cell_type": "markdown",
   "metadata": {},
   "source": [
    "## _If You Have Time_ RELAX AND TREAT YO SELF\n",
    "\n",
    "![ChillHedgehog](https://media.giphy.com/media/jRvpDcLfozLIonuiaY/giphy-downsized.gif)"
   ]
  },
  {
   "cell_type": "markdown",
   "metadata": {},
   "source": [
    "## 8. Bonus exercise"
   ]
  },
  {
   "cell_type": "markdown",
   "metadata": {},
   "source": [
    ">**Task 8.1**: Write a program that outputs this pattern:\n",
    "\n",
    "(\n",
    "\n",
    "( (\n",
    "\n",
    "( ( (\n",
    "\n",
    "( ( ( (\n",
    "\n",
    "( ( ( ( (\n",
    "\n",
    "( ( ( (\n",
    "\n",
    "( ( (\n",
    "\n",
    "( (\n",
    "\n",
    "("
   ]
  },
  {
   "cell_type": "code",
   "execution_count": null,
   "metadata": {},
   "outputs": [],
   "source": []
  }
 ],
 "metadata": {
  "kernelspec": {
   "display_name": "Python 3",
   "language": "python",
   "name": "python3"
  },
  "language_info": {
   "codemirror_mode": {
    "name": "ipython",
    "version": 3
   },
   "file_extension": ".py",
   "mimetype": "text/x-python",
   "name": "python",
   "nbconvert_exporter": "python",
   "pygments_lexer": "ipython3",
   "version": "3.8.3"
  }
 },
 "nbformat": 4,
 "nbformat_minor": 2
}
