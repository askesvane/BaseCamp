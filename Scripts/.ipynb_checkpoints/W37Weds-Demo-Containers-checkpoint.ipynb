{
 "cells": [
  {
   "cell_type": "code",
   "execution_count": 2,
   "metadata": {},
   "outputs": [
    {
     "data": {
      "text/plain": [
       "' '"
      ]
     },
     "execution_count": 2,
     "metadata": {},
     "output_type": "execute_result"
    }
   ],
   "source": [
    "#Slide 14\n",
    "#Declare string\n",
    "my_string = \"I'm a string!\"\n",
    "\n",
    "#Retrieve a character\n",
    "my_string[3]"
   ]
  },
  {
   "cell_type": "code",
   "execution_count": 3,
   "metadata": {},
   "outputs": [
    {
     "data": {
      "text/plain": [
       "\"'m\""
      ]
     },
     "execution_count": 3,
     "metadata": {},
     "output_type": "execute_result"
    }
   ],
   "source": [
    "#Slide 14\n",
    "#Retrieve a range of characters\n",
    "my_string[1:3]"
   ]
  },
  {
   "cell_type": "code",
   "execution_count": 4,
   "metadata": {},
   "outputs": [
    {
     "data": {
      "text/plain": [
       "['https:', '', 'realpython.com', 'python-lists-tuples', '']"
      ]
     },
     "execution_count": 4,
     "metadata": {},
     "output_type": "execute_result"
    }
   ],
   "source": [
    "#Slide 16\n",
    "#Declare a url\n",
    "my_url = \"https://realpython.com/python-lists-tuples/\"\n",
    "\n",
    "#split the url into a list by the '/' character\n",
    "my_url.split(\"/\")"
   ]
  },
  {
   "cell_type": "code",
   "execution_count": 1,
   "metadata": {},
   "outputs": [
    {
     "name": "stdout",
     "output_type": "stream",
     "text": [
      "{'Friedo': 'Sociology', 'Samantha': 'Anthropology', 'Greg': 'Political Science'}\n"
     ]
    }
   ],
   "source": [
    "#Slide 19\n",
    "#Declare a dictionary of instructors\n",
    "my_dictionary = {'Friedo':'Sociology', \n",
    "                'Samantha': 'Anthropology',\n",
    "                'Greg':'Political Science'}\n",
    "print(my_dictionary)"
   ]
  },
  {
   "cell_type": "code",
   "execution_count": 2,
   "metadata": {},
   "outputs": [
    {
     "ename": "TypeError",
     "evalue": "'type' object is not subscriptable",
     "output_type": "error",
     "traceback": [
      "\u001b[1;31m---------------------------------------------------------------------------\u001b[0m",
      "\u001b[1;31mTypeError\u001b[0m                                 Traceback (most recent call last)",
      "\u001b[1;32m<ipython-input-2-07064cef60fc>\u001b[0m in \u001b[0;36m<module>\u001b[1;34m\u001b[0m\n\u001b[0;32m      2\u001b[0m \u001b[0mstudy\u001b[0m \u001b[1;33m=\u001b[0m \u001b[1;33m[\u001b[0m\u001b[1;34m\"SDS\"\u001b[0m\u001b[1;33m,\u001b[0m \u001b[1;34m\"Sociology\"\u001b[0m\u001b[1;33m,\u001b[0m \u001b[1;34m\"Medicine\"\u001b[0m\u001b[1;33m]\u001b[0m\u001b[1;33m\u001b[0m\u001b[1;33m\u001b[0m\u001b[0m\n\u001b[0;32m      3\u001b[0m \u001b[1;33m\u001b[0m\u001b[0m\n\u001b[1;32m----> 4\u001b[1;33m \u001b[0mdictionary\u001b[0m \u001b[1;33m=\u001b[0m \u001b[0mdict\u001b[0m\u001b[1;33m[\u001b[0m\u001b[0mzip\u001b[0m\u001b[1;33m(\u001b[0m\u001b[0mnames\u001b[0m\u001b[1;33m,\u001b[0m \u001b[0mstudy\u001b[0m\u001b[1;33m)\u001b[0m\u001b[1;33m]\u001b[0m\u001b[1;33m\u001b[0m\u001b[1;33m\u001b[0m\u001b[0m\n\u001b[0m",
      "\u001b[1;31mTypeError\u001b[0m: 'type' object is not subscriptable"
     ]
    }
   ],
   "source": [
    "names = [\"Aske\", \"Sofie\", \"Andreas\"]\n",
    "study = [\"SDS\", \"Sociology\", \"Medicine\"]\n",
    "\n",
    "dictionary = dict[zip(names, study)]"
   ]
  },
  {
   "cell_type": "code",
   "execution_count": 6,
   "metadata": {},
   "outputs": [
    {
     "name": "stdout",
     "output_type": "stream",
     "text": [
      "Political Science\n"
     ]
    }
   ],
   "source": [
    "#Slide 20\n",
    "#Retrieve Greg's discipline\n",
    "print(my_dictionary['Greg'])"
   ]
  },
  {
   "cell_type": "code",
   "execution_count": 7,
   "metadata": {},
   "outputs": [
    {
     "name": "stdout",
     "output_type": "stream",
     "text": [
      "SDS\n"
     ]
    }
   ],
   "source": [
    "#Slide 20\n",
    "\n",
    "my_dictionary['Greg'] = \"SDS\" #This overwrites existing value\n",
    "print(my_dictionary['Greg'])"
   ]
  },
  {
   "cell_type": "code",
   "execution_count": 9,
   "metadata": {},
   "outputs": [
    {
     "name": "stdout",
     "output_type": "stream",
     "text": [
      "dict_keys(['Friedo', 'Samantha', 'Greg'])\n",
      "dict_values(['Sociology', 'Anthropology', 'SDS'])\n"
     ]
    }
   ],
   "source": [
    "#Example of accessing keys and values\n",
    "print(my_dictionary.keys())\n",
    "\n",
    "print(my_dictionary.values())"
   ]
  },
  {
   "cell_type": "code",
   "execution_count": null,
   "metadata": {},
   "outputs": [],
   "source": [
    "#Slide 21\n",
    "#Update dictionary with new key,value\n",
    "my_dictionary.update({'Asger':'SDS'})\n",
    "my_dictionary['Hjalmar'] = 'Sociology'\n",
    "print(my_dictionary)"
   ]
  },
  {
   "cell_type": "code",
   "execution_count": null,
   "metadata": {},
   "outputs": [],
   "source": [
    "#Slide 22\n",
    "#Remove key,value\n",
    "\n",
    "my_dictionary.pop('Greg')\n",
    "print(my_dictionary)\n",
    "print(len(my_dictionary)) # use len() to find number of key,value pairs"
   ]
  },
  {
   "cell_type": "code",
   "execution_count": null,
   "metadata": {},
   "outputs": [],
   "source": [
    "#Slide 23\n",
    "#Create lists\n",
    "keys = ['Samantha', 'Friedo', 'Asger']\n",
    "ages = [103, 78, 85]\n",
    "\n",
    "#zip the lists together\n",
    "key_values = dict(zip(keys, ages))\n",
    "\n",
    "#see the key value pairs\n",
    "print(key_values)\n"
   ]
  },
  {
   "cell_type": "code",
   "execution_count": null,
   "metadata": {},
   "outputs": [],
   "source": [
    "#Slide 24\n",
    "#NOTE: THIS CODE WILL NOT WORK FOR SDS STUDENTS YET\n",
    "#B/C YOU DO NOT HAVE YOUR CREDENTIALS SET UP\n",
    "\n",
    "# SETUP\n",
    "import tweepy\n",
    "# set up authentication for twitter\n",
    "# first, use tweep OAuthHandler function to generate authentification object\n",
    "from AppCred import CONSUMER_KEY, CONSUMER_SECRET\n",
    "from AppCred import ACCESS_TOKEN, ACCESS_TOKEN_SECRET\n",
    "auth = tweepy.OAuthHandler(CONSUMER_KEY, CONSUMER_SECRET)\n",
    "# second, add access token and secret to authentification object\n",
    "auth.set_access_token(ACCESS_TOKEN, ACCESS_TOKEN_SECRET)\n",
    "# finally, generate variable to interact with twitter API\n",
    "api = tweepy.API(auth)"
   ]
  },
  {
   "cell_type": "code",
   "execution_count": null,
   "metadata": {},
   "outputs": [],
   "source": [
    "#Slide 24\n",
    "# get tweets mentioning 'CPH_SODAS'\n",
    "sodas_tweets = api.search(\"CPH_SODAS\", count = 20)\n",
    "\n",
    "print(sodas_tweets)"
   ]
  },
  {
   "cell_type": "code",
   "execution_count": null,
   "metadata": {},
   "outputs": [],
   "source": [
    "#Slide 27\n",
    "#Declare a tuple of instructors\n",
    "instructors = [('Samantha', 'Anthropology', '16.0.05'),\n",
    "               ('Friedo', 'Sociology', ''),\n",
    "               ('Hjalmar', 'Sociology', '')]\n",
    "\n",
    "#access second value of second tuple\n",
    "instructors[1][1]"
   ]
  },
  {
   "cell_type": "code",
   "execution_count": null,
   "metadata": {},
   "outputs": [],
   "source": [
    "#Slide 29\n",
    "#Declaring single element tuples\n",
    "\n",
    "firsttuple = (\"carrot\",)\n",
    "secondtuple = (\"potato\")\n",
    "\n",
    "print(type(firsttuple))\n",
    "print(type(secondtuple))"
   ]
  },
  {
   "cell_type": "code",
   "execution_count": null,
   "metadata": {},
   "outputs": [],
   "source": [
    "#Slide 32\n",
    "#Declaring a set and printing\n",
    "\n",
    "basecamp_teachers = {\"Samantha\",\"Friedo\",\"Asger\",\"Greg\"}\n",
    "\n",
    "print(basecamp_teachers)\n",
    "print(basecamp_teachers)"
   ]
  },
  {
   "cell_type": "code",
   "execution_count": null,
   "metadata": {},
   "outputs": [],
   "source": [
    "#Slide 32\n",
    "#Set with duplicates\n",
    "\n",
    "inventory = {\"paper\",\"pens\",\"pens\",\"erasers\",\"notebooks\"}\n",
    "print(inventory)"
   ]
  },
  {
   "cell_type": "code",
   "execution_count": null,
   "metadata": {},
   "outputs": [],
   "source": [
    "#Slide 32\n",
    "#set with a list\n",
    "mixed_set = {3, ['a','b'], \"string\", 31.5}"
   ]
  },
  {
   "cell_type": "code",
   "execution_count": null,
   "metadata": {},
   "outputs": [],
   "source": [
    "#Slide 32\n",
    "#set with multiple types\n",
    "mixed_set2 = {3, \"string\", 4.1, False}\n",
    "\n",
    "print(mixed_set2)\n",
    "print(type(mixed_set2))"
   ]
  },
  {
   "cell_type": "code",
   "execution_count": 71,
   "metadata": {},
   "outputs": [
    {
     "data": {
      "text/html": [
       "<div>\n",
       "<style scoped>\n",
       "    .dataframe tbody tr th:only-of-type {\n",
       "        vertical-align: middle;\n",
       "    }\n",
       "\n",
       "    .dataframe tbody tr th {\n",
       "        vertical-align: top;\n",
       "    }\n",
       "\n",
       "    .dataframe thead th {\n",
       "        text-align: right;\n",
       "    }\n",
       "</style>\n",
       "<table border=\"1\" class=\"dataframe\">\n",
       "  <thead>\n",
       "    <tr style=\"text-align: right;\">\n",
       "      <th></th>\n",
       "      <th>Name</th>\n",
       "      <th>Age</th>\n",
       "    </tr>\n",
       "  </thead>\n",
       "  <tbody>\n",
       "    <tr>\n",
       "      <td>0</td>\n",
       "      <td>Friedo</td>\n",
       "      <td>85</td>\n",
       "    </tr>\n",
       "    <tr>\n",
       "      <td>1</td>\n",
       "      <td>Samantha</td>\n",
       "      <td>62</td>\n",
       "    </tr>\n",
       "    <tr>\n",
       "      <td>2</td>\n",
       "      <td>Asger</td>\n",
       "      <td>103</td>\n",
       "    </tr>\n",
       "  </tbody>\n",
       "</table>\n",
       "</div>"
      ],
      "text/plain": [
       "       Name  Age\n",
       "0    Friedo   85\n",
       "1  Samantha   62\n",
       "2     Asger  103"
      ]
     },
     "execution_count": 71,
     "metadata": {},
     "output_type": "execute_result"
    }
   ],
   "source": [
    "#Coding hint for Exercise 5.2\n",
    "\n",
    "#Creating an example dataframe\n",
    "import pandas as pd\n",
    " \n",
    "# initialize list of lists\n",
    "data = [['Friedo', 85], ['Samantha', 62], ['Asger', 103]]\n",
    " \n",
    "# Create the pandas DataFrame\n",
    "df = pd.DataFrame(data, columns = ['Name', 'Age'])\n",
    " \n",
    "# print dataframe.\n",
    "df"
   ]
  },
  {
   "cell_type": "code",
   "execution_count": 74,
   "metadata": {},
   "outputs": [],
   "source": [
    "#One option, given names are unique and so can work as an index\n",
    "df = df.set_index('Name')"
   ]
  },
  {
   "cell_type": "code",
   "execution_count": 75,
   "metadata": {},
   "outputs": [
    {
     "data": {
      "text/plain": [
       "85"
      ]
     },
     "execution_count": 75,
     "metadata": {},
     "output_type": "execute_result"
    }
   ],
   "source": [
    "#Access element in dataframe\n",
    "df.loc['Friedo','Age']\n"
   ]
  }
 ],
 "metadata": {
  "kernelspec": {
   "display_name": "Python 3",
   "language": "python",
   "name": "python3"
  },
  "language_info": {
   "codemirror_mode": {
    "name": "ipython",
    "version": 3
   },
   "file_extension": ".py",
   "mimetype": "text/x-python",
   "name": "python",
   "nbconvert_exporter": "python",
   "pygments_lexer": "ipython3",
   "version": "3.8.3"
  }
 },
 "nbformat": 4,
 "nbformat_minor": 2
}
