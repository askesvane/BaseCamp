{
 "cells": [
  {
   "cell_type": "code",
   "execution_count": 4,
   "metadata": {
    "scrolled": true
   },
   "outputs": [
    {
     "name": "stdout",
     "output_type": "stream",
     "text": [
      "a\n",
      "b\n",
      "c\n",
      "d\n"
     ]
    }
   ],
   "source": [
    "#Slide 8\n",
    "\n",
    "char_list = ['a','b','c','d']\n",
    "\n",
    "for element in char_list:\n",
    "    print(element)\n"
   ]
  },
  {
   "cell_type": "code",
   "execution_count": 3,
   "metadata": {},
   "outputs": [
    {
     "data": {
      "text/plain": [
       "range(0, 30)"
      ]
     },
     "execution_count": 3,
     "metadata": {},
     "output_type": "execute_result"
    }
   ],
   "source": []
  },
  {
   "cell_type": "code",
   "execution_count": null,
   "metadata": {},
   "outputs": [],
   "source": [
    "#Slide 8\n",
    "print(element)"
   ]
  },
  {
   "cell_type": "code",
   "execution_count": 5,
   "metadata": {},
   "outputs": [
    {
     "name": "stdout",
     "output_type": "stream",
     "text": [
      "850\n"
     ]
    }
   ],
   "source": [
    "#Slide 9\n",
    "#Calculate sum\n",
    "num_list = [66,23,24,737]\n",
    "\n",
    "sum = 0\n",
    "\n",
    "for element in num_list:\n",
    "    sum = sum + element\n",
    "\n",
    "print(sum)"
   ]
  },
  {
   "cell_type": "markdown",
   "metadata": {},
   "source": [
    "# Coding break\n",
    "Given a list of ages, how would you calculate the average age in the list?\n",
    "\n",
    "Recall that to calculate an average you add the values of all the \telements and then divide by the number of elements. "
   ]
  },
  {
   "cell_type": "code",
   "execution_count": 12,
   "metadata": {},
   "outputs": [
    {
     "name": "stdout",
     "output_type": "stream",
     "text": [
      "The average is 44.33!\n"
     ]
    }
   ],
   "source": [
    "#Slide 11 - Code to be added in class\n",
    "#Calculate average\n",
    "list = [23,54,65,23,87,14]\n",
    "sum_age = 0\n",
    "count = 0\n",
    "for num in list:\n",
    "    sum_age = sum_age + num\n",
    "    count = count + 1\n",
    "    \n",
    "print(f\"The average is {round(sum_age/count,2)}!\")\n",
    "    \n",
    "    "
   ]
  },
  {
   "cell_type": "code",
   "execution_count": null,
   "metadata": {},
   "outputs": [],
   "source": []
  },
  {
   "cell_type": "code",
   "execution_count": 13,
   "metadata": {
    "scrolled": true
   },
   "outputs": [
    {
     "name": "stdout",
     "output_type": "stream",
     "text": [
      "6\n"
     ]
    }
   ],
   "source": [
    "#Slide 12\n",
    "my_var = 0\n",
    "my_var = my_var - 2\n",
    "my_var += 4 # add to variable\n",
    "my_var *= 3 # multiple with variable\n",
    "\n",
    "print(my_var)"
   ]
  },
  {
   "cell_type": "code",
   "execution_count": 14,
   "metadata": {},
   "outputs": [
    {
     "name": "stdout",
     "output_type": "stream",
     "text": [
      "0\n",
      "1\n",
      "2\n",
      "3\n",
      "4\n",
      "5\n",
      "6\n",
      "7\n",
      "8\n",
      "9\n",
      "<class 'range'>\n"
     ]
    }
   ],
   "source": [
    "#Slide 14 - range default vals\n",
    "sequence = range(10)\n",
    "\n",
    "for num in sequence:\n",
    "    print(num)\n",
    "\n",
    "print(type(sequence))\n"
   ]
  },
  {
   "cell_type": "code",
   "execution_count": 15,
   "metadata": {},
   "outputs": [
    {
     "name": "stdout",
     "output_type": "stream",
     "text": [
      "2\n",
      "4\n",
      "6\n",
      "8\n",
      "10\n",
      "12\n",
      "14\n",
      "16\n",
      "18\n"
     ]
    }
   ],
   "source": [
    "#Slide 14 - range with all parameters\n",
    "\n",
    "sequence = range(2,20,2)\n",
    "\n",
    "for num in sequence:\n",
    "    print(num)\n"
   ]
  },
  {
   "cell_type": "code",
   "execution_count": null,
   "metadata": {},
   "outputs": [],
   "source": []
  },
  {
   "cell_type": "code",
   "execution_count": null,
   "metadata": {},
   "outputs": [],
   "source": [
    "#Slide 16\n",
    "while True: \n",
    "    print('Ah!!')"
   ]
  },
  {
   "cell_type": "code",
   "execution_count": 17,
   "metadata": {},
   "outputs": [
    {
     "name": "stdout",
     "output_type": "stream",
     "text": [
      "51.75\n"
     ]
    }
   ],
   "source": [
    "#Slide 17\n",
    "\n",
    "#Calculate average with a while loop\n",
    "#Note that you need a variable to keep track of how long to loop for\n",
    "\n",
    "ages = [33,62,99,13]\n",
    "\n",
    "count = 0\n",
    "sum_age = 0\n",
    "\n",
    "#Loop through the list and sum the ages\n",
    "while count < len(ages):\n",
    "    sum_age = sum_age + ages[count]\n",
    "    \n",
    "    #increase the counter each time through the loop\n",
    "    count = count + 1\n",
    "\n",
    "#divide the sum by the number of ages to calculate the average\n",
    "avg_age = sum_age / len(ages)\n",
    "print(avg_age)"
   ]
  },
  {
   "cell_type": "code",
   "execution_count": 22,
   "metadata": {},
   "outputs": [
    {
     "name": "stdout",
     "output_type": "stream",
     "text": [
      "2\n",
      "not the right number\n",
      "5\n"
     ]
    }
   ],
   "source": [
    "#Slide 18 - Waiting for User Input\n",
    "num = int(input())\n",
    "while num != 5:\n",
    "    print(\"not the right number\")\n",
    "    num = int(input())\n",
    "\n"
   ]
  },
  {
   "cell_type": "code",
   "execution_count": 29,
   "metadata": {},
   "outputs": [
    {
     "data": {
      "text/plain": [
       "1"
      ]
     },
     "execution_count": 29,
     "metadata": {},
     "output_type": "execute_result"
    }
   ],
   "source": []
  },
  {
   "cell_type": "code",
   "execution_count": 32,
   "metadata": {},
   "outputs": [
    {
     "name": "stdout",
     "output_type": "stream",
     "text": [
      "38\n",
      "12\n",
      "36\n",
      "odd number\n"
     ]
    }
   ],
   "source": [
    "#Slide 19 while with continue, break, and else\n",
    "num_list = [38,12,10,36,13]\n",
    "\n",
    "for i in num_list:\n",
    "    if i%2 == 1:\n",
    "        print(\"odd number\")\n",
    "        break\n",
    "    elif i == 10:\n",
    "        continue\n",
    "    print(i)\n",
    "else: # if the loop is broken (break), the else will not be executed. When 'i in num_list' is not 'true' anymore, the 'else' will be executed\n",
    "    print(\"the loop finished\")\n",
    "    \n",
    "    "
   ]
  },
  {
   "cell_type": "code",
   "execution_count": 37,
   "metadata": {},
   "outputs": [
    {
     "name": "stdout",
     "output_type": "stream",
     "text": [
      "An invalid age -99 was entered\n",
      "36.0\n"
     ]
    }
   ],
   "source": [
    "#Slide 21- no comments to reduce lines for tracing\n",
    "\n",
    "ages2 = [33,62,-99,13]\n",
    "count = 0\n",
    "sum_age2 = 0\n",
    "age_count = 0 \n",
    "\n",
    "while count < len(ages2):\n",
    "    if ages2[count] < 0:\n",
    "        print(f\"An invalid age {ages2[count]} was entered\")\n",
    "        count += 1\n",
    "    else:\n",
    "        sum_age2 += ages2[count]\n",
    "        age_count += 1\n",
    "        count += 1\n",
    "\n",
    "avg_age2 = sum_age2 / age_count\n",
    "\n",
    "print(avg_age2)"
   ]
  },
  {
   "cell_type": "code",
   "execution_count": null,
   "metadata": {},
   "outputs": [],
   "source": [
    "#Slide 21 with print statements\n",
    "\n",
    "ages2 = [33,62,-99,13]\n",
    "\n",
    "count = 0\n",
    "sum_age2 = 0\n",
    "\n",
    "#Loop through the list and sum the ages\n",
    "while count < len(ages2):\n",
    "    if ages2[count] < 0:\n",
    "        print(\"An invalid age was entered\")\n",
    "    else:\n",
    "        sum_age2 += ages2[count]\n",
    "        print (sum_age2)\n",
    "    \n",
    "        #increase the counter each time through the loop\n",
    "        count += 1\n",
    "        print(count)\n",
    "\n",
    "#divide the sum by the number of ages to calculate the average\n",
    "avg_age2 = sum_age2 / len(ages2)\n",
    "\n",
    "print(avg_age2)"
   ]
  },
  {
   "cell_type": "markdown",
   "metadata": {},
   "source": [
    "# Thinking/Coding Break\n",
    "Debug the cell below so that it prints out the names of people who are enrolled in 'sdsbc'"
   ]
  },
  {
   "cell_type": "code",
   "execution_count": 49,
   "metadata": {},
   "outputs": [
    {
     "name": "stdout",
     "output_type": "stream",
     "text": [
      "Aron is enrolled in the base camp\n",
      "Chris is enrolled in the base camp\n"
     ]
    }
   ],
   "source": [
    "#Slide 25\n",
    "#Note: Code has bugs - debug code!\n",
    "\n",
    "#dictionary with nested lists of students with enrolled classes\n",
    "classes = {'Alex': ['psych101', 'hist100'],\n",
    "          'Aron': ['anth100', 'sdsbc'],\n",
    "          'Chris': ['sdsbc', 'esds']}\n",
    "\n",
    "#Want to print out who is enrolled in sdsbc\n",
    "\n",
    "#loop through each of the persons\n",
    "for person in classes.keys():\n",
    "    in_bc = False\n",
    "    \n",
    "    #check each of the courses to see if they are enrolled\n",
    "    for course in classes[person]:\n",
    "        if course == 'sdsbc':\n",
    "            in_bc = True\n",
    "    \n",
    "    #if enrolled print out their name and that they are enrolled\n",
    "    if in_bc: \n",
    "        print(person + \" is enrolled in the base camp\")\n",
    "    "
   ]
  },
  {
   "cell_type": "code",
   "execution_count": null,
   "metadata": {},
   "outputs": [],
   "source": []
  },
  {
   "cell_type": "code",
   "execution_count": 50,
   "metadata": {},
   "outputs": [
    {
     "name": "stdout",
     "output_type": "stream",
     "text": [
      "['all', 'capitalized', 'words']\n"
     ]
    }
   ],
   "source": [
    "#Slide 28 - for loop\n",
    "words = ['All','Capitalized','Words']\n",
    "lower_case = []\n",
    "\n",
    "for word in words:\n",
    "    lower_case.append(word.lower())\n",
    "\n",
    "print(lower_case)"
   ]
  },
  {
   "cell_type": "code",
   "execution_count": 54,
   "metadata": {},
   "outputs": [
    {
     "name": "stdout",
     "output_type": "stream",
     "text": [
      "['all', 'capitalized', 'words']\n"
     ]
    }
   ],
   "source": [
    "words = ['All','Capitalized','Words']\n",
    "\n",
    "#Slide 28 - list comprehension\n",
    "lower_case2 = [word.lower() for word in words]\n",
    "print(lower_case2)"
   ]
  },
  {
   "cell_type": "code",
   "execution_count": 55,
   "metadata": {},
   "outputs": [
    {
     "name": "stdout",
     "output_type": "stream",
     "text": [
      "[25, 66, 99]\n"
     ]
    }
   ],
   "source": [
    "#Slide 29 - for loop\n",
    "ages = [25,66,-30, 99]\n",
    "valid_ages = []\n",
    "\n",
    "for age in ages:\n",
    "    if age >= 0:\n",
    "        valid_ages.append(age)\n",
    "\n",
    "print(valid_ages)"
   ]
  },
  {
   "cell_type": "markdown",
   "metadata": {},
   "source": [
    "list = [__expression__ for __i__ in __list__ if __condition__]"
   ]
  },
  {
   "cell_type": "code",
   "execution_count": 56,
   "metadata": {},
   "outputs": [
    {
     "name": "stdout",
     "output_type": "stream",
     "text": [
      "[26, 67, 100]\n"
     ]
    }
   ],
   "source": [
    "#slide 29 - list comprehension\n",
    "\n",
    "valid_ages = [age + 1 for age in ages if age >= 0]\n",
    "print(valid_ages)"
   ]
  },
  {
   "cell_type": "code",
   "execution_count": null,
   "metadata": {},
   "outputs": [],
   "source": []
  }
 ],
 "metadata": {
  "kernelspec": {
   "display_name": "Python 3",
   "language": "python",
   "name": "python3"
  },
  "language_info": {
   "codemirror_mode": {
    "name": "ipython",
    "version": 3
   },
   "file_extension": ".py",
   "mimetype": "text/x-python",
   "name": "python",
   "nbconvert_exporter": "python",
   "pygments_lexer": "ipython3",
   "version": "3.8.3"
  }
 },
 "nbformat": 4,
 "nbformat_minor": 2
}
