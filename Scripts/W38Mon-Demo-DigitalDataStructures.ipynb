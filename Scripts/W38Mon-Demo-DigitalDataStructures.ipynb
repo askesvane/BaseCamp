{
 "cells": [
  {
   "cell_type": "markdown",
   "metadata": {},
   "source": [
    "# W38Mon: Digital Data Structures - Demo\n",
    "\n",
    "Welcome to the Demo Notebook for the SDS Base Camp session on digital data structures.\n",
    "\n",
    "The Demo Notebook mirrors the structure of the lecture, so we will start with HTML and see how we can render it in Jupyter Notebooks and explore it's structure and tags. Then we will explore one example of how to use Cascading Style Sheets in Python. We will close with an example of JSON and how to access data stored in JSON files."
   ]
  },
  {
   "cell_type": "markdown",
   "metadata": {},
   "source": [
    "## 1. HTML"
   ]
  },
  {
   "cell_type": "markdown",
   "metadata": {},
   "source": [
    "As we discussed in the lecture, HTML is the common language used by web pages to structure and format the content they are presenting. This structure uses tags for formatting content and nesting to represent more complex structures. One of the really amazing things about Jupyter Notebooks and HTML is that..."
   ]
  },
  {
   "cell_type": "markdown",
   "metadata": {},
   "source": [
    "<html>\n",
    "<body>\n",
    "\n",
    "<h1>You can render web pages inside Jupyter Notebook markdown cells</h1>\n",
    "<h2>And use most tags, like this sub-heading</h2>\n",
    "\n",
    "\n",
    "<p>This is a lenghty paragraph of text. Lorem ipsum dolor sit amet, consectetur adipiscing elit, sed do eiusmod tempor incididunt ut labore et dolore magna aliqua. Ut enim ad minim veniam, quis nostrud exercitation ullamco laboris nisi ut aliquip ex ea commodo consequat. Duis aute irure dolor in reprehenderit in voluptate velit esse cillum dolore eu fugiat nulla pariatur. Excepteur sint occaecat cupidatat non proident, sunt in culpa qui officia deserunt mollit anim id est laborum.</p>\n",
    "\n",
    "<p>This is another paragraph of text with a text entry box following it.</p>\n",
    "\n",
    "<input type=\"text\" required minlength=\"4\" maxlength=\"8\" size=\"10\">\n",
    "\n",
    "\n",
    "<h2>This is another sub-heading</h2>\n",
    "<p>And one paragraph with some <del>mistakes</del> <ins>corrections</ins> and <em>emphasized</em> words. And once you understand how to use this in practice, I hope this gif is you:</p>\n",
    "<img src=\"https://external-content.duckduckgo.com/iu/?u=https%3A%2F%2Fmedia1.giphy.com%2Fmedia%2Fw370Abr1SDvalxR6vs%2F200.gif%3Fcid%3D790b7611jnk3lv2fd4qvmfhlqraqr55mo1gmgzy1bg1cx7sm%26rid%3D200.gif&f=1&nofb=1\" width=\"200\" height=\"200\">\n",
    "\n",
    "<p>Now for one final pragraph introducing a set of adjectives that might be applicable to how you feel:</p>\n",
    "<ul>\n",
    "    <li>Elated</li>\n",
    "    <li>Enthralled</li>\n",
    "    <li>Flabbergasted</li>\n",
    "</ul>\n",
    "\n",
    "</body>\n",
    "</html>"
   ]
  },
  {
   "cell_type": "markdown",
   "metadata": {},
   "source": [
    "For many purposes, using HTML in your Jupyter Notebook might be overkill. But it is good to know that you can do this, in order to get a better sense of how web pages are built up. For this purpose, we can also print the entire HTML code producing the embedded page above, by simply indenting all of it by one tab."
   ]
  },
  {
   "cell_type": "markdown",
   "metadata": {},
   "source": [
    "    <html>\n",
    "    <body>\n",
    "\n",
    "    <h1>You can render web pages inside Jupyter Notebook markdown cells</h1>\n",
    "    <h2>And use most tags, like this sub-heading</h2>\n",
    "\n",
    "\n",
    "    <p>This is a lenghty paragraph of text. Lorem ipsum dolor sit amet, consectetur adipiscing elit, sed do eiusmod tempor incididunt ut labore et dolore magna aliqua. Ut enim ad minim veniam, quis nostrud exercitation ullamco laboris nisi ut aliquip ex ea commodo consequat. Duis aute irure dolor in reprehenderit in voluptate velit esse cillum dolore eu fugiat nulla pariatur. Excepteur sint occaecat cupidatat non proident, sunt in culpa qui officia deserunt mollit anim id est laborum.</p>\n",
    "\n",
    "    <p>This is another paragraph of text with a text entry box following it.</p>\n",
    "\n",
    "    <input type=\"text\" required minlength=\"4\" maxlength=\"8\" size=\"10\">\n",
    "\n",
    "\n",
    "    <h2>This is another sub-heading</h2>\n",
    "    <p>And one paragraph with some <del>mistakes</del> <ins>corrections</ins> and <em>emphasized</em> words. And once you understand how to use this in practice, I hope this gif is you:</p>\n",
    "    <img src=\"https://external-content.duckduckgo.com/iu/?u=https%3A%2F%2Fmedia1.giphy.com%2Fmedia%2Fw370Abr1SDvalxR6vs%2F200.gif%3Fcid%3D790b7611jnk3lv2fd4qvmfhlqraqr55mo1gmgzy1bg1cx7sm%26rid%3D200.gif&f=1&nofb=1\" width=\"200\" height=\"200\">\n",
    "\n",
    "    <p>Now for one final pragraph introducing a set of adjectives that might be applicable to how you feel:</p>\n",
    "    <ul>\n",
    "        <li>Elated</li>\n",
    "        <li>Enthralled</li>\n",
    "        <li>Flabbergasted</li>\n",
    "    </ul>\n",
    "\n",
    "    </body>\n",
    "    </html>"
   ]
  },
  {
   "cell_type": "markdown",
   "metadata": {},
   "source": [
    "This then allows us to understand how the different tags are used, which comes in handy when we want to collect data from web pages. At the same time, this vanilla HTML is lacking a bit of color and control about presentation, which we gain by using Cascading Style Sheets."
   ]
  },
  {
   "cell_type": "markdown",
   "metadata": {},
   "source": [
    "## 2. CSS"
   ]
  },
  {
   "cell_type": "markdown",
   "metadata": {},
   "source": [
    "With CSS web pages can be made more visually appealing and structured in more meaningful ways. In fact, a number of HTML tags have been abandoned in favor of styling using CSS, one example being the `<center>` tag. Let's look at the html document we introduced above with some additional styling using CSS."
   ]
  },
  {
   "cell_type": "markdown",
   "metadata": {},
   "source": [
    "<html>\n",
    "<body>\n",
    "\n",
    "<h1 style=\"color: #FF0000\"> You can render web pages inside Jupyter Notebook markdown cells</h1>\n",
    "<h2 style=\"text-align: center\">And use most tags, like this sub-heading</h2>\n",
    "<p style=\"font: italic small-caps bold 16px/2 cursive\">This is a lenghty paragraph of text. Lorem ipsum dolor sit amet, consectetur adipiscing elit, sed do eiusmod tempor incididunt ut labore et dolore magna aliqua. Ut enim ad minim veniam, quis nostrud exercitation ullamco laboris nisi ut aliquip ex ea commodo consequat. Duis aute irure dolor in reprehenderit in voluptate velit esse cillum dolore eu fugiat nulla pariatur. Excepteur sint occaecat cupidatat non proident, sunt in culpa qui officia deserunt mollit anim id est laborum.</p>\n",
    "\n",
    "<p>This is another paragraph of text with a text entry box following it.</p>\n",
    "\n",
    "<input type=\"text\" required minlength=\"4\" maxlength=\"8\" size=\"10\">\n",
    "\n",
    "\n",
    "<div class=\"alert alert-warning\">\n",
    "<h2 style=\"text-align: center\">This is another sub-heading</h2>\n",
    "<p>And one paragraph with some <del>mistakes</del> <ins>corrections</ins> and <em>emphasized</em> words. And once you understand how to use this in practice, I hope this gif is you:</p>\n",
    "<img src=\"https://external-content.duckduckgo.com/iu/?u=https%3A%2F%2Fmedia1.giphy.com%2Fmedia%2Fw370Abr1SDvalxR6vs%2F200.gif%3Fcid%3D790b7611jnk3lv2fd4qvmfhlqraqr55mo1gmgzy1bg1cx7sm%26rid%3D200.gif&f=1&nofb=1\" width=\"200\" height=\"200\">\n",
    "\n",
    "<div class=\"alert alert-success\">\n",
    "<p>Now for one final pragraph introducing a set of adjectives that might be applicable to how you feel:</p>\n",
    "<ul>\n",
    "    <li>Elated</li>\n",
    "    <li>Enthralled</li>\n",
    "    <li>Flabbergasted</li>\n",
    "</ul>\n",
    "\n",
    "</div>\n",
    "</div>\n",
    "\n",
    "</body>\n",
    "</html>"
   ]
  },
  {
   "cell_type": "markdown",
   "metadata": {},
   "source": [
    "The underlying HTML and CSS to create this page is displayed below."
   ]
  },
  {
   "cell_type": "markdown",
   "metadata": {},
   "source": [
    "    <html>\n",
    "    <body>\n",
    "\n",
    "    <h1 style=\"color: #FF0000\"> You can render web pages inside Jupyter Notebook markdown cells</h1>\n",
    "    <h2 style=\"text-align: center\">And use most tags, like this sub-heading</h2>\n",
    "    <p style=\"font: italic small-caps bold 16px/2 cursive\">This is a lenghty paragraph of text. Lorem ipsum dolor sit amet, consectetur adipiscing elit, sed do eiusmod tempor incididunt ut labore et dolore magna aliqua. Ut enim ad minim veniam, quis nostrud exercitation ullamco laboris nisi ut aliquip ex ea commodo consequat. Duis aute irure dolor in reprehenderit in voluptate velit esse cillum dolore eu fugiat nulla pariatur. Excepteur sint occaecat cupidatat non proident, sunt in culpa qui officia deserunt mollit anim id est laborum.</p>\n",
    "\n",
    "    <p>This is another paragraph of text with a text entry box following it.</p>\n",
    "\n",
    "    <input type=\"text\" required minlength=\"4\" maxlength=\"8\" size=\"10\">\n",
    "\n",
    "\n",
    "    <div class=\"alert alert-warning\">\n",
    "    <h2 style=\"text-align: center\">This is another sub-heading</h2>\n",
    "    <p>And one paragraph with some <del>mistakes</del> <ins>corrections</ins> and <em>emphasized</em> words. And once you understand how to use this in practice, I hope this gif is you:</p>\n",
    "    <img src=\"https://external-content.duckduckgo.com/iu/?u=https%3A%2F%2Fmedia1.giphy.com%2Fmedia%2Fw370Abr1SDvalxR6vs%2F200.gif%3Fcid%3D790b7611jnk3lv2fd4qvmfhlqraqr55mo1gmgzy1bg1cx7sm%26rid%3D200.gif&f=1&nofb=1\" width=\"200\" height=\"200\">\n",
    "\n",
    "    <div class=\"alert alert-success\">\n",
    "    <p>Now for one final pragraph introducing a set of adjectives that might be applicable to how you feel:</p>\n",
    "    <ul>\n",
    "        <li>Elated</li>\n",
    "        <li>Enthralled</li>\n",
    "        <li>Flabbergasted</li>\n",
    "    </ul>\n",
    "\n",
    "    </div>\n",
    "    </div>\n",
    "\n",
    "    </body>\n",
    "    </html>"
   ]
  },
  {
   "cell_type": "markdown",
   "metadata": {},
   "source": [
    "In this case, we only used inline styling meaning we defined styling attributes within the individual tags. In the wild, you might are more likely to find styling that is set outside of the `<body>` section of the page, such as explicitly in the `<head>` section or implicitely by refering to a separate file with the styling instructions. In such cases, the tags generally use `id` and `class` attributes to link the page content to styles."
   ]
  },
  {
   "cell_type": "markdown",
   "metadata": {},
   "source": [
    "## 3. JSON"
   ]
  },
  {
   "cell_type": "markdown",
   "metadata": {},
   "source": [
    "The final topic we covered in the lecture today was JavaScript Object Notation, a non-tabular data format that is ubiquitous online as it is flexible in terms of data it can contain and easy to work with in many languages. The Python container most akin to JSON data files are dictionaries, and in fact Python transforms JSON files into dictionaries when we are loading them into our session.\n",
    "\n",
    "\n",
    "### Loading and Working with JSON Data\n",
    "To load a JSON data file, we open it like a regular text file and then use the `json` function `load` to assign decode (or translate it to a Python representation of the data) which we can then assign to a file. Let's try this with the file \"bail-etal-2020.json\", which you can find on Absalon. _Note:_ Make sure the file is in the same folder as your Jupyter Notebook."
   ]
  },
  {
   "cell_type": "code",
   "execution_count": 1,
   "metadata": {},
   "outputs": [],
   "source": [
    "# Load module to work with json files and data\n",
    "import json\n",
    "\n",
    "# Read in json file as plain text\n",
    "bail_json = open(\"bail-etal-2020.json\", \"r\")\n",
    "\n",
    "# Decode json file using `load` function\n",
    "bail_dict = json.load(bail_json)"
   ]
  },
  {
   "cell_type": "markdown",
   "metadata": {},
   "source": [
    "Now, you don't need to take my word for it, so let's see what the type of the object `bail_dict` is, which we just created."
   ]
  },
  {
   "cell_type": "code",
   "execution_count": 2,
   "metadata": {},
   "outputs": [
    {
     "data": {
      "text/plain": [
       "dict"
      ]
     },
     "execution_count": 2,
     "metadata": {},
     "output_type": "execute_result"
    }
   ],
   "source": [
    "type(bail_dict)"
   ]
  },
  {
   "cell_type": "markdown",
   "metadata": {},
   "source": [
    "Given our familiarity with dictionaries, we now also know how to get an overview of the attributes in the json file. Let's look at those."
   ]
  },
  {
   "cell_type": "code",
   "execution_count": 3,
   "metadata": {},
   "outputs": [
    {
     "data": {
      "text/plain": [
       "dict_keys(['id', 'identifier', 'persistentUrl', 'protocol', 'authority', 'publisher', 'publicationDate', 'storageIdentifier', 'datasetVersion'])"
      ]
     },
     "execution_count": 3,
     "metadata": {},
     "output_type": "execute_result"
    }
   ],
   "source": [
    "bail_dict.keys()"
   ]
  },
  {
   "cell_type": "markdown",
   "metadata": {},
   "source": [
    "But, as you might have expected, this file has quite a bit of nested data in it. So let's dig one level deeper."
   ]
  },
  {
   "cell_type": "code",
   "execution_count": 4,
   "metadata": {},
   "outputs": [
    {
     "data": {
      "text/plain": [
       "dict_keys(['id', 'datasetId', 'datasetPersistentId', 'storageIdentifier', 'versionNumber', 'versionMinorNumber', 'versionState', 'UNF', 'lastUpdateTime', 'releaseTime', 'createTime', 'license', 'termsOfUse', 'fileAccessRequest', 'metadataBlocks', 'files', 'citation'])"
      ]
     },
     "execution_count": 4,
     "metadata": {},
     "output_type": "execute_result"
    }
   ],
   "source": [
    "bail_dict[\"datasetVersion\"].keys()"
   ]
  },
  {
   "cell_type": "markdown",
   "metadata": {},
   "source": [
    "As we have learned, json files can contain unordered name-value pairs and list-like arrays. To dig all the way to some leaves of our dictionary, we also encounter these."
   ]
  },
  {
   "cell_type": "code",
   "execution_count": 5,
   "metadata": {},
   "outputs": [
    {
     "data": {
      "text/plain": [
       "'Troll Influence Study.Rdata'"
      ]
     },
     "execution_count": 5,
     "metadata": {},
     "output_type": "execute_result"
    }
   ],
   "source": [
    "bail_dict[\"datasetVersion\"][\"files\"][1][\"dataFile\"][\"filename\"]"
   ]
  },
  {
   "cell_type": "markdown",
   "metadata": {},
   "source": [
    "If you've now become interested in where this json file came from, you can find the source [here](https://dataverse.harvard.edu/dataset.xhtml?persistentId=doi:10.7910/DVN/UATZBA)."
   ]
  },
  {
   "cell_type": "markdown",
   "metadata": {},
   "source": [
    "### Creating JSON Data\n",
    "\n",
    "At some point when you collect data, you might also want to share it with others. Json files are a convenient way of doing this and with our knowledge of dictionaries and the functionality from the `json` module, we have all we need.\n",
    "\n",
    "Let's define a dictionary and encode it as json using the `dump` function."
   ]
  },
  {
   "cell_type": "code",
   "execution_count": null,
   "metadata": {},
   "outputs": [],
   "source": [
    "# Define a tasty dictionary\n",
    "potato_tacos = {\"potatoes\":{\"amount\":1000,\"unit\":\"g\",\"at_home\":False},\n",
    "                \"tacos\":{\"amount\":6,\"unit\":\"pieces\",\"at_home\":True},\n",
    "                \"spices\":{\"amount\":25,\"unit\":\"g\",\"at_home\":True}\n",
    "               }\n",
    "\n",
    "# Use dump function to encode it as json and save to a new file\n",
    "with open(\"recipe_shopping_list.json\", \"w\") as json_file:\n",
    "    json.dump(potato_tacos, json_file)"
   ]
  }
 ],
 "metadata": {
  "display_name": "Python 3",
  "kernelspec": {
   "display_name": "Python 3",
   "language": "python",
   "name": "python3"
  },
  "language_info": {
   "codemirror_mode": {
    "name": "ipython",
    "version": 3
   },
   "file_extension": ".py",
   "mimetype": "text/x-python",
   "name": "python",
   "nbconvert_exporter": "python",
   "pygments_lexer": "ipython3",
   "version": "3.8.3"
  },
  "toc": {
   "base_numbering": 1,
   "nav_menu": {},
   "number_sections": false,
   "sideBar": true,
   "skip_h1_title": false,
   "title_cell": "Table of Contents",
   "title_sidebar": "Contents",
   "toc_cell": false,
   "toc_position": {},
   "toc_section_display": true,
   "toc_window_display": true
  },
  "varInspector": {
   "cols": {
    "lenName": 16,
    "lenType": 16,
    "lenVar": 40
   },
   "kernels_config": {
    "python": {
     "delete_cmd_postfix": "",
     "delete_cmd_prefix": "del ",
     "library": "var_list.py",
     "varRefreshCmd": "print(var_dic_list())"
    },
    "r": {
     "delete_cmd_postfix": ") ",
     "delete_cmd_prefix": "rm(",
     "library": "var_list.r",
     "varRefreshCmd": "cat(var_dic_list()) "
    }
   },
   "types_to_exclude": [
    "module",
    "function",
    "builtin_function_or_method",
    "instance",
    "_Feature"
   ],
   "window_display": false
  }
 },
 "nbformat": 4,
 "nbformat_minor": 1
}
